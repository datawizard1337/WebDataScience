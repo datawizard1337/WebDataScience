{
 "cells": [
  {
   "cell_type": "markdown",
   "metadata": {},
   "source": [
    "# 0. Introduction"
   ]
  },
  {
   "cell_type": "markdown",
   "metadata": {},
   "source": [
    "Jupyter notebooks are structured using \"cells\". Each cell may contain executable code, markdown text, or images. Cells can be added using the \"+\" in the menu bar (1). (2) runs a cell, (3) restarts the Python kernel, (4) changes the type of the cell to markdown or code. Click a cell twice to edit it."
   ]
  },
  {
   "cell_type": "markdown",
   "metadata": {},
   "source": [
    "<img src=\"images/01.jpg\"> "
   ]
  },
  {
   "cell_type": "markdown",
   "metadata": {},
   "source": [
    "Important shortcuts:\n",
    "\n",
    "- Shift + Enter to run a cell (code or markdown).\n",
    "- B to insert a new cell below the current cell.\n",
    "- M to change the current cell to Markdown\n",
    "- Y to change the current cell to code.\n",
    "- D + D (twice) to delete the selected cells.\n",
    "- Z to undo changes to cell."
   ]
  },
  {
   "cell_type": "markdown",
   "metadata": {},
   "source": [
    "### Code cells"
   ]
  },
  {
   "cell_type": "markdown",
   "metadata": {},
   "source": [
    "The cell below is a code cell (you can see that because there are \"[  ]\" next to the cell). We can run the code\n",
    "```python\n",
    "print(\"Hello class!\")\n",
    "```\n",
    "by using the play button or using the shortcut \"Shift + Enter\". The output of a cell will be shown directly below."
   ]
  },
  {
   "cell_type": "code",
   "execution_count": 5,
   "metadata": {},
   "outputs": [
    {
     "name": "stdout",
     "output_type": "stream",
     "text": [
      "Hello class!\n"
     ]
    }
   ],
   "source": [
    "print(\"Hello class!\")"
   ]
  },
  {
   "cell_type": "markdown",
   "metadata": {},
   "source": [
    "To comment our code, we can use ```#```."
   ]
  },
  {
   "cell_type": "code",
   "execution_count": 6,
   "metadata": {},
   "outputs": [
    {
     "name": "stdout",
     "output_type": "stream",
     "text": [
      "Hello!\n"
     ]
    }
   ],
   "source": [
    "# this is a code comment\n",
    "print(\"Hello!\")"
   ]
  },
  {
   "cell_type": "markdown",
   "metadata": {},
   "source": [
    "### Help"
   ]
  },
  {
   "cell_type": "markdown",
   "metadata": {},
   "source": [
    "If you need help with a Python command, just add \"?\". So if you want to know more about the Python \"print()\" function just type and execute:\n",
    "```python\n",
    "?print\n",
    "```"
   ]
  },
  {
   "cell_type": "code",
   "execution_count": 10,
   "metadata": {},
   "outputs": [
    {
     "data": {
      "text/plain": [
       "\u001b[1;31mDocstring:\u001b[0m\n",
       "print(value, ..., sep=' ', end='\\n', file=sys.stdout, flush=False)\n",
       "\n",
       "Prints the values to a stream, or to sys.stdout by default.\n",
       "Optional keyword arguments:\n",
       "file:  a file-like object (stream); defaults to the current sys.stdout.\n",
       "sep:   string inserted between values, default a space.\n",
       "end:   string appended after the last value, default a newline.\n",
       "flush: whether to forcibly flush the stream.\n",
       "\u001b[1;31mType:\u001b[0m      builtin_function_or_method\n"
      ]
     },
     "metadata": {},
     "output_type": "display_data"
    }
   ],
   "source": [
    "?print"
   ]
  },
  {
   "cell_type": "markdown",
   "metadata": {},
   "source": [
    "Alternatively you may also type the function in a code cell and press \"shift + tab\"."
   ]
  },
  {
   "cell_type": "markdown",
   "metadata": {},
   "source": [
    "<img src=\"images/02.jpg\">"
   ]
  },
  {
   "cell_type": "markdown",
   "metadata": {},
   "source": [
    "### Python datatypes"
   ]
  },
  {
   "cell_type": "markdown",
   "metadata": {},
   "source": [
    "Python automatically detects the datatypes of your inputs. Below are the four most important datatypes for Python:"
   ]
  },
  {
   "cell_type": "markdown",
   "metadata": {},
   "source": [
    "Float:"
   ]
  },
  {
   "cell_type": "code",
   "execution_count": 28,
   "metadata": {},
   "outputs": [
    {
     "name": "stdout",
     "output_type": "stream",
     "text": [
      "2\n",
      "<class 'int'>\n"
     ]
    }
   ],
   "source": [
    "var = 1.0 + 1.0\n",
    "print(var)\n",
    "print(type(var))"
   ]
  },
  {
   "cell_type": "markdown",
   "metadata": {},
   "source": [
    "Integer:"
   ]
  },
  {
   "cell_type": "code",
   "execution_count": 29,
   "metadata": {},
   "outputs": [
    {
     "name": "stdout",
     "output_type": "stream",
     "text": [
      "2\n",
      "<class 'int'>\n"
     ]
    }
   ],
   "source": [
    "var = 1 + 1\n",
    "print(var)\n",
    "print(type(var))"
   ]
  },
  {
   "cell_type": "markdown",
   "metadata": {},
   "source": [
    "String:"
   ]
  },
  {
   "cell_type": "code",
   "execution_count": 36,
   "metadata": {},
   "outputs": [
    {
     "name": "stdout",
     "output_type": "stream",
     "text": [
      "oneone\n",
      "<class 'str'>\n"
     ]
    }
   ],
   "source": [
    "var = \"one\" + \"one\"\n",
    "print(var)\n",
    "print(type(var))"
   ]
  },
  {
   "cell_type": "markdown",
   "metadata": {},
   "source": [
    "List:"
   ]
  },
  {
   "cell_type": "code",
   "execution_count": 39,
   "metadata": {},
   "outputs": [
    {
     "name": "stdout",
     "output_type": "stream",
     "text": [
      "[1.0, 1, 'one']\n",
      "<class 'list'>\n"
     ]
    }
   ],
   "source": [
    "var = [1.0, 1, \"one\"]\n",
    "print(var)\n",
    "print(type(var))"
   ]
  },
  {
   "cell_type": "markdown",
   "metadata": {},
   "source": [
    "###  <font color='red'>Important:</font>"
   ]
  },
  {
   "cell_type": "markdown",
   "metadata": {},
   "source": [
    "``=`` is used to assign something to a variable and ``==`` is a logical operator, that is used to check if something is equal."
   ]
  },
  {
   "cell_type": "code",
   "execution_count": 44,
   "metadata": {},
   "outputs": [
    {
     "data": {
      "text/plain": [
       "True"
      ]
     },
     "execution_count": 44,
     "metadata": {},
     "output_type": "execute_result"
    }
   ],
   "source": [
    "1 == 2 - 1"
   ]
  },
  {
   "cell_type": "code",
   "execution_count": 45,
   "metadata": {},
   "outputs": [
    {
     "data": {
      "text/plain": [
       "False"
      ]
     },
     "execution_count": 45,
     "metadata": {},
     "output_type": "execute_result"
    }
   ],
   "source": [
    "2 == 2 - 2"
   ]
  },
  {
   "cell_type": "code",
   "execution_count": 48,
   "metadata": {},
   "outputs": [
    {
     "ename": "SyntaxError",
     "evalue": "can't assign to literal (<ipython-input-48-68939cebf312>, line 1)",
     "output_type": "error",
     "traceback": [
      "\u001b[1;36m  File \u001b[1;32m\"<ipython-input-48-68939cebf312>\"\u001b[1;36m, line \u001b[1;32m1\u001b[0m\n\u001b[1;33m    1 = 2 - 1\u001b[0m\n\u001b[1;37m             ^\u001b[0m\n\u001b[1;31mSyntaxError\u001b[0m\u001b[1;31m:\u001b[0m can't assign to literal\n"
     ]
    }
   ],
   "source": [
    "1 = 2 - 1"
   ]
  },
  {
   "cell_type": "code",
   "execution_count": 49,
   "metadata": {},
   "outputs": [],
   "source": [
    "one = 2 - 1"
   ]
  },
  {
   "cell_type": "code",
   "execution_count": 50,
   "metadata": {},
   "outputs": [
    {
     "data": {
      "text/plain": [
       "1"
      ]
     },
     "execution_count": 50,
     "metadata": {},
     "output_type": "execute_result"
    }
   ],
   "source": [
    "one"
   ]
  },
  {
   "cell_type": "code",
   "execution_count": 51,
   "metadata": {},
   "outputs": [
    {
     "data": {
      "text/plain": [
       "True"
      ]
     },
     "execution_count": 51,
     "metadata": {},
     "output_type": "execute_result"
    }
   ],
   "source": [
    "one == 1"
   ]
  },
  {
   "cell_type": "markdown",
   "metadata": {},
   "source": [
    "### Shell commands"
   ]
  },
  {
   "cell_type": "markdown",
   "metadata": {},
   "source": [
    "We can also use code cells to execute shell commands by adding a \"!\". The command \n",
    "```\n",
    "!echo %cd%\n",
    "```\n",
    "will output the current working directory we are in."
   ]
  },
  {
   "cell_type": "code",
   "execution_count": 52,
   "metadata": {},
   "outputs": [
    {
     "name": "stdout",
     "output_type": "stream",
     "text": [
      "C:\\cloud\\jan\\20200305_Darmstadt_Python_Kurs\\notebooks\\01_day\n"
     ]
    }
   ],
   "source": [
    "!echo %cd%"
   ]
  },
  {
   "cell_type": "markdown",
   "metadata": {},
   "source": [
    "If we are missing a Python package, we can install it using pip, the Python package-management system. Just type and execute\n",
    "```\n",
    "!pip install PACKAGENAME\n",
    "```\n",
    "We will be using the Pandas package a lot. So let's install it (if it is now installed already)."
   ]
  },
  {
   "cell_type": "code",
   "execution_count": 53,
   "metadata": {},
   "outputs": [
    {
     "name": "stdout",
     "output_type": "stream",
     "text": [
      "Requirement already satisfied: Pandas in c:\\users\\jan\\appdata\\roaming\\python\\python37\\site-packages (1.2.2)\n",
      "Requirement already satisfied: pytz>=2017.3 in c:\\users\\jan\\anaconda3\\lib\\site-packages (from Pandas) (2019.3)\n",
      "Requirement already satisfied: python-dateutil>=2.7.3 in c:\\users\\jan\\anaconda3\\lib\\site-packages (from Pandas) (2.8.1)\n",
      "Requirement already satisfied: numpy>=1.16.5 in c:\\users\\jan\\anaconda3\\lib\\site-packages (from Pandas) (1.20.1)\n",
      "Requirement already satisfied: six>=1.5 in c:\\users\\jan\\anaconda3\\lib\\site-packages (from python-dateutil>=2.7.3->Pandas) (1.15.0)\n"
     ]
    }
   ],
   "source": [
    "!pip install Pandas"
   ]
  },
  {
   "cell_type": "markdown",
   "metadata": {},
   "source": [
    "# 1. Pandas dataframes"
   ]
  },
  {
   "cell_type": "markdown",
   "metadata": {},
   "source": [
    "### Import modules"
   ]
  },
  {
   "cell_type": "markdown",
   "metadata": {},
   "source": [
    "To use Pandas, we need to import it (we also give it a shorter nickname, because we gonna type its name quite often)."
   ]
  },
  {
   "cell_type": "code",
   "execution_count": 55,
   "metadata": {},
   "outputs": [],
   "source": [
    "import pandas as pd"
   ]
  },
  {
   "cell_type": "markdown",
   "metadata": {},
   "source": [
    "### Pandas"
   ]
  },
  {
   "cell_type": "markdown",
   "metadata": {},
   "source": [
    "Let's have a look at Panda's documentation. Alternatively check out the Pandas website: https://pandas.pydata.org/docs/"
   ]
  },
  {
   "cell_type": "code",
   "execution_count": 56,
   "metadata": {},
   "outputs": [
    {
     "data": {
      "text/plain": [
       "\u001b[1;31mType:\u001b[0m        module\n",
       "\u001b[1;31mString form:\u001b[0m <module 'pandas' from 'C:\\\\Users\\\\Jan\\\\AppData\\\\Roaming\\\\Python\\\\Python37\\\\site-packages\\\\pandas\\\\__init__.py'>\n",
       "\u001b[1;31mFile:\u001b[0m        c:\\users\\jan\\appdata\\roaming\\python\\python37\\site-packages\\pandas\\__init__.py\n",
       "\u001b[1;31mDocstring:\u001b[0m  \n",
       "pandas - a powerful data analysis and manipulation library for Python\n",
       "=====================================================================\n",
       "\n",
       "**pandas** is a Python package providing fast, flexible, and expressive data\n",
       "structures designed to make working with \"relational\" or \"labeled\" data both\n",
       "easy and intuitive. It aims to be the fundamental high-level building block for\n",
       "doing practical, **real world** data analysis in Python. Additionally, it has\n",
       "the broader goal of becoming **the most powerful and flexible open source data\n",
       "analysis / manipulation tool available in any language**. It is already well on\n",
       "its way toward this goal.\n",
       "\n",
       "Main Features\n",
       "-------------\n",
       "Here are just a few of the things that pandas does well:\n",
       "\n",
       "  - Easy handling of missing data in floating point as well as non-floating\n",
       "    point data.\n",
       "  - Size mutability: columns can be inserted and deleted from DataFrame and\n",
       "    higher dimensional objects\n",
       "  - Automatic and explicit data alignment: objects can be explicitly aligned\n",
       "    to a set of labels, or the user can simply ignore the labels and let\n",
       "    `Series`, `DataFrame`, etc. automatically align the data for you in\n",
       "    computations.\n",
       "  - Powerful, flexible group by functionality to perform split-apply-combine\n",
       "    operations on data sets, for both aggregating and transforming data.\n",
       "  - Make it easy to convert ragged, differently-indexed data in other Python\n",
       "    and NumPy data structures into DataFrame objects.\n",
       "  - Intelligent label-based slicing, fancy indexing, and subsetting of large\n",
       "    data sets.\n",
       "  - Intuitive merging and joining data sets.\n",
       "  - Flexible reshaping and pivoting of data sets.\n",
       "  - Hierarchical labeling of axes (possible to have multiple labels per tick).\n",
       "  - Robust IO tools for loading data from flat files (CSV and delimited),\n",
       "    Excel files, databases, and saving/loading data from the ultrafast HDF5\n",
       "    format.\n",
       "  - Time series-specific functionality: date range generation and frequency\n",
       "    conversion, moving window statistics, date shifting and lagging.\n"
      ]
     },
     "metadata": {},
     "output_type": "display_data"
    }
   ],
   "source": [
    "?pd"
   ]
  },
  {
   "cell_type": "markdown",
   "metadata": {},
   "source": [
    "### Reading files and working with dataframes"
   ]
  },
  {
   "cell_type": "markdown",
   "metadata": {},
   "source": [
    "Let's read a comma separated text file by using Panda's \"read_csv()\" function. For that, we need to pass the path to the file we want to read and tell the function that \",\" are used to separate the columns in our file. Pandas will construct a so-called \"dataframe\" from the file."
   ]
  },
  {
   "cell_type": "code",
   "execution_count": 58,
   "metadata": {},
   "outputs": [
    {
     "data": {
      "text/html": [
       "<div>\n",
       "<style scoped>\n",
       "    .dataframe tbody tr th:only-of-type {\n",
       "        vertical-align: middle;\n",
       "    }\n",
       "\n",
       "    .dataframe tbody tr th {\n",
       "        vertical-align: top;\n",
       "    }\n",
       "\n",
       "    .dataframe thead th {\n",
       "        text-align: right;\n",
       "    }\n",
       "</style>\n",
       "<table border=\"1\" class=\"dataframe\">\n",
       "  <thead>\n",
       "    <tr style=\"text-align: right;\">\n",
       "      <th></th>\n",
       "      <th>world_rank</th>\n",
       "      <th>university_name</th>\n",
       "      <th>country</th>\n",
       "      <th>teaching</th>\n",
       "      <th>international</th>\n",
       "      <th>research</th>\n",
       "      <th>citations</th>\n",
       "      <th>income</th>\n",
       "      <th>total_score</th>\n",
       "      <th>num_students</th>\n",
       "      <th>student_staff_ratio</th>\n",
       "      <th>international_students</th>\n",
       "      <th>female_male_ratio</th>\n",
       "      <th>year</th>\n",
       "    </tr>\n",
       "  </thead>\n",
       "  <tbody>\n",
       "    <tr>\n",
       "      <th>0</th>\n",
       "      <td>1</td>\n",
       "      <td>Harvard University</td>\n",
       "      <td>United States of America</td>\n",
       "      <td>99.7</td>\n",
       "      <td>72.4</td>\n",
       "      <td>98.7</td>\n",
       "      <td>98.8</td>\n",
       "      <td>34.5</td>\n",
       "      <td>96.1</td>\n",
       "      <td>20,152</td>\n",
       "      <td>8.9</td>\n",
       "      <td>25%</td>\n",
       "      <td>NaN</td>\n",
       "      <td>2011</td>\n",
       "    </tr>\n",
       "    <tr>\n",
       "      <th>1</th>\n",
       "      <td>2</td>\n",
       "      <td>California Institute of Technology</td>\n",
       "      <td>United States of America</td>\n",
       "      <td>97.7</td>\n",
       "      <td>54.6</td>\n",
       "      <td>98.0</td>\n",
       "      <td>99.9</td>\n",
       "      <td>83.7</td>\n",
       "      <td>96.0</td>\n",
       "      <td>2,243</td>\n",
       "      <td>6.9</td>\n",
       "      <td>27%</td>\n",
       "      <td>33 : 67</td>\n",
       "      <td>2011</td>\n",
       "    </tr>\n",
       "    <tr>\n",
       "      <th>2</th>\n",
       "      <td>3</td>\n",
       "      <td>Massachusetts Institute of Technology</td>\n",
       "      <td>United States of America</td>\n",
       "      <td>97.8</td>\n",
       "      <td>82.3</td>\n",
       "      <td>91.4</td>\n",
       "      <td>99.9</td>\n",
       "      <td>87.5</td>\n",
       "      <td>95.6</td>\n",
       "      <td>11,074</td>\n",
       "      <td>9.0</td>\n",
       "      <td>33%</td>\n",
       "      <td>37 : 63</td>\n",
       "      <td>2011</td>\n",
       "    </tr>\n",
       "    <tr>\n",
       "      <th>3</th>\n",
       "      <td>4</td>\n",
       "      <td>Stanford University</td>\n",
       "      <td>United States of America</td>\n",
       "      <td>98.3</td>\n",
       "      <td>29.5</td>\n",
       "      <td>98.1</td>\n",
       "      <td>99.2</td>\n",
       "      <td>64.3</td>\n",
       "      <td>94.3</td>\n",
       "      <td>15,596</td>\n",
       "      <td>7.8</td>\n",
       "      <td>22%</td>\n",
       "      <td>42 : 58</td>\n",
       "      <td>2011</td>\n",
       "    </tr>\n",
       "    <tr>\n",
       "      <th>4</th>\n",
       "      <td>5</td>\n",
       "      <td>Princeton University</td>\n",
       "      <td>United States of America</td>\n",
       "      <td>90.9</td>\n",
       "      <td>70.3</td>\n",
       "      <td>95.4</td>\n",
       "      <td>99.9</td>\n",
       "      <td>-</td>\n",
       "      <td>94.2</td>\n",
       "      <td>7,929</td>\n",
       "      <td>8.4</td>\n",
       "      <td>27%</td>\n",
       "      <td>45 : 55</td>\n",
       "      <td>2011</td>\n",
       "    </tr>\n",
       "    <tr>\n",
       "      <th>...</th>\n",
       "      <td>...</td>\n",
       "      <td>...</td>\n",
       "      <td>...</td>\n",
       "      <td>...</td>\n",
       "      <td>...</td>\n",
       "      <td>...</td>\n",
       "      <td>...</td>\n",
       "      <td>...</td>\n",
       "      <td>...</td>\n",
       "      <td>...</td>\n",
       "      <td>...</td>\n",
       "      <td>...</td>\n",
       "      <td>...</td>\n",
       "      <td>...</td>\n",
       "    </tr>\n",
       "    <tr>\n",
       "      <th>2598</th>\n",
       "      <td>601-800</td>\n",
       "      <td>Yeungnam University</td>\n",
       "      <td>South Korea</td>\n",
       "      <td>18.6</td>\n",
       "      <td>24.3</td>\n",
       "      <td>10.9</td>\n",
       "      <td>26.5</td>\n",
       "      <td>35.4</td>\n",
       "      <td>-</td>\n",
       "      <td>21,958</td>\n",
       "      <td>15.3</td>\n",
       "      <td>3%</td>\n",
       "      <td>48 : 52</td>\n",
       "      <td>2016</td>\n",
       "    </tr>\n",
       "    <tr>\n",
       "      <th>2599</th>\n",
       "      <td>601-800</td>\n",
       "      <td>Yıldız Technical University</td>\n",
       "      <td>Turkey</td>\n",
       "      <td>14.5</td>\n",
       "      <td>14.9</td>\n",
       "      <td>7.6</td>\n",
       "      <td>19.3</td>\n",
       "      <td>44.0</td>\n",
       "      <td>-</td>\n",
       "      <td>31,268</td>\n",
       "      <td>28.7</td>\n",
       "      <td>2%</td>\n",
       "      <td>36 : 64</td>\n",
       "      <td>2016</td>\n",
       "    </tr>\n",
       "    <tr>\n",
       "      <th>2600</th>\n",
       "      <td>601-800</td>\n",
       "      <td>Yokohama City University</td>\n",
       "      <td>Japan</td>\n",
       "      <td>24.0</td>\n",
       "      <td>16.1</td>\n",
       "      <td>10.2</td>\n",
       "      <td>36.4</td>\n",
       "      <td>37.9</td>\n",
       "      <td>-</td>\n",
       "      <td>4,122</td>\n",
       "      <td>3.7</td>\n",
       "      <td>3%</td>\n",
       "      <td>NaN</td>\n",
       "      <td>2016</td>\n",
       "    </tr>\n",
       "    <tr>\n",
       "      <th>2601</th>\n",
       "      <td>601-800</td>\n",
       "      <td>Yokohama National University</td>\n",
       "      <td>Japan</td>\n",
       "      <td>20.1</td>\n",
       "      <td>23.3</td>\n",
       "      <td>16.0</td>\n",
       "      <td>13.5</td>\n",
       "      <td>40.4</td>\n",
       "      <td>-</td>\n",
       "      <td>10,117</td>\n",
       "      <td>12.1</td>\n",
       "      <td>8%</td>\n",
       "      <td>28 : 72</td>\n",
       "      <td>2016</td>\n",
       "    </tr>\n",
       "    <tr>\n",
       "      <th>2602</th>\n",
       "      <td>601-800</td>\n",
       "      <td>Yuan Ze University</td>\n",
       "      <td>Taiwan</td>\n",
       "      <td>16.2</td>\n",
       "      <td>17.7</td>\n",
       "      <td>18.3</td>\n",
       "      <td>28.6</td>\n",
       "      <td>39.8</td>\n",
       "      <td>-</td>\n",
       "      <td>8,663</td>\n",
       "      <td>20.6</td>\n",
       "      <td>4%</td>\n",
       "      <td>43 : 57</td>\n",
       "      <td>2016</td>\n",
       "    </tr>\n",
       "  </tbody>\n",
       "</table>\n",
       "<p>2603 rows × 14 columns</p>\n",
       "</div>"
      ],
      "text/plain": [
       "     world_rank                        university_name  \\\n",
       "0             1                     Harvard University   \n",
       "1             2     California Institute of Technology   \n",
       "2             3  Massachusetts Institute of Technology   \n",
       "3             4                    Stanford University   \n",
       "4             5                   Princeton University   \n",
       "...         ...                                    ...   \n",
       "2598    601-800                    Yeungnam University   \n",
       "2599    601-800            Yıldız Technical University   \n",
       "2600    601-800               Yokohama City University   \n",
       "2601    601-800           Yokohama National University   \n",
       "2602    601-800                     Yuan Ze University   \n",
       "\n",
       "                       country  teaching international  research  citations  \\\n",
       "0     United States of America      99.7          72.4      98.7       98.8   \n",
       "1     United States of America      97.7          54.6      98.0       99.9   \n",
       "2     United States of America      97.8          82.3      91.4       99.9   \n",
       "3     United States of America      98.3          29.5      98.1       99.2   \n",
       "4     United States of America      90.9          70.3      95.4       99.9   \n",
       "...                        ...       ...           ...       ...        ...   \n",
       "2598               South Korea      18.6          24.3      10.9       26.5   \n",
       "2599                    Turkey      14.5          14.9       7.6       19.3   \n",
       "2600                     Japan      24.0          16.1      10.2       36.4   \n",
       "2601                     Japan      20.1          23.3      16.0       13.5   \n",
       "2602                    Taiwan      16.2          17.7      18.3       28.6   \n",
       "\n",
       "     income total_score num_students  student_staff_ratio  \\\n",
       "0      34.5        96.1       20,152                  8.9   \n",
       "1      83.7        96.0        2,243                  6.9   \n",
       "2      87.5        95.6       11,074                  9.0   \n",
       "3      64.3        94.3       15,596                  7.8   \n",
       "4         -        94.2        7,929                  8.4   \n",
       "...     ...         ...          ...                  ...   \n",
       "2598   35.4           -       21,958                 15.3   \n",
       "2599   44.0           -       31,268                 28.7   \n",
       "2600   37.9           -        4,122                  3.7   \n",
       "2601   40.4           -       10,117                 12.1   \n",
       "2602   39.8           -        8,663                 20.6   \n",
       "\n",
       "     international_students female_male_ratio  year  \n",
       "0                       25%               NaN  2011  \n",
       "1                       27%           33 : 67  2011  \n",
       "2                       33%           37 : 63  2011  \n",
       "3                       22%           42 : 58  2011  \n",
       "4                       27%           45 : 55  2011  \n",
       "...                     ...               ...   ...  \n",
       "2598                     3%           48 : 52  2016  \n",
       "2599                     2%           36 : 64  2016  \n",
       "2600                     3%               NaN  2016  \n",
       "2601                     8%           28 : 72  2016  \n",
       "2602                     4%           43 : 57  2016  \n",
       "\n",
       "[2603 rows x 14 columns]"
      ]
     },
     "execution_count": 58,
     "metadata": {},
     "output_type": "execute_result"
    }
   ],
   "source": [
    "pd.read_csv(\"times_university_data.csv\", sep=\",\")"
   ]
  },
  {
   "cell_type": "markdown",
   "metadata": {},
   "source": [
    "Let's assign that dataframe to a variable, which we can use for further analysis. This code cell will produce no visible output."
   ]
  },
  {
   "cell_type": "code",
   "execution_count": 59,
   "metadata": {},
   "outputs": [],
   "source": [
    "df = pd.read_csv(\"times_university_data.csv\", sep=\",\")"
   ]
  },
  {
   "cell_type": "markdown",
   "metadata": {},
   "source": [
    "Now we can use this variable to, for example, show only the first two lines of the dataframe."
   ]
  },
  {
   "cell_type": "code",
   "execution_count": 61,
   "metadata": {},
   "outputs": [
    {
     "data": {
      "text/html": [
       "<div>\n",
       "<style scoped>\n",
       "    .dataframe tbody tr th:only-of-type {\n",
       "        vertical-align: middle;\n",
       "    }\n",
       "\n",
       "    .dataframe tbody tr th {\n",
       "        vertical-align: top;\n",
       "    }\n",
       "\n",
       "    .dataframe thead th {\n",
       "        text-align: right;\n",
       "    }\n",
       "</style>\n",
       "<table border=\"1\" class=\"dataframe\">\n",
       "  <thead>\n",
       "    <tr style=\"text-align: right;\">\n",
       "      <th></th>\n",
       "      <th>world_rank</th>\n",
       "      <th>university_name</th>\n",
       "      <th>country</th>\n",
       "      <th>teaching</th>\n",
       "      <th>international</th>\n",
       "      <th>research</th>\n",
       "      <th>citations</th>\n",
       "      <th>income</th>\n",
       "      <th>total_score</th>\n",
       "      <th>num_students</th>\n",
       "      <th>student_staff_ratio</th>\n",
       "      <th>international_students</th>\n",
       "      <th>female_male_ratio</th>\n",
       "      <th>year</th>\n",
       "    </tr>\n",
       "  </thead>\n",
       "  <tbody>\n",
       "    <tr>\n",
       "      <th>0</th>\n",
       "      <td>1</td>\n",
       "      <td>Harvard University</td>\n",
       "      <td>United States of America</td>\n",
       "      <td>99.7</td>\n",
       "      <td>72.4</td>\n",
       "      <td>98.7</td>\n",
       "      <td>98.8</td>\n",
       "      <td>34.5</td>\n",
       "      <td>96.1</td>\n",
       "      <td>20,152</td>\n",
       "      <td>8.9</td>\n",
       "      <td>25%</td>\n",
       "      <td>NaN</td>\n",
       "      <td>2011</td>\n",
       "    </tr>\n",
       "    <tr>\n",
       "      <th>1</th>\n",
       "      <td>2</td>\n",
       "      <td>California Institute of Technology</td>\n",
       "      <td>United States of America</td>\n",
       "      <td>97.7</td>\n",
       "      <td>54.6</td>\n",
       "      <td>98.0</td>\n",
       "      <td>99.9</td>\n",
       "      <td>83.7</td>\n",
       "      <td>96.0</td>\n",
       "      <td>2,243</td>\n",
       "      <td>6.9</td>\n",
       "      <td>27%</td>\n",
       "      <td>33 : 67</td>\n",
       "      <td>2011</td>\n",
       "    </tr>\n",
       "  </tbody>\n",
       "</table>\n",
       "</div>"
      ],
      "text/plain": [
       "  world_rank                     university_name                   country  \\\n",
       "0          1                  Harvard University  United States of America   \n",
       "1          2  California Institute of Technology  United States of America   \n",
       "\n",
       "   teaching international  research  citations income total_score  \\\n",
       "0      99.7          72.4      98.7       98.8   34.5        96.1   \n",
       "1      97.7          54.6      98.0       99.9   83.7        96.0   \n",
       "\n",
       "  num_students  student_staff_ratio international_students female_male_ratio  \\\n",
       "0       20,152                  8.9                    25%               NaN   \n",
       "1        2,243                  6.9                    27%           33 : 67   \n",
       "\n",
       "   year  \n",
       "0  2011  \n",
       "1  2011  "
      ]
     },
     "execution_count": 61,
     "metadata": {},
     "output_type": "execute_result"
    }
   ],
   "source": [
    "df.head(2)"
   ]
  },
  {
   "cell_type": "markdown",
   "metadata": {},
   "source": [
    "We can also have a look at the last two lines of the dataframe."
   ]
  },
  {
   "cell_type": "code",
   "execution_count": 62,
   "metadata": {},
   "outputs": [
    {
     "data": {
      "text/html": [
       "<div>\n",
       "<style scoped>\n",
       "    .dataframe tbody tr th:only-of-type {\n",
       "        vertical-align: middle;\n",
       "    }\n",
       "\n",
       "    .dataframe tbody tr th {\n",
       "        vertical-align: top;\n",
       "    }\n",
       "\n",
       "    .dataframe thead th {\n",
       "        text-align: right;\n",
       "    }\n",
       "</style>\n",
       "<table border=\"1\" class=\"dataframe\">\n",
       "  <thead>\n",
       "    <tr style=\"text-align: right;\">\n",
       "      <th></th>\n",
       "      <th>world_rank</th>\n",
       "      <th>university_name</th>\n",
       "      <th>country</th>\n",
       "      <th>teaching</th>\n",
       "      <th>international</th>\n",
       "      <th>research</th>\n",
       "      <th>citations</th>\n",
       "      <th>income</th>\n",
       "      <th>total_score</th>\n",
       "      <th>num_students</th>\n",
       "      <th>student_staff_ratio</th>\n",
       "      <th>international_students</th>\n",
       "      <th>female_male_ratio</th>\n",
       "      <th>year</th>\n",
       "    </tr>\n",
       "  </thead>\n",
       "  <tbody>\n",
       "    <tr>\n",
       "      <th>2601</th>\n",
       "      <td>601-800</td>\n",
       "      <td>Yokohama National University</td>\n",
       "      <td>Japan</td>\n",
       "      <td>20.1</td>\n",
       "      <td>23.3</td>\n",
       "      <td>16.0</td>\n",
       "      <td>13.5</td>\n",
       "      <td>40.4</td>\n",
       "      <td>-</td>\n",
       "      <td>10,117</td>\n",
       "      <td>12.1</td>\n",
       "      <td>8%</td>\n",
       "      <td>28 : 72</td>\n",
       "      <td>2016</td>\n",
       "    </tr>\n",
       "    <tr>\n",
       "      <th>2602</th>\n",
       "      <td>601-800</td>\n",
       "      <td>Yuan Ze University</td>\n",
       "      <td>Taiwan</td>\n",
       "      <td>16.2</td>\n",
       "      <td>17.7</td>\n",
       "      <td>18.3</td>\n",
       "      <td>28.6</td>\n",
       "      <td>39.8</td>\n",
       "      <td>-</td>\n",
       "      <td>8,663</td>\n",
       "      <td>20.6</td>\n",
       "      <td>4%</td>\n",
       "      <td>43 : 57</td>\n",
       "      <td>2016</td>\n",
       "    </tr>\n",
       "  </tbody>\n",
       "</table>\n",
       "</div>"
      ],
      "text/plain": [
       "     world_rank               university_name country  teaching international  \\\n",
       "2601    601-800  Yokohama National University   Japan      20.1          23.3   \n",
       "2602    601-800            Yuan Ze University  Taiwan      16.2          17.7   \n",
       "\n",
       "      research  citations income total_score num_students  \\\n",
       "2601      16.0       13.5   40.4           -       10,117   \n",
       "2602      18.3       28.6   39.8           -        8,663   \n",
       "\n",
       "      student_staff_ratio international_students female_male_ratio  year  \n",
       "2601                 12.1                     8%           28 : 72  2016  \n",
       "2602                 20.6                     4%           43 : 57  2016  "
      ]
     },
     "execution_count": 62,
     "metadata": {},
     "output_type": "execute_result"
    }
   ],
   "source": [
    "df.tail(2)"
   ]
  },
  {
   "cell_type": "markdown",
   "metadata": {},
   "source": [
    "Alternatively, we can have a look at a random line by sampling a single observation from our dataset."
   ]
  },
  {
   "cell_type": "code",
   "execution_count": 71,
   "metadata": {},
   "outputs": [
    {
     "data": {
      "text/html": [
       "<div>\n",
       "<style scoped>\n",
       "    .dataframe tbody tr th:only-of-type {\n",
       "        vertical-align: middle;\n",
       "    }\n",
       "\n",
       "    .dataframe tbody tr th {\n",
       "        vertical-align: top;\n",
       "    }\n",
       "\n",
       "    .dataframe thead th {\n",
       "        text-align: right;\n",
       "    }\n",
       "</style>\n",
       "<table border=\"1\" class=\"dataframe\">\n",
       "  <thead>\n",
       "    <tr style=\"text-align: right;\">\n",
       "      <th></th>\n",
       "      <th>world_rank</th>\n",
       "      <th>university_name</th>\n",
       "      <th>country</th>\n",
       "      <th>teaching</th>\n",
       "      <th>international</th>\n",
       "      <th>research</th>\n",
       "      <th>citations</th>\n",
       "      <th>income</th>\n",
       "      <th>total_score</th>\n",
       "      <th>num_students</th>\n",
       "      <th>student_staff_ratio</th>\n",
       "      <th>international_students</th>\n",
       "      <th>female_male_ratio</th>\n",
       "      <th>year</th>\n",
       "    </tr>\n",
       "  </thead>\n",
       "  <tbody>\n",
       "    <tr>\n",
       "      <th>1511</th>\n",
       "      <td>109</td>\n",
       "      <td>University of New South Wales</td>\n",
       "      <td>Australia</td>\n",
       "      <td>41.1</td>\n",
       "      <td>83.5</td>\n",
       "      <td>51.9</td>\n",
       "      <td>61.1</td>\n",
       "      <td>47.8</td>\n",
       "      <td>53.7</td>\n",
       "      <td>38,309</td>\n",
       "      <td>25.9</td>\n",
       "      <td>33%</td>\n",
       "      <td>47 : 53</td>\n",
       "      <td>2015</td>\n",
       "    </tr>\n",
       "  </tbody>\n",
       "</table>\n",
       "</div>"
      ],
      "text/plain": [
       "     world_rank                university_name    country  teaching  \\\n",
       "1511        109  University of New South Wales  Australia      41.1   \n",
       "\n",
       "     international  research  citations income total_score num_students  \\\n",
       "1511          83.5      51.9       61.1   47.8        53.7       38,309   \n",
       "\n",
       "      student_staff_ratio international_students female_male_ratio  year  \n",
       "1511                 25.9                    33%           47 : 53  2015  "
      ]
     },
     "execution_count": 71,
     "metadata": {},
     "output_type": "execute_result"
    }
   ],
   "source": [
    "df.sample(1)"
   ]
  },
  {
   "cell_type": "markdown",
   "metadata": {},
   "source": [
    "If we want to know the shape of a dataframe, we can to the following."
   ]
  },
  {
   "cell_type": "code",
   "execution_count": 72,
   "metadata": {},
   "outputs": [
    {
     "data": {
      "text/plain": [
       "(2603, 14)"
      ]
     },
     "execution_count": 72,
     "metadata": {},
     "output_type": "execute_result"
    }
   ],
   "source": [
    "df.shape"
   ]
  },
  {
   "cell_type": "markdown",
   "metadata": {},
   "source": [
    "This means we have 2603 rows and 14 columns."
   ]
  },
  {
   "cell_type": "markdown",
   "metadata": {},
   "source": [
    "### Working with dataframe columns"
   ]
  },
  {
   "cell_type": "markdown",
   "metadata": {},
   "source": [
    "Let's have a look at the columns in our dataframe."
   ]
  },
  {
   "cell_type": "code",
   "execution_count": 80,
   "metadata": {},
   "outputs": [
    {
     "data": {
      "text/plain": [
       "Index(['world_rank', 'university_name', 'country', 'teaching', 'international',\n",
       "       'research', 'citations', 'income', 'total_score', 'num_students',\n",
       "       'student_staff_ratio', 'international_students', 'female_male_ratio',\n",
       "       'year'],\n",
       "      dtype='object')"
      ]
     },
     "execution_count": 80,
     "metadata": {},
     "output_type": "execute_result"
    }
   ],
   "source": [
    "df.columns"
   ]
  },
  {
   "cell_type": "markdown",
   "metadata": {},
   "source": [
    "Each column may be a different datatype:\n",
    "- object: Usually text (string), sometimes things like lists.\n",
    "- float64: Floating point numbers.\n",
    "- int64: Integer numbers."
   ]
  },
  {
   "cell_type": "code",
   "execution_count": 82,
   "metadata": {},
   "outputs": [
    {
     "data": {
      "text/plain": [
       "world_rank                 object\n",
       "university_name            object\n",
       "country                    object\n",
       "teaching                  float64\n",
       "international              object\n",
       "research                  float64\n",
       "citations                 float64\n",
       "income                     object\n",
       "total_score                object\n",
       "num_students               object\n",
       "student_staff_ratio       float64\n",
       "international_students     object\n",
       "female_male_ratio          object\n",
       "year                        int64\n",
       "dtype: object"
      ]
     },
     "execution_count": 82,
     "metadata": {},
     "output_type": "execute_result"
    }
   ],
   "source": [
    "df.dtypes"
   ]
  },
  {
   "cell_type": "markdown",
   "metadata": {},
   "source": [
    "Back to our dataframe. To access a column, we have to use indexing like here. You can auto-complete column names by starting to type the name and hit the tab key."
   ]
  },
  {
   "cell_type": "code",
   "execution_count": 89,
   "metadata": {},
   "outputs": [
    {
     "data": {
      "text/plain": [
       "0        8.9\n",
       "1        6.9\n",
       "2        9.0\n",
       "3        7.8\n",
       "4        8.4\n",
       "        ... \n",
       "2598    15.3\n",
       "2599    28.7\n",
       "2600     3.7\n",
       "2601    12.1\n",
       "2602    20.6\n",
       "Name: student_staff_ratio, Length: 2603, dtype: float64"
      ]
     },
     "execution_count": 89,
     "metadata": {},
     "output_type": "execute_result"
    }
   ],
   "source": [
    "df[\"student_staff_ratio\"]"
   ]
  },
  {
   "cell_type": "code",
   "execution_count": null,
   "metadata": {},
   "outputs": [],
   "source": [
    "df[\"student_staff_ratio\"]"
   ]
  },
  {
   "cell_type": "markdown",
   "metadata": {},
   "source": [
    "To access several columns at once, use a list of column names."
   ]
  },
  {
   "cell_type": "code",
   "execution_count": 92,
   "metadata": {},
   "outputs": [
    {
     "data": {
      "text/html": [
       "<div>\n",
       "<style scoped>\n",
       "    .dataframe tbody tr th:only-of-type {\n",
       "        vertical-align: middle;\n",
       "    }\n",
       "\n",
       "    .dataframe tbody tr th {\n",
       "        vertical-align: top;\n",
       "    }\n",
       "\n",
       "    .dataframe thead th {\n",
       "        text-align: right;\n",
       "    }\n",
       "</style>\n",
       "<table border=\"1\" class=\"dataframe\">\n",
       "  <thead>\n",
       "    <tr style=\"text-align: right;\">\n",
       "      <th></th>\n",
       "      <th>university_name</th>\n",
       "      <th>student_staff_ratio</th>\n",
       "    </tr>\n",
       "  </thead>\n",
       "  <tbody>\n",
       "    <tr>\n",
       "      <th>0</th>\n",
       "      <td>Harvard University</td>\n",
       "      <td>8.9</td>\n",
       "    </tr>\n",
       "    <tr>\n",
       "      <th>1</th>\n",
       "      <td>California Institute of Technology</td>\n",
       "      <td>6.9</td>\n",
       "    </tr>\n",
       "    <tr>\n",
       "      <th>2</th>\n",
       "      <td>Massachusetts Institute of Technology</td>\n",
       "      <td>9.0</td>\n",
       "    </tr>\n",
       "    <tr>\n",
       "      <th>3</th>\n",
       "      <td>Stanford University</td>\n",
       "      <td>7.8</td>\n",
       "    </tr>\n",
       "    <tr>\n",
       "      <th>4</th>\n",
       "      <td>Princeton University</td>\n",
       "      <td>8.4</td>\n",
       "    </tr>\n",
       "    <tr>\n",
       "      <th>...</th>\n",
       "      <td>...</td>\n",
       "      <td>...</td>\n",
       "    </tr>\n",
       "    <tr>\n",
       "      <th>2598</th>\n",
       "      <td>Yeungnam University</td>\n",
       "      <td>15.3</td>\n",
       "    </tr>\n",
       "    <tr>\n",
       "      <th>2599</th>\n",
       "      <td>Yıldız Technical University</td>\n",
       "      <td>28.7</td>\n",
       "    </tr>\n",
       "    <tr>\n",
       "      <th>2600</th>\n",
       "      <td>Yokohama City University</td>\n",
       "      <td>3.7</td>\n",
       "    </tr>\n",
       "    <tr>\n",
       "      <th>2601</th>\n",
       "      <td>Yokohama National University</td>\n",
       "      <td>12.1</td>\n",
       "    </tr>\n",
       "    <tr>\n",
       "      <th>2602</th>\n",
       "      <td>Yuan Ze University</td>\n",
       "      <td>20.6</td>\n",
       "    </tr>\n",
       "  </tbody>\n",
       "</table>\n",
       "<p>2603 rows × 2 columns</p>\n",
       "</div>"
      ],
      "text/plain": [
       "                            university_name  student_staff_ratio\n",
       "0                        Harvard University                  8.9\n",
       "1        California Institute of Technology                  6.9\n",
       "2     Massachusetts Institute of Technology                  9.0\n",
       "3                       Stanford University                  7.8\n",
       "4                      Princeton University                  8.4\n",
       "...                                     ...                  ...\n",
       "2598                    Yeungnam University                 15.3\n",
       "2599            Yıldız Technical University                 28.7\n",
       "2600               Yokohama City University                  3.7\n",
       "2601           Yokohama National University                 12.1\n",
       "2602                     Yuan Ze University                 20.6\n",
       "\n",
       "[2603 rows x 2 columns]"
      ]
     },
     "execution_count": 92,
     "metadata": {},
     "output_type": "execute_result"
    }
   ],
   "source": [
    "df[[\"university_name\", \"student_staff_ratio\"]]"
   ]
  },
  {
   "cell_type": "markdown",
   "metadata": {},
   "source": [
    "We can also store the selected columns in a separate variable."
   ]
  },
  {
   "cell_type": "code",
   "execution_count": 98,
   "metadata": {},
   "outputs": [],
   "source": [
    "selection = df[[\"university_name\", \"student_staff_ratio\"]]"
   ]
  },
  {
   "cell_type": "code",
   "execution_count": 99,
   "metadata": {},
   "outputs": [
    {
     "data": {
      "text/html": [
       "<div>\n",
       "<style scoped>\n",
       "    .dataframe tbody tr th:only-of-type {\n",
       "        vertical-align: middle;\n",
       "    }\n",
       "\n",
       "    .dataframe tbody tr th {\n",
       "        vertical-align: top;\n",
       "    }\n",
       "\n",
       "    .dataframe thead th {\n",
       "        text-align: right;\n",
       "    }\n",
       "</style>\n",
       "<table border=\"1\" class=\"dataframe\">\n",
       "  <thead>\n",
       "    <tr style=\"text-align: right;\">\n",
       "      <th></th>\n",
       "      <th>university_name</th>\n",
       "      <th>student_staff_ratio</th>\n",
       "    </tr>\n",
       "  </thead>\n",
       "  <tbody>\n",
       "    <tr>\n",
       "      <th>0</th>\n",
       "      <td>Harvard University</td>\n",
       "      <td>8.9</td>\n",
       "    </tr>\n",
       "    <tr>\n",
       "      <th>1</th>\n",
       "      <td>California Institute of Technology</td>\n",
       "      <td>6.9</td>\n",
       "    </tr>\n",
       "    <tr>\n",
       "      <th>2</th>\n",
       "      <td>Massachusetts Institute of Technology</td>\n",
       "      <td>9.0</td>\n",
       "    </tr>\n",
       "    <tr>\n",
       "      <th>3</th>\n",
       "      <td>Stanford University</td>\n",
       "      <td>7.8</td>\n",
       "    </tr>\n",
       "    <tr>\n",
       "      <th>4</th>\n",
       "      <td>Princeton University</td>\n",
       "      <td>8.4</td>\n",
       "    </tr>\n",
       "    <tr>\n",
       "      <th>...</th>\n",
       "      <td>...</td>\n",
       "      <td>...</td>\n",
       "    </tr>\n",
       "    <tr>\n",
       "      <th>2598</th>\n",
       "      <td>Yeungnam University</td>\n",
       "      <td>15.3</td>\n",
       "    </tr>\n",
       "    <tr>\n",
       "      <th>2599</th>\n",
       "      <td>Yıldız Technical University</td>\n",
       "      <td>28.7</td>\n",
       "    </tr>\n",
       "    <tr>\n",
       "      <th>2600</th>\n",
       "      <td>Yokohama City University</td>\n",
       "      <td>3.7</td>\n",
       "    </tr>\n",
       "    <tr>\n",
       "      <th>2601</th>\n",
       "      <td>Yokohama National University</td>\n",
       "      <td>12.1</td>\n",
       "    </tr>\n",
       "    <tr>\n",
       "      <th>2602</th>\n",
       "      <td>Yuan Ze University</td>\n",
       "      <td>20.6</td>\n",
       "    </tr>\n",
       "  </tbody>\n",
       "</table>\n",
       "<p>2603 rows × 2 columns</p>\n",
       "</div>"
      ],
      "text/plain": [
       "                            university_name  student_staff_ratio\n",
       "0                        Harvard University                  8.9\n",
       "1        California Institute of Technology                  6.9\n",
       "2     Massachusetts Institute of Technology                  9.0\n",
       "3                       Stanford University                  7.8\n",
       "4                      Princeton University                  8.4\n",
       "...                                     ...                  ...\n",
       "2598                    Yeungnam University                 15.3\n",
       "2599            Yıldız Technical University                 28.7\n",
       "2600               Yokohama City University                  3.7\n",
       "2601           Yokohama National University                 12.1\n",
       "2602                     Yuan Ze University                 20.6\n",
       "\n",
       "[2603 rows x 2 columns]"
      ]
     },
     "execution_count": 99,
     "metadata": {},
     "output_type": "execute_result"
    }
   ],
   "source": [
    "selection"
   ]
  },
  {
   "cell_type": "markdown",
   "metadata": {},
   "source": [
    "To add a new column index a column name that does not exist in the dataframe yet and define the values to be added to this new column."
   ]
  },
  {
   "cell_type": "code",
   "execution_count": 108,
   "metadata": {},
   "outputs": [],
   "source": [
    "selection[\"ones\"] = \"one\""
   ]
  },
  {
   "cell_type": "markdown",
   "metadata": {},
   "source": [
    "Let's disable this warning message."
   ]
  },
  {
   "cell_type": "code",
   "execution_count": 101,
   "metadata": {},
   "outputs": [],
   "source": [
    "pd.options.mode.chained_assignment = None"
   ]
  },
  {
   "cell_type": "markdown",
   "metadata": {},
   "source": [
    "Our selection dataframe now has a new column filled with \"1\"s."
   ]
  },
  {
   "cell_type": "code",
   "execution_count": 110,
   "metadata": {},
   "outputs": [
    {
     "data": {
      "text/html": [
       "<div>\n",
       "<style scoped>\n",
       "    .dataframe tbody tr th:only-of-type {\n",
       "        vertical-align: middle;\n",
       "    }\n",
       "\n",
       "    .dataframe tbody tr th {\n",
       "        vertical-align: top;\n",
       "    }\n",
       "\n",
       "    .dataframe thead th {\n",
       "        text-align: right;\n",
       "    }\n",
       "</style>\n",
       "<table border=\"1\" class=\"dataframe\">\n",
       "  <thead>\n",
       "    <tr style=\"text-align: right;\">\n",
       "      <th></th>\n",
       "      <th>university_name</th>\n",
       "      <th>student_staff_ratio</th>\n",
       "      <th>ones</th>\n",
       "      <th>another_column</th>\n",
       "    </tr>\n",
       "  </thead>\n",
       "  <tbody>\n",
       "    <tr>\n",
       "      <th>0</th>\n",
       "      <td>Harvard University</td>\n",
       "      <td>8.9</td>\n",
       "      <td>one</td>\n",
       "      <td>this is a test</td>\n",
       "    </tr>\n",
       "    <tr>\n",
       "      <th>1</th>\n",
       "      <td>California Institute of Technology</td>\n",
       "      <td>6.9</td>\n",
       "      <td>one</td>\n",
       "      <td>this is a test</td>\n",
       "    </tr>\n",
       "    <tr>\n",
       "      <th>2</th>\n",
       "      <td>Massachusetts Institute of Technology</td>\n",
       "      <td>9.0</td>\n",
       "      <td>one</td>\n",
       "      <td>this is a test</td>\n",
       "    </tr>\n",
       "    <tr>\n",
       "      <th>3</th>\n",
       "      <td>Stanford University</td>\n",
       "      <td>7.8</td>\n",
       "      <td>one</td>\n",
       "      <td>this is a test</td>\n",
       "    </tr>\n",
       "    <tr>\n",
       "      <th>4</th>\n",
       "      <td>Princeton University</td>\n",
       "      <td>8.4</td>\n",
       "      <td>one</td>\n",
       "      <td>this is a test</td>\n",
       "    </tr>\n",
       "    <tr>\n",
       "      <th>...</th>\n",
       "      <td>...</td>\n",
       "      <td>...</td>\n",
       "      <td>...</td>\n",
       "      <td>...</td>\n",
       "    </tr>\n",
       "    <tr>\n",
       "      <th>2598</th>\n",
       "      <td>Yeungnam University</td>\n",
       "      <td>15.3</td>\n",
       "      <td>one</td>\n",
       "      <td>this is a test</td>\n",
       "    </tr>\n",
       "    <tr>\n",
       "      <th>2599</th>\n",
       "      <td>Yıldız Technical University</td>\n",
       "      <td>28.7</td>\n",
       "      <td>one</td>\n",
       "      <td>this is a test</td>\n",
       "    </tr>\n",
       "    <tr>\n",
       "      <th>2600</th>\n",
       "      <td>Yokohama City University</td>\n",
       "      <td>3.7</td>\n",
       "      <td>one</td>\n",
       "      <td>this is a test</td>\n",
       "    </tr>\n",
       "    <tr>\n",
       "      <th>2601</th>\n",
       "      <td>Yokohama National University</td>\n",
       "      <td>12.1</td>\n",
       "      <td>one</td>\n",
       "      <td>this is a test</td>\n",
       "    </tr>\n",
       "    <tr>\n",
       "      <th>2602</th>\n",
       "      <td>Yuan Ze University</td>\n",
       "      <td>20.6</td>\n",
       "      <td>one</td>\n",
       "      <td>this is a test</td>\n",
       "    </tr>\n",
       "  </tbody>\n",
       "</table>\n",
       "<p>2603 rows × 4 columns</p>\n",
       "</div>"
      ],
      "text/plain": [
       "                            university_name  student_staff_ratio ones  \\\n",
       "0                        Harvard University                  8.9  one   \n",
       "1        California Institute of Technology                  6.9  one   \n",
       "2     Massachusetts Institute of Technology                  9.0  one   \n",
       "3                       Stanford University                  7.8  one   \n",
       "4                      Princeton University                  8.4  one   \n",
       "...                                     ...                  ...  ...   \n",
       "2598                    Yeungnam University                 15.3  one   \n",
       "2599            Yıldız Technical University                 28.7  one   \n",
       "2600               Yokohama City University                  3.7  one   \n",
       "2601           Yokohama National University                 12.1  one   \n",
       "2602                     Yuan Ze University                 20.6  one   \n",
       "\n",
       "      another_column  \n",
       "0     this is a test  \n",
       "1     this is a test  \n",
       "2     this is a test  \n",
       "3     this is a test  \n",
       "4     this is a test  \n",
       "...              ...  \n",
       "2598  this is a test  \n",
       "2599  this is a test  \n",
       "2600  this is a test  \n",
       "2601  this is a test  \n",
       "2602  this is a test  \n",
       "\n",
       "[2603 rows x 4 columns]"
      ]
     },
     "execution_count": 110,
     "metadata": {},
     "output_type": "execute_result"
    }
   ],
   "source": [
    "selection"
   ]
  },
  {
   "cell_type": "markdown",
   "metadata": {},
   "source": [
    "We can use the same technique to copy columns."
   ]
  },
  {
   "cell_type": "code",
   "execution_count": 121,
   "metadata": {},
   "outputs": [
    {
     "data": {
      "text/html": [
       "<div>\n",
       "<style scoped>\n",
       "    .dataframe tbody tr th:only-of-type {\n",
       "        vertical-align: middle;\n",
       "    }\n",
       "\n",
       "    .dataframe tbody tr th {\n",
       "        vertical-align: top;\n",
       "    }\n",
       "\n",
       "    .dataframe thead th {\n",
       "        text-align: right;\n",
       "    }\n",
       "</style>\n",
       "<table border=\"1\" class=\"dataframe\">\n",
       "  <thead>\n",
       "    <tr style=\"text-align: right;\">\n",
       "      <th></th>\n",
       "      <th>university_name</th>\n",
       "      <th>student_staff_ratio</th>\n",
       "      <th>another_column</th>\n",
       "      <th>copy</th>\n",
       "    </tr>\n",
       "  </thead>\n",
       "  <tbody>\n",
       "    <tr>\n",
       "      <th>0</th>\n",
       "      <td>Harvard University</td>\n",
       "      <td>8.9</td>\n",
       "      <td>this is a test</td>\n",
       "      <td>8.9</td>\n",
       "    </tr>\n",
       "    <tr>\n",
       "      <th>1</th>\n",
       "      <td>California Institute of Technology</td>\n",
       "      <td>6.9</td>\n",
       "      <td>this is a test</td>\n",
       "      <td>6.9</td>\n",
       "    </tr>\n",
       "    <tr>\n",
       "      <th>2</th>\n",
       "      <td>Massachusetts Institute of Technology</td>\n",
       "      <td>9.0</td>\n",
       "      <td>this is a test</td>\n",
       "      <td>9.0</td>\n",
       "    </tr>\n",
       "    <tr>\n",
       "      <th>3</th>\n",
       "      <td>Stanford University</td>\n",
       "      <td>7.8</td>\n",
       "      <td>this is a test</td>\n",
       "      <td>7.8</td>\n",
       "    </tr>\n",
       "    <tr>\n",
       "      <th>4</th>\n",
       "      <td>Princeton University</td>\n",
       "      <td>8.4</td>\n",
       "      <td>this is a test</td>\n",
       "      <td>8.4</td>\n",
       "    </tr>\n",
       "    <tr>\n",
       "      <th>...</th>\n",
       "      <td>...</td>\n",
       "      <td>...</td>\n",
       "      <td>...</td>\n",
       "      <td>...</td>\n",
       "    </tr>\n",
       "    <tr>\n",
       "      <th>2598</th>\n",
       "      <td>Yeungnam University</td>\n",
       "      <td>15.3</td>\n",
       "      <td>this is a test</td>\n",
       "      <td>15.3</td>\n",
       "    </tr>\n",
       "    <tr>\n",
       "      <th>2599</th>\n",
       "      <td>Yıldız Technical University</td>\n",
       "      <td>28.7</td>\n",
       "      <td>this is a test</td>\n",
       "      <td>28.7</td>\n",
       "    </tr>\n",
       "    <tr>\n",
       "      <th>2600</th>\n",
       "      <td>Yokohama City University</td>\n",
       "      <td>3.7</td>\n",
       "      <td>this is a test</td>\n",
       "      <td>3.7</td>\n",
       "    </tr>\n",
       "    <tr>\n",
       "      <th>2601</th>\n",
       "      <td>Yokohama National University</td>\n",
       "      <td>12.1</td>\n",
       "      <td>this is a test</td>\n",
       "      <td>12.1</td>\n",
       "    </tr>\n",
       "    <tr>\n",
       "      <th>2602</th>\n",
       "      <td>Yuan Ze University</td>\n",
       "      <td>20.6</td>\n",
       "      <td>this is a test</td>\n",
       "      <td>20.6</td>\n",
       "    </tr>\n",
       "  </tbody>\n",
       "</table>\n",
       "<p>2603 rows × 4 columns</p>\n",
       "</div>"
      ],
      "text/plain": [
       "                            university_name  student_staff_ratio  \\\n",
       "0                        Harvard University                  8.9   \n",
       "1        California Institute of Technology                  6.9   \n",
       "2     Massachusetts Institute of Technology                  9.0   \n",
       "3                       Stanford University                  7.8   \n",
       "4                      Princeton University                  8.4   \n",
       "...                                     ...                  ...   \n",
       "2598                    Yeungnam University                 15.3   \n",
       "2599            Yıldız Technical University                 28.7   \n",
       "2600               Yokohama City University                  3.7   \n",
       "2601           Yokohama National University                 12.1   \n",
       "2602                     Yuan Ze University                 20.6   \n",
       "\n",
       "      another_column  copy  \n",
       "0     this is a test   8.9  \n",
       "1     this is a test   6.9  \n",
       "2     this is a test   9.0  \n",
       "3     this is a test   7.8  \n",
       "4     this is a test   8.4  \n",
       "...              ...   ...  \n",
       "2598  this is a test  15.3  \n",
       "2599  this is a test  28.7  \n",
       "2600  this is a test   3.7  \n",
       "2601  this is a test  12.1  \n",
       "2602  this is a test  20.6  \n",
       "\n",
       "[2603 rows x 4 columns]"
      ]
     },
     "execution_count": 121,
     "metadata": {},
     "output_type": "execute_result"
    }
   ],
   "source": [
    "selection[\"copy\"] = selection[\"student_staff_ratio\"]\n",
    "selection"
   ]
  },
  {
   "cell_type": "markdown",
   "metadata": {},
   "source": [
    "We can also apply functions to individual columns. In the apply function, we use the \"lambda\" helper keyword and a temporary variable x which allows us to reference and manipulate the content of each row of the column we are working with."
   ]
  },
  {
   "cell_type": "code",
   "execution_count": 122,
   "metadata": {},
   "outputs": [
    {
     "data": {
      "text/html": [
       "<div>\n",
       "<style scoped>\n",
       "    .dataframe tbody tr th:only-of-type {\n",
       "        vertical-align: middle;\n",
       "    }\n",
       "\n",
       "    .dataframe tbody tr th {\n",
       "        vertical-align: top;\n",
       "    }\n",
       "\n",
       "    .dataframe thead th {\n",
       "        text-align: right;\n",
       "    }\n",
       "</style>\n",
       "<table border=\"1\" class=\"dataframe\">\n",
       "  <thead>\n",
       "    <tr style=\"text-align: right;\">\n",
       "      <th></th>\n",
       "      <th>university_name</th>\n",
       "      <th>student_staff_ratio</th>\n",
       "      <th>another_column</th>\n",
       "      <th>copy</th>\n",
       "    </tr>\n",
       "  </thead>\n",
       "  <tbody>\n",
       "    <tr>\n",
       "      <th>0</th>\n",
       "      <td>Harvard University</td>\n",
       "      <td>8.9</td>\n",
       "      <td>this is a test</td>\n",
       "      <td>0.089</td>\n",
       "    </tr>\n",
       "    <tr>\n",
       "      <th>1</th>\n",
       "      <td>California Institute of Technology</td>\n",
       "      <td>6.9</td>\n",
       "      <td>this is a test</td>\n",
       "      <td>0.069</td>\n",
       "    </tr>\n",
       "    <tr>\n",
       "      <th>2</th>\n",
       "      <td>Massachusetts Institute of Technology</td>\n",
       "      <td>9.0</td>\n",
       "      <td>this is a test</td>\n",
       "      <td>0.090</td>\n",
       "    </tr>\n",
       "    <tr>\n",
       "      <th>3</th>\n",
       "      <td>Stanford University</td>\n",
       "      <td>7.8</td>\n",
       "      <td>this is a test</td>\n",
       "      <td>0.078</td>\n",
       "    </tr>\n",
       "    <tr>\n",
       "      <th>4</th>\n",
       "      <td>Princeton University</td>\n",
       "      <td>8.4</td>\n",
       "      <td>this is a test</td>\n",
       "      <td>0.084</td>\n",
       "    </tr>\n",
       "    <tr>\n",
       "      <th>...</th>\n",
       "      <td>...</td>\n",
       "      <td>...</td>\n",
       "      <td>...</td>\n",
       "      <td>...</td>\n",
       "    </tr>\n",
       "    <tr>\n",
       "      <th>2598</th>\n",
       "      <td>Yeungnam University</td>\n",
       "      <td>15.3</td>\n",
       "      <td>this is a test</td>\n",
       "      <td>0.153</td>\n",
       "    </tr>\n",
       "    <tr>\n",
       "      <th>2599</th>\n",
       "      <td>Yıldız Technical University</td>\n",
       "      <td>28.7</td>\n",
       "      <td>this is a test</td>\n",
       "      <td>0.287</td>\n",
       "    </tr>\n",
       "    <tr>\n",
       "      <th>2600</th>\n",
       "      <td>Yokohama City University</td>\n",
       "      <td>3.7</td>\n",
       "      <td>this is a test</td>\n",
       "      <td>0.037</td>\n",
       "    </tr>\n",
       "    <tr>\n",
       "      <th>2601</th>\n",
       "      <td>Yokohama National University</td>\n",
       "      <td>12.1</td>\n",
       "      <td>this is a test</td>\n",
       "      <td>0.121</td>\n",
       "    </tr>\n",
       "    <tr>\n",
       "      <th>2602</th>\n",
       "      <td>Yuan Ze University</td>\n",
       "      <td>20.6</td>\n",
       "      <td>this is a test</td>\n",
       "      <td>0.206</td>\n",
       "    </tr>\n",
       "  </tbody>\n",
       "</table>\n",
       "<p>2603 rows × 4 columns</p>\n",
       "</div>"
      ],
      "text/plain": [
       "                            university_name  student_staff_ratio  \\\n",
       "0                        Harvard University                  8.9   \n",
       "1        California Institute of Technology                  6.9   \n",
       "2     Massachusetts Institute of Technology                  9.0   \n",
       "3                       Stanford University                  7.8   \n",
       "4                      Princeton University                  8.4   \n",
       "...                                     ...                  ...   \n",
       "2598                    Yeungnam University                 15.3   \n",
       "2599            Yıldız Technical University                 28.7   \n",
       "2600               Yokohama City University                  3.7   \n",
       "2601           Yokohama National University                 12.1   \n",
       "2602                     Yuan Ze University                 20.6   \n",
       "\n",
       "      another_column   copy  \n",
       "0     this is a test  0.089  \n",
       "1     this is a test  0.069  \n",
       "2     this is a test  0.090  \n",
       "3     this is a test  0.078  \n",
       "4     this is a test  0.084  \n",
       "...              ...    ...  \n",
       "2598  this is a test  0.153  \n",
       "2599  this is a test  0.287  \n",
       "2600  this is a test  0.037  \n",
       "2601  this is a test  0.121  \n",
       "2602  this is a test  0.206  \n",
       "\n",
       "[2603 rows x 4 columns]"
      ]
     },
     "execution_count": 122,
     "metadata": {},
     "output_type": "execute_result"
    }
   ],
   "source": [
    "selection[\"copy\"] = selection[\"copy\"].apply(lambda x: x / 100.0)\n",
    "selection"
   ]
  },
  {
   "cell_type": "markdown",
   "metadata": {},
   "source": [
    "To delete a column do the following."
   ]
  },
  {
   "cell_type": "code",
   "execution_count": 119,
   "metadata": {},
   "outputs": [
    {
     "data": {
      "text/html": [
       "<div>\n",
       "<style scoped>\n",
       "    .dataframe tbody tr th:only-of-type {\n",
       "        vertical-align: middle;\n",
       "    }\n",
       "\n",
       "    .dataframe tbody tr th {\n",
       "        vertical-align: top;\n",
       "    }\n",
       "\n",
       "    .dataframe thead th {\n",
       "        text-align: right;\n",
       "    }\n",
       "</style>\n",
       "<table border=\"1\" class=\"dataframe\">\n",
       "  <thead>\n",
       "    <tr style=\"text-align: right;\">\n",
       "      <th></th>\n",
       "      <th>university_name</th>\n",
       "      <th>student_staff_ratio</th>\n",
       "      <th>another_column</th>\n",
       "    </tr>\n",
       "  </thead>\n",
       "  <tbody>\n",
       "    <tr>\n",
       "      <th>0</th>\n",
       "      <td>Harvard University</td>\n",
       "      <td>8.9</td>\n",
       "      <td>this is a test</td>\n",
       "    </tr>\n",
       "    <tr>\n",
       "      <th>1</th>\n",
       "      <td>California Institute of Technology</td>\n",
       "      <td>6.9</td>\n",
       "      <td>this is a test</td>\n",
       "    </tr>\n",
       "    <tr>\n",
       "      <th>2</th>\n",
       "      <td>Massachusetts Institute of Technology</td>\n",
       "      <td>9.0</td>\n",
       "      <td>this is a test</td>\n",
       "    </tr>\n",
       "    <tr>\n",
       "      <th>3</th>\n",
       "      <td>Stanford University</td>\n",
       "      <td>7.8</td>\n",
       "      <td>this is a test</td>\n",
       "    </tr>\n",
       "    <tr>\n",
       "      <th>4</th>\n",
       "      <td>Princeton University</td>\n",
       "      <td>8.4</td>\n",
       "      <td>this is a test</td>\n",
       "    </tr>\n",
       "    <tr>\n",
       "      <th>...</th>\n",
       "      <td>...</td>\n",
       "      <td>...</td>\n",
       "      <td>...</td>\n",
       "    </tr>\n",
       "    <tr>\n",
       "      <th>2598</th>\n",
       "      <td>Yeungnam University</td>\n",
       "      <td>15.3</td>\n",
       "      <td>this is a test</td>\n",
       "    </tr>\n",
       "    <tr>\n",
       "      <th>2599</th>\n",
       "      <td>Yıldız Technical University</td>\n",
       "      <td>28.7</td>\n",
       "      <td>this is a test</td>\n",
       "    </tr>\n",
       "    <tr>\n",
       "      <th>2600</th>\n",
       "      <td>Yokohama City University</td>\n",
       "      <td>3.7</td>\n",
       "      <td>this is a test</td>\n",
       "    </tr>\n",
       "    <tr>\n",
       "      <th>2601</th>\n",
       "      <td>Yokohama National University</td>\n",
       "      <td>12.1</td>\n",
       "      <td>this is a test</td>\n",
       "    </tr>\n",
       "    <tr>\n",
       "      <th>2602</th>\n",
       "      <td>Yuan Ze University</td>\n",
       "      <td>20.6</td>\n",
       "      <td>this is a test</td>\n",
       "    </tr>\n",
       "  </tbody>\n",
       "</table>\n",
       "<p>2603 rows × 3 columns</p>\n",
       "</div>"
      ],
      "text/plain": [
       "                            university_name  student_staff_ratio  \\\n",
       "0                        Harvard University                  8.9   \n",
       "1        California Institute of Technology                  6.9   \n",
       "2     Massachusetts Institute of Technology                  9.0   \n",
       "3                       Stanford University                  7.8   \n",
       "4                      Princeton University                  8.4   \n",
       "...                                     ...                  ...   \n",
       "2598                    Yeungnam University                 15.3   \n",
       "2599            Yıldız Technical University                 28.7   \n",
       "2600               Yokohama City University                  3.7   \n",
       "2601           Yokohama National University                 12.1   \n",
       "2602                     Yuan Ze University                 20.6   \n",
       "\n",
       "      another_column  \n",
       "0     this is a test  \n",
       "1     this is a test  \n",
       "2     this is a test  \n",
       "3     this is a test  \n",
       "4     this is a test  \n",
       "...              ...  \n",
       "2598  this is a test  \n",
       "2599  this is a test  \n",
       "2600  this is a test  \n",
       "2601  this is a test  \n",
       "2602  this is a test  \n",
       "\n",
       "[2603 rows x 3 columns]"
      ]
     },
     "execution_count": 119,
     "metadata": {},
     "output_type": "execute_result"
    }
   ],
   "source": [
    "del(selection[\"copy\"])\n",
    "del(selection[\"ones\"])\n",
    "selection"
   ]
  },
  {
   "cell_type": "markdown",
   "metadata": {},
   "source": [
    "### Filter dataframe"
   ]
  },
  {
   "cell_type": "markdown",
   "metadata": {},
   "source": [
    "To access specific observations, we may pass a condition as our index. This works like \"Show me the dataframe where the dataframe has a value of xxx\".\n",
    "\n",
    "For the conditions you may use:\n",
    "\n",
    "- ``==`` \"equal to\"\n",
    "- ``!=`` \"not equal to\"\n",
    "- ``>`` \"greater than\"\n",
    "- ``<`` \"smaller than\""
   ]
  },
  {
   "cell_type": "code",
   "execution_count": 123,
   "metadata": {},
   "outputs": [
    {
     "data": {
      "text/html": [
       "<div>\n",
       "<style scoped>\n",
       "    .dataframe tbody tr th:only-of-type {\n",
       "        vertical-align: middle;\n",
       "    }\n",
       "\n",
       "    .dataframe tbody tr th {\n",
       "        vertical-align: top;\n",
       "    }\n",
       "\n",
       "    .dataframe thead th {\n",
       "        text-align: right;\n",
       "    }\n",
       "</style>\n",
       "<table border=\"1\" class=\"dataframe\">\n",
       "  <thead>\n",
       "    <tr style=\"text-align: right;\">\n",
       "      <th></th>\n",
       "      <th>world_rank</th>\n",
       "      <th>university_name</th>\n",
       "      <th>country</th>\n",
       "      <th>teaching</th>\n",
       "      <th>international</th>\n",
       "      <th>research</th>\n",
       "      <th>citations</th>\n",
       "      <th>income</th>\n",
       "      <th>total_score</th>\n",
       "      <th>num_students</th>\n",
       "      <th>student_staff_ratio</th>\n",
       "      <th>international_students</th>\n",
       "      <th>female_male_ratio</th>\n",
       "      <th>year</th>\n",
       "    </tr>\n",
       "  </thead>\n",
       "  <tbody>\n",
       "    <tr>\n",
       "      <th>0</th>\n",
       "      <td>1</td>\n",
       "      <td>Harvard University</td>\n",
       "      <td>United States of America</td>\n",
       "      <td>99.7</td>\n",
       "      <td>72.4</td>\n",
       "      <td>98.7</td>\n",
       "      <td>98.8</td>\n",
       "      <td>34.5</td>\n",
       "      <td>96.1</td>\n",
       "      <td>20,152</td>\n",
       "      <td>8.9</td>\n",
       "      <td>25%</td>\n",
       "      <td>NaN</td>\n",
       "      <td>2011</td>\n",
       "    </tr>\n",
       "    <tr>\n",
       "      <th>201</th>\n",
       "      <td>2</td>\n",
       "      <td>Harvard University</td>\n",
       "      <td>United States of America</td>\n",
       "      <td>95.8</td>\n",
       "      <td>67.5</td>\n",
       "      <td>97.4</td>\n",
       "      <td>99.8</td>\n",
       "      <td>35.9</td>\n",
       "      <td>93.9</td>\n",
       "      <td>20,152</td>\n",
       "      <td>8.9</td>\n",
       "      <td>25%</td>\n",
       "      <td>NaN</td>\n",
       "      <td>2012</td>\n",
       "    </tr>\n",
       "    <tr>\n",
       "      <th>605</th>\n",
       "      <td>4</td>\n",
       "      <td>Harvard University</td>\n",
       "      <td>United States of America</td>\n",
       "      <td>94.9</td>\n",
       "      <td>63.7</td>\n",
       "      <td>98.6</td>\n",
       "      <td>99.2</td>\n",
       "      <td>39.9</td>\n",
       "      <td>93.6</td>\n",
       "      <td>20,152</td>\n",
       "      <td>8.9</td>\n",
       "      <td>25%</td>\n",
       "      <td>NaN</td>\n",
       "      <td>2013</td>\n",
       "    </tr>\n",
       "    <tr>\n",
       "      <th>1003</th>\n",
       "      <td>2</td>\n",
       "      <td>Harvard University</td>\n",
       "      <td>United States of America</td>\n",
       "      <td>95.3</td>\n",
       "      <td>66.2</td>\n",
       "      <td>98.5</td>\n",
       "      <td>99.1</td>\n",
       "      <td>40.6</td>\n",
       "      <td>93.9</td>\n",
       "      <td>20,152</td>\n",
       "      <td>8.9</td>\n",
       "      <td>25%</td>\n",
       "      <td>NaN</td>\n",
       "      <td>2014</td>\n",
       "    </tr>\n",
       "    <tr>\n",
       "      <th>1403</th>\n",
       "      <td>2</td>\n",
       "      <td>Harvard University</td>\n",
       "      <td>United States of America</td>\n",
       "      <td>92.9</td>\n",
       "      <td>67.6</td>\n",
       "      <td>98.6</td>\n",
       "      <td>98.9</td>\n",
       "      <td>44.0</td>\n",
       "      <td>93.3</td>\n",
       "      <td>20,152</td>\n",
       "      <td>8.9</td>\n",
       "      <td>25%</td>\n",
       "      <td>NaN</td>\n",
       "      <td>2015</td>\n",
       "    </tr>\n",
       "    <tr>\n",
       "      <th>1808</th>\n",
       "      <td>6</td>\n",
       "      <td>Harvard University</td>\n",
       "      <td>United States of America</td>\n",
       "      <td>83.6</td>\n",
       "      <td>77.2</td>\n",
       "      <td>99.0</td>\n",
       "      <td>99.8</td>\n",
       "      <td>45.2</td>\n",
       "      <td>91.6</td>\n",
       "      <td>20,152</td>\n",
       "      <td>8.9</td>\n",
       "      <td>25%</td>\n",
       "      <td>NaN</td>\n",
       "      <td>2016</td>\n",
       "    </tr>\n",
       "  </tbody>\n",
       "</table>\n",
       "</div>"
      ],
      "text/plain": [
       "     world_rank     university_name                   country  teaching  \\\n",
       "0             1  Harvard University  United States of America      99.7   \n",
       "201           2  Harvard University  United States of America      95.8   \n",
       "605           4  Harvard University  United States of America      94.9   \n",
       "1003          2  Harvard University  United States of America      95.3   \n",
       "1403          2  Harvard University  United States of America      92.9   \n",
       "1808          6  Harvard University  United States of America      83.6   \n",
       "\n",
       "     international  research  citations income total_score num_students  \\\n",
       "0             72.4      98.7       98.8   34.5        96.1       20,152   \n",
       "201           67.5      97.4       99.8   35.9        93.9       20,152   \n",
       "605           63.7      98.6       99.2   39.9        93.6       20,152   \n",
       "1003          66.2      98.5       99.1   40.6        93.9       20,152   \n",
       "1403          67.6      98.6       98.9   44.0        93.3       20,152   \n",
       "1808          77.2      99.0       99.8   45.2        91.6       20,152   \n",
       "\n",
       "      student_staff_ratio international_students female_male_ratio  year  \n",
       "0                     8.9                    25%               NaN  2011  \n",
       "201                   8.9                    25%               NaN  2012  \n",
       "605                   8.9                    25%               NaN  2013  \n",
       "1003                  8.9                    25%               NaN  2014  \n",
       "1403                  8.9                    25%               NaN  2015  \n",
       "1808                  8.9                    25%               NaN  2016  "
      ]
     },
     "execution_count": 123,
     "metadata": {},
     "output_type": "execute_result"
    }
   ],
   "source": [
    "df[df[\"university_name\"] == \"Harvard University\" ]"
   ]
  },
  {
   "cell_type": "code",
   "execution_count": 124,
   "metadata": {},
   "outputs": [
    {
     "data": {
      "text/html": [
       "<div>\n",
       "<style scoped>\n",
       "    .dataframe tbody tr th:only-of-type {\n",
       "        vertical-align: middle;\n",
       "    }\n",
       "\n",
       "    .dataframe tbody tr th {\n",
       "        vertical-align: top;\n",
       "    }\n",
       "\n",
       "    .dataframe thead th {\n",
       "        text-align: right;\n",
       "    }\n",
       "</style>\n",
       "<table border=\"1\" class=\"dataframe\">\n",
       "  <thead>\n",
       "    <tr style=\"text-align: right;\">\n",
       "      <th></th>\n",
       "      <th>world_rank</th>\n",
       "      <th>university_name</th>\n",
       "      <th>country</th>\n",
       "      <th>teaching</th>\n",
       "      <th>international</th>\n",
       "      <th>research</th>\n",
       "      <th>citations</th>\n",
       "      <th>income</th>\n",
       "      <th>total_score</th>\n",
       "      <th>num_students</th>\n",
       "      <th>student_staff_ratio</th>\n",
       "      <th>international_students</th>\n",
       "      <th>female_male_ratio</th>\n",
       "      <th>year</th>\n",
       "    </tr>\n",
       "  </thead>\n",
       "  <tbody>\n",
       "    <tr>\n",
       "      <th>914</th>\n",
       "      <td>301-350</td>\n",
       "      <td>Medical University of Vienna</td>\n",
       "      <td>Austria</td>\n",
       "      <td>23.7</td>\n",
       "      <td>66.2</td>\n",
       "      <td>13.4</td>\n",
       "      <td>66.0</td>\n",
       "      <td>33.2</td>\n",
       "      <td>-</td>\n",
       "      <td>7,426</td>\n",
       "      <td>2.9</td>\n",
       "      <td>28%</td>\n",
       "      <td>50 : 50</td>\n",
       "      <td>2013</td>\n",
       "    </tr>\n",
       "    <tr>\n",
       "      <th>1258</th>\n",
       "      <td>251-275</td>\n",
       "      <td>Medical University of Vienna</td>\n",
       "      <td>Austria</td>\n",
       "      <td>25.9</td>\n",
       "      <td>69.4</td>\n",
       "      <td>15.9</td>\n",
       "      <td>68.3</td>\n",
       "      <td>33.7</td>\n",
       "      <td>-</td>\n",
       "      <td>7,426</td>\n",
       "      <td>2.9</td>\n",
       "      <td>28%</td>\n",
       "      <td>50 : 50</td>\n",
       "      <td>2014</td>\n",
       "    </tr>\n",
       "    <tr>\n",
       "      <th>1654</th>\n",
       "      <td>251-275</td>\n",
       "      <td>Medical University of Vienna</td>\n",
       "      <td>Austria</td>\n",
       "      <td>28.6</td>\n",
       "      <td>73.1</td>\n",
       "      <td>17.0</td>\n",
       "      <td>71.1</td>\n",
       "      <td>33.7</td>\n",
       "      <td>-</td>\n",
       "      <td>7,426</td>\n",
       "      <td>2.9</td>\n",
       "      <td>28%</td>\n",
       "      <td>50 : 50</td>\n",
       "      <td>2015</td>\n",
       "    </tr>\n",
       "    <tr>\n",
       "      <th>1740</th>\n",
       "      <td>301-350</td>\n",
       "      <td>University of Nebraska Medical Center</td>\n",
       "      <td>United States of America</td>\n",
       "      <td>36.4</td>\n",
       "      <td>34.8</td>\n",
       "      <td>16.5</td>\n",
       "      <td>51.5</td>\n",
       "      <td>34.5</td>\n",
       "      <td>-</td>\n",
       "      <td>2,857</td>\n",
       "      <td>2.6</td>\n",
       "      <td>8%</td>\n",
       "      <td>67 : 33</td>\n",
       "      <td>2015</td>\n",
       "    </tr>\n",
       "    <tr>\n",
       "      <th>2028</th>\n",
       "      <td>201-250</td>\n",
       "      <td>Medical University of Vienna</td>\n",
       "      <td>Austria</td>\n",
       "      <td>26.6</td>\n",
       "      <td>81.7</td>\n",
       "      <td>14.6</td>\n",
       "      <td>89.1</td>\n",
       "      <td>33.9</td>\n",
       "      <td>-</td>\n",
       "      <td>7,426</td>\n",
       "      <td>2.9</td>\n",
       "      <td>28%</td>\n",
       "      <td>50 : 50</td>\n",
       "      <td>2016</td>\n",
       "    </tr>\n",
       "    <tr>\n",
       "      <th>2030</th>\n",
       "      <td>201-250</td>\n",
       "      <td>Oregon Health and Science University</td>\n",
       "      <td>United States of America</td>\n",
       "      <td>27.8</td>\n",
       "      <td>21.4</td>\n",
       "      <td>15.7</td>\n",
       "      <td>96.0</td>\n",
       "      <td>44.6</td>\n",
       "      <td>-</td>\n",
       "      <td>2,838</td>\n",
       "      <td>1.1</td>\n",
       "      <td>3%</td>\n",
       "      <td>65 : 35</td>\n",
       "      <td>2016</td>\n",
       "    </tr>\n",
       "    <tr>\n",
       "      <th>2037</th>\n",
       "      <td>201-250</td>\n",
       "      <td>Rush University</td>\n",
       "      <td>United States of America</td>\n",
       "      <td>37.7</td>\n",
       "      <td>21.8</td>\n",
       "      <td>17.4</td>\n",
       "      <td>88.9</td>\n",
       "      <td>45.4</td>\n",
       "      <td>-</td>\n",
       "      <td>1,855</td>\n",
       "      <td>2.1</td>\n",
       "      <td>5%</td>\n",
       "      <td>71 : 29</td>\n",
       "      <td>2016</td>\n",
       "    </tr>\n",
       "    <tr>\n",
       "      <th>2123</th>\n",
       "      <td>301-350</td>\n",
       "      <td>Medical College of Wisconsin</td>\n",
       "      <td>United States of America</td>\n",
       "      <td>25.4</td>\n",
       "      <td>30.4</td>\n",
       "      <td>12.1</td>\n",
       "      <td>85.2</td>\n",
       "      <td>31.8</td>\n",
       "      <td>-</td>\n",
       "      <td>1,211</td>\n",
       "      <td>0.6</td>\n",
       "      <td>5%</td>\n",
       "      <td>48 : 52</td>\n",
       "      <td>2016</td>\n",
       "    </tr>\n",
       "    <tr>\n",
       "      <th>2176</th>\n",
       "      <td>351-400</td>\n",
       "      <td>University of Nebraska Medical Center</td>\n",
       "      <td>United States of America</td>\n",
       "      <td>37.0</td>\n",
       "      <td>37.7</td>\n",
       "      <td>13.3</td>\n",
       "      <td>64.4</td>\n",
       "      <td>33.6</td>\n",
       "      <td>-</td>\n",
       "      <td>2,857</td>\n",
       "      <td>2.6</td>\n",
       "      <td>8%</td>\n",
       "      <td>67 : 33</td>\n",
       "      <td>2016</td>\n",
       "    </tr>\n",
       "    <tr>\n",
       "      <th>2556</th>\n",
       "      <td>601-800</td>\n",
       "      <td>Showa University</td>\n",
       "      <td>Japan</td>\n",
       "      <td>28.5</td>\n",
       "      <td>14.0</td>\n",
       "      <td>7.9</td>\n",
       "      <td>7.0</td>\n",
       "      <td>-</td>\n",
       "      <td>-</td>\n",
       "      <td>3,675</td>\n",
       "      <td>2.5</td>\n",
       "      <td>0%</td>\n",
       "      <td>57 : 43</td>\n",
       "      <td>2016</td>\n",
       "    </tr>\n",
       "  </tbody>\n",
       "</table>\n",
       "</div>"
      ],
      "text/plain": [
       "     world_rank                        university_name  \\\n",
       "914     301-350           Medical University of Vienna   \n",
       "1258    251-275           Medical University of Vienna   \n",
       "1654    251-275           Medical University of Vienna   \n",
       "1740    301-350  University of Nebraska Medical Center   \n",
       "2028    201-250           Medical University of Vienna   \n",
       "2030    201-250   Oregon Health and Science University   \n",
       "2037    201-250                        Rush University   \n",
       "2123    301-350           Medical College of Wisconsin   \n",
       "2176    351-400  University of Nebraska Medical Center   \n",
       "2556    601-800                       Showa University   \n",
       "\n",
       "                       country  teaching international  research  citations  \\\n",
       "914                    Austria      23.7          66.2      13.4       66.0   \n",
       "1258                   Austria      25.9          69.4      15.9       68.3   \n",
       "1654                   Austria      28.6          73.1      17.0       71.1   \n",
       "1740  United States of America      36.4          34.8      16.5       51.5   \n",
       "2028                   Austria      26.6          81.7      14.6       89.1   \n",
       "2030  United States of America      27.8          21.4      15.7       96.0   \n",
       "2037  United States of America      37.7          21.8      17.4       88.9   \n",
       "2123  United States of America      25.4          30.4      12.1       85.2   \n",
       "2176  United States of America      37.0          37.7      13.3       64.4   \n",
       "2556                     Japan      28.5          14.0       7.9        7.0   \n",
       "\n",
       "     income total_score num_students  student_staff_ratio  \\\n",
       "914    33.2           -        7,426                  2.9   \n",
       "1258   33.7           -        7,426                  2.9   \n",
       "1654   33.7           -        7,426                  2.9   \n",
       "1740   34.5           -        2,857                  2.6   \n",
       "2028   33.9           -        7,426                  2.9   \n",
       "2030   44.6           -        2,838                  1.1   \n",
       "2037   45.4           -        1,855                  2.1   \n",
       "2123   31.8           -        1,211                  0.6   \n",
       "2176   33.6           -        2,857                  2.6   \n",
       "2556      -           -        3,675                  2.5   \n",
       "\n",
       "     international_students female_male_ratio  year  \n",
       "914                     28%           50 : 50  2013  \n",
       "1258                    28%           50 : 50  2014  \n",
       "1654                    28%           50 : 50  2015  \n",
       "1740                     8%           67 : 33  2015  \n",
       "2028                    28%           50 : 50  2016  \n",
       "2030                     3%           65 : 35  2016  \n",
       "2037                     5%           71 : 29  2016  \n",
       "2123                     5%           48 : 52  2016  \n",
       "2176                     8%           67 : 33  2016  \n",
       "2556                     0%           57 : 43  2016  "
      ]
     },
     "execution_count": 124,
     "metadata": {},
     "output_type": "execute_result"
    }
   ],
   "source": [
    "df[df[\"student_staff_ratio\"] < 3]"
   ]
  },
  {
   "cell_type": "markdown",
   "metadata": {},
   "source": [
    "We can also filter by not perfectly matching text."
   ]
  },
  {
   "cell_type": "code",
   "execution_count": 139,
   "metadata": {},
   "outputs": [
    {
     "data": {
      "text/html": [
       "<div>\n",
       "<style scoped>\n",
       "    .dataframe tbody tr th:only-of-type {\n",
       "        vertical-align: middle;\n",
       "    }\n",
       "\n",
       "    .dataframe tbody tr th {\n",
       "        vertical-align: top;\n",
       "    }\n",
       "\n",
       "    .dataframe thead th {\n",
       "        text-align: right;\n",
       "    }\n",
       "</style>\n",
       "<table border=\"1\" class=\"dataframe\">\n",
       "  <thead>\n",
       "    <tr style=\"text-align: right;\">\n",
       "      <th></th>\n",
       "      <th>world_rank</th>\n",
       "      <th>university_name</th>\n",
       "      <th>country</th>\n",
       "      <th>teaching</th>\n",
       "      <th>international</th>\n",
       "      <th>research</th>\n",
       "      <th>citations</th>\n",
       "      <th>income</th>\n",
       "      <th>total_score</th>\n",
       "      <th>num_students</th>\n",
       "      <th>student_staff_ratio</th>\n",
       "      <th>international_students</th>\n",
       "      <th>female_male_ratio</th>\n",
       "      <th>year</th>\n",
       "    </tr>\n",
       "  </thead>\n",
       "  <tbody>\n",
       "    <tr>\n",
       "      <th>194</th>\n",
       "      <td>195</td>\n",
       "      <td>University of Vienna</td>\n",
       "      <td>Austria</td>\n",
       "      <td>47.6</td>\n",
       "      <td>63.2</td>\n",
       "      <td>45.7</td>\n",
       "      <td>45.6</td>\n",
       "      <td>27.0</td>\n",
       "      <td>46.7</td>\n",
       "      <td>34,651</td>\n",
       "      <td>20.5</td>\n",
       "      <td>25%</td>\n",
       "      <td>67 : 33</td>\n",
       "      <td>2011</td>\n",
       "    </tr>\n",
       "    <tr>\n",
       "      <th>338</th>\n",
       "      <td>139</td>\n",
       "      <td>University of Vienna</td>\n",
       "      <td>Austria</td>\n",
       "      <td>49.5</td>\n",
       "      <td>86.6</td>\n",
       "      <td>41.2</td>\n",
       "      <td>45.2</td>\n",
       "      <td>25.4</td>\n",
       "      <td>47.9</td>\n",
       "      <td>34,651</td>\n",
       "      <td>20.5</td>\n",
       "      <td>25%</td>\n",
       "      <td>67 : 33</td>\n",
       "      <td>2012</td>\n",
       "    </tr>\n",
       "    <tr>\n",
       "      <th>547</th>\n",
       "      <td>301-350</td>\n",
       "      <td>Vienna University of Technology</td>\n",
       "      <td>Austria</td>\n",
       "      <td>26.3</td>\n",
       "      <td>82.5</td>\n",
       "      <td>14.1</td>\n",
       "      <td>24.3</td>\n",
       "      <td>35.2</td>\n",
       "      <td>-</td>\n",
       "      <td>26,419</td>\n",
       "      <td>52.0</td>\n",
       "      <td>27%</td>\n",
       "      <td>27 : 73</td>\n",
       "      <td>2012</td>\n",
       "    </tr>\n",
       "    <tr>\n",
       "      <th>764</th>\n",
       "      <td>162</td>\n",
       "      <td>University of Vienna</td>\n",
       "      <td>Austria</td>\n",
       "      <td>44.3</td>\n",
       "      <td>86.3</td>\n",
       "      <td>46.7</td>\n",
       "      <td>52.4</td>\n",
       "      <td>29.1</td>\n",
       "      <td>50.2</td>\n",
       "      <td>34,651</td>\n",
       "      <td>20.5</td>\n",
       "      <td>25%</td>\n",
       "      <td>67 : 33</td>\n",
       "      <td>2013</td>\n",
       "    </tr>\n",
       "    <tr>\n",
       "      <th>876</th>\n",
       "      <td>251-275</td>\n",
       "      <td>Vienna University of Technology</td>\n",
       "      <td>Austria</td>\n",
       "      <td>44.8</td>\n",
       "      <td>71.4</td>\n",
       "      <td>32.4</td>\n",
       "      <td>34.2</td>\n",
       "      <td>65.5</td>\n",
       "      <td>-</td>\n",
       "      <td>26,419</td>\n",
       "      <td>52.0</td>\n",
       "      <td>27%</td>\n",
       "      <td>27 : 73</td>\n",
       "      <td>2013</td>\n",
       "    </tr>\n",
       "    <tr>\n",
       "      <th>914</th>\n",
       "      <td>301-350</td>\n",
       "      <td>Medical University of Vienna</td>\n",
       "      <td>Austria</td>\n",
       "      <td>23.7</td>\n",
       "      <td>66.2</td>\n",
       "      <td>13.4</td>\n",
       "      <td>66.0</td>\n",
       "      <td>33.2</td>\n",
       "      <td>-</td>\n",
       "      <td>7,426</td>\n",
       "      <td>2.9</td>\n",
       "      <td>28%</td>\n",
       "      <td>50 : 50</td>\n",
       "      <td>2013</td>\n",
       "    </tr>\n",
       "    <tr>\n",
       "      <th>1172</th>\n",
       "      <td>170</td>\n",
       "      <td>University of Vienna</td>\n",
       "      <td>Austria</td>\n",
       "      <td>35.8</td>\n",
       "      <td>89.5</td>\n",
       "      <td>36.1</td>\n",
       "      <td>57.4</td>\n",
       "      <td>29.3</td>\n",
       "      <td>46.2</td>\n",
       "      <td>34,651</td>\n",
       "      <td>20.5</td>\n",
       "      <td>25%</td>\n",
       "      <td>67 : 33</td>\n",
       "      <td>2014</td>\n",
       "    </tr>\n",
       "    <tr>\n",
       "      <th>1254</th>\n",
       "      <td>226-250</td>\n",
       "      <td>Vienna University of Technology</td>\n",
       "      <td>Austria</td>\n",
       "      <td>39.2</td>\n",
       "      <td>72.4</td>\n",
       "      <td>30.8</td>\n",
       "      <td>40.9</td>\n",
       "      <td>66.6</td>\n",
       "      <td>-</td>\n",
       "      <td>26,419</td>\n",
       "      <td>52.0</td>\n",
       "      <td>27%</td>\n",
       "      <td>27 : 73</td>\n",
       "      <td>2014</td>\n",
       "    </tr>\n",
       "    <tr>\n",
       "      <th>1258</th>\n",
       "      <td>251-275</td>\n",
       "      <td>Medical University of Vienna</td>\n",
       "      <td>Austria</td>\n",
       "      <td>25.9</td>\n",
       "      <td>69.4</td>\n",
       "      <td>15.9</td>\n",
       "      <td>68.3</td>\n",
       "      <td>33.7</td>\n",
       "      <td>-</td>\n",
       "      <td>7,426</td>\n",
       "      <td>2.9</td>\n",
       "      <td>28%</td>\n",
       "      <td>50 : 50</td>\n",
       "      <td>2014</td>\n",
       "    </tr>\n",
       "    <tr>\n",
       "      <th>1585</th>\n",
       "      <td>182</td>\n",
       "      <td>University of Vienna</td>\n",
       "      <td>Austria</td>\n",
       "      <td>35.2</td>\n",
       "      <td>91.0</td>\n",
       "      <td>39.7</td>\n",
       "      <td>56.3</td>\n",
       "      <td>29.4</td>\n",
       "      <td>46.9</td>\n",
       "      <td>34,651</td>\n",
       "      <td>20.5</td>\n",
       "      <td>25%</td>\n",
       "      <td>67 : 33</td>\n",
       "      <td>2015</td>\n",
       "    </tr>\n",
       "    <tr>\n",
       "      <th>1650</th>\n",
       "      <td>226-250</td>\n",
       "      <td>Vienna University of Technology</td>\n",
       "      <td>Austria</td>\n",
       "      <td>43.3</td>\n",
       "      <td>75.9</td>\n",
       "      <td>32.4</td>\n",
       "      <td>41.7</td>\n",
       "      <td>64.1</td>\n",
       "      <td>-</td>\n",
       "      <td>26,419</td>\n",
       "      <td>52.0</td>\n",
       "      <td>27%</td>\n",
       "      <td>27 : 73</td>\n",
       "      <td>2015</td>\n",
       "    </tr>\n",
       "    <tr>\n",
       "      <th>1654</th>\n",
       "      <td>251-275</td>\n",
       "      <td>Medical University of Vienna</td>\n",
       "      <td>Austria</td>\n",
       "      <td>28.6</td>\n",
       "      <td>73.1</td>\n",
       "      <td>17.0</td>\n",
       "      <td>71.1</td>\n",
       "      <td>33.7</td>\n",
       "      <td>-</td>\n",
       "      <td>7,426</td>\n",
       "      <td>2.9</td>\n",
       "      <td>28%</td>\n",
       "      <td>50 : 50</td>\n",
       "      <td>2015</td>\n",
       "    </tr>\n",
       "    <tr>\n",
       "      <th>1945</th>\n",
       "      <td>142</td>\n",
       "      <td>University of Vienna</td>\n",
       "      <td>Austria</td>\n",
       "      <td>40.8</td>\n",
       "      <td>92.6</td>\n",
       "      <td>50.5</td>\n",
       "      <td>63.6</td>\n",
       "      <td>30.2</td>\n",
       "      <td>54.2</td>\n",
       "      <td>34,651</td>\n",
       "      <td>20.5</td>\n",
       "      <td>25%</td>\n",
       "      <td>67 : 33</td>\n",
       "      <td>2016</td>\n",
       "    </tr>\n",
       "    <tr>\n",
       "      <th>2028</th>\n",
       "      <td>201-250</td>\n",
       "      <td>Medical University of Vienna</td>\n",
       "      <td>Austria</td>\n",
       "      <td>26.6</td>\n",
       "      <td>81.7</td>\n",
       "      <td>14.6</td>\n",
       "      <td>89.1</td>\n",
       "      <td>33.9</td>\n",
       "      <td>-</td>\n",
       "      <td>7,426</td>\n",
       "      <td>2.9</td>\n",
       "      <td>28%</td>\n",
       "      <td>50 : 50</td>\n",
       "      <td>2016</td>\n",
       "    </tr>\n",
       "    <tr>\n",
       "      <th>2101</th>\n",
       "      <td>251-300</td>\n",
       "      <td>Vienna University of Technology</td>\n",
       "      <td>Austria</td>\n",
       "      <td>34.1</td>\n",
       "      <td>77.3</td>\n",
       "      <td>32.0</td>\n",
       "      <td>54.6</td>\n",
       "      <td>86.5</td>\n",
       "      <td>-</td>\n",
       "      <td>26,419</td>\n",
       "      <td>52.0</td>\n",
       "      <td>27%</td>\n",
       "      <td>27 : 73</td>\n",
       "      <td>2016</td>\n",
       "    </tr>\n",
       "  </tbody>\n",
       "</table>\n",
       "</div>"
      ],
      "text/plain": [
       "     world_rank                  university_name  country  teaching  \\\n",
       "194         195             University of Vienna  Austria      47.6   \n",
       "338         139             University of Vienna  Austria      49.5   \n",
       "547     301-350  Vienna University of Technology  Austria      26.3   \n",
       "764         162             University of Vienna  Austria      44.3   \n",
       "876     251-275  Vienna University of Technology  Austria      44.8   \n",
       "914     301-350     Medical University of Vienna  Austria      23.7   \n",
       "1172        170             University of Vienna  Austria      35.8   \n",
       "1254    226-250  Vienna University of Technology  Austria      39.2   \n",
       "1258    251-275     Medical University of Vienna  Austria      25.9   \n",
       "1585        182             University of Vienna  Austria      35.2   \n",
       "1650    226-250  Vienna University of Technology  Austria      43.3   \n",
       "1654    251-275     Medical University of Vienna  Austria      28.6   \n",
       "1945        142             University of Vienna  Austria      40.8   \n",
       "2028    201-250     Medical University of Vienna  Austria      26.6   \n",
       "2101    251-300  Vienna University of Technology  Austria      34.1   \n",
       "\n",
       "     international  research  citations income total_score num_students  \\\n",
       "194           63.2      45.7       45.6   27.0        46.7       34,651   \n",
       "338           86.6      41.2       45.2   25.4        47.9       34,651   \n",
       "547           82.5      14.1       24.3   35.2           -       26,419   \n",
       "764           86.3      46.7       52.4   29.1        50.2       34,651   \n",
       "876           71.4      32.4       34.2   65.5           -       26,419   \n",
       "914           66.2      13.4       66.0   33.2           -        7,426   \n",
       "1172          89.5      36.1       57.4   29.3        46.2       34,651   \n",
       "1254          72.4      30.8       40.9   66.6           -       26,419   \n",
       "1258          69.4      15.9       68.3   33.7           -        7,426   \n",
       "1585          91.0      39.7       56.3   29.4        46.9       34,651   \n",
       "1650          75.9      32.4       41.7   64.1           -       26,419   \n",
       "1654          73.1      17.0       71.1   33.7           -        7,426   \n",
       "1945          92.6      50.5       63.6   30.2        54.2       34,651   \n",
       "2028          81.7      14.6       89.1   33.9           -        7,426   \n",
       "2101          77.3      32.0       54.6   86.5           -       26,419   \n",
       "\n",
       "      student_staff_ratio international_students female_male_ratio  year  \n",
       "194                  20.5                    25%           67 : 33  2011  \n",
       "338                  20.5                    25%           67 : 33  2012  \n",
       "547                  52.0                    27%           27 : 73  2012  \n",
       "764                  20.5                    25%           67 : 33  2013  \n",
       "876                  52.0                    27%           27 : 73  2013  \n",
       "914                   2.9                    28%           50 : 50  2013  \n",
       "1172                 20.5                    25%           67 : 33  2014  \n",
       "1254                 52.0                    27%           27 : 73  2014  \n",
       "1258                  2.9                    28%           50 : 50  2014  \n",
       "1585                 20.5                    25%           67 : 33  2015  \n",
       "1650                 52.0                    27%           27 : 73  2015  \n",
       "1654                  2.9                    28%           50 : 50  2015  \n",
       "1945                 20.5                    25%           67 : 33  2016  \n",
       "2028                  2.9                    28%           50 : 50  2016  \n",
       "2101                 52.0                    27%           27 : 73  2016  "
      ]
     },
     "execution_count": 139,
     "metadata": {},
     "output_type": "execute_result"
    }
   ],
   "source": [
    "df[df[\"university_name\"].str.contains(\"Vienna\")]"
   ]
  },
  {
   "cell_type": "markdown",
   "metadata": {},
   "source": [
    "If we want to select data using several criteria, we have to put each of them in parantheses and use one of theses operators:\n",
    "- ``&`` \"and\"\n",
    "- ``|`` \"or\""
   ]
  },
  {
   "cell_type": "code",
   "execution_count": 140,
   "metadata": {},
   "outputs": [
    {
     "data": {
      "text/html": [
       "<div>\n",
       "<style scoped>\n",
       "    .dataframe tbody tr th:only-of-type {\n",
       "        vertical-align: middle;\n",
       "    }\n",
       "\n",
       "    .dataframe tbody tr th {\n",
       "        vertical-align: top;\n",
       "    }\n",
       "\n",
       "    .dataframe thead th {\n",
       "        text-align: right;\n",
       "    }\n",
       "</style>\n",
       "<table border=\"1\" class=\"dataframe\">\n",
       "  <thead>\n",
       "    <tr style=\"text-align: right;\">\n",
       "      <th></th>\n",
       "      <th>world_rank</th>\n",
       "      <th>university_name</th>\n",
       "      <th>country</th>\n",
       "      <th>teaching</th>\n",
       "      <th>international</th>\n",
       "      <th>research</th>\n",
       "      <th>citations</th>\n",
       "      <th>income</th>\n",
       "      <th>total_score</th>\n",
       "      <th>num_students</th>\n",
       "      <th>student_staff_ratio</th>\n",
       "      <th>international_students</th>\n",
       "      <th>female_male_ratio</th>\n",
       "      <th>year</th>\n",
       "    </tr>\n",
       "  </thead>\n",
       "  <tbody>\n",
       "    <tr>\n",
       "      <th>1808</th>\n",
       "      <td>6</td>\n",
       "      <td>Harvard University</td>\n",
       "      <td>United States of America</td>\n",
       "      <td>83.6</td>\n",
       "      <td>77.2</td>\n",
       "      <td>99.0</td>\n",
       "      <td>99.8</td>\n",
       "      <td>45.2</td>\n",
       "      <td>91.6</td>\n",
       "      <td>20,152</td>\n",
       "      <td>8.9</td>\n",
       "      <td>25%</td>\n",
       "      <td>NaN</td>\n",
       "      <td>2016</td>\n",
       "    </tr>\n",
       "  </tbody>\n",
       "</table>\n",
       "</div>"
      ],
      "text/plain": [
       "     world_rank     university_name                   country  teaching  \\\n",
       "1808          6  Harvard University  United States of America      83.6   \n",
       "\n",
       "     international  research  citations income total_score num_students  \\\n",
       "1808          77.2      99.0       99.8   45.2        91.6       20,152   \n",
       "\n",
       "      student_staff_ratio international_students female_male_ratio  year  \n",
       "1808                  8.9                    25%               NaN  2016  "
      ]
     },
     "execution_count": 140,
     "metadata": {},
     "output_type": "execute_result"
    }
   ],
   "source": [
    "df[(df[\"university_name\"] == \"Harvard University\") & (df[\"year\"] == 2016)]"
   ]
  },
  {
   "cell_type": "code",
   "execution_count": 154,
   "metadata": {},
   "outputs": [
    {
     "data": {
      "text/html": [
       "<div>\n",
       "<style scoped>\n",
       "    .dataframe tbody tr th:only-of-type {\n",
       "        vertical-align: middle;\n",
       "    }\n",
       "\n",
       "    .dataframe tbody tr th {\n",
       "        vertical-align: top;\n",
       "    }\n",
       "\n",
       "    .dataframe thead th {\n",
       "        text-align: right;\n",
       "    }\n",
       "</style>\n",
       "<table border=\"1\" class=\"dataframe\">\n",
       "  <thead>\n",
       "    <tr style=\"text-align: right;\">\n",
       "      <th></th>\n",
       "      <th>world_rank</th>\n",
       "      <th>university_name</th>\n",
       "      <th>country</th>\n",
       "      <th>teaching</th>\n",
       "      <th>international</th>\n",
       "      <th>research</th>\n",
       "      <th>citations</th>\n",
       "      <th>income</th>\n",
       "      <th>total_score</th>\n",
       "      <th>num_students</th>\n",
       "      <th>student_staff_ratio</th>\n",
       "      <th>international_students</th>\n",
       "      <th>female_male_ratio</th>\n",
       "      <th>year</th>\n",
       "    </tr>\n",
       "  </thead>\n",
       "  <tbody>\n",
       "    <tr>\n",
       "      <th>44</th>\n",
       "      <td>43</td>\n",
       "      <td>University of Göttingen</td>\n",
       "      <td>Germany</td>\n",
       "      <td>57.3</td>\n",
       "      <td>44.5</td>\n",
       "      <td>55.9</td>\n",
       "      <td>92.5</td>\n",
       "      <td>31.7</td>\n",
       "      <td>67.0</td>\n",
       "      <td>25,581</td>\n",
       "      <td>25.6</td>\n",
       "      <td>12%</td>\n",
       "      <td>51 : 49</td>\n",
       "      <td>2011</td>\n",
       "    </tr>\n",
       "    <tr>\n",
       "      <th>671</th>\n",
       "      <td>70</td>\n",
       "      <td>University of Göttingen</td>\n",
       "      <td>Germany</td>\n",
       "      <td>50.0</td>\n",
       "      <td>51.0</td>\n",
       "      <td>52.5</td>\n",
       "      <td>92.5</td>\n",
       "      <td>34.4</td>\n",
       "      <td>63.2</td>\n",
       "      <td>25,581</td>\n",
       "      <td>25.6</td>\n",
       "      <td>12%</td>\n",
       "      <td>51 : 49</td>\n",
       "      <td>2013</td>\n",
       "    </tr>\n",
       "    <tr>\n",
       "      <th>1468</th>\n",
       "      <td>67</td>\n",
       "      <td>University of Göttingen</td>\n",
       "      <td>Germany</td>\n",
       "      <td>46.9</td>\n",
       "      <td>53.9</td>\n",
       "      <td>48.0</td>\n",
       "      <td>92.3</td>\n",
       "      <td>32.8</td>\n",
       "      <td>61.0</td>\n",
       "      <td>25,581</td>\n",
       "      <td>25.6</td>\n",
       "      <td>12%</td>\n",
       "      <td>51 : 49</td>\n",
       "      <td>2015</td>\n",
       "    </tr>\n",
       "  </tbody>\n",
       "</table>\n",
       "</div>"
      ],
      "text/plain": [
       "     world_rank          university_name  country  teaching international  \\\n",
       "44           43  University of Göttingen  Germany      57.3          44.5   \n",
       "671          70  University of Göttingen  Germany      50.0          51.0   \n",
       "1468         67  University of Göttingen  Germany      46.9          53.9   \n",
       "\n",
       "      research  citations income total_score num_students  \\\n",
       "44        55.9       92.5   31.7        67.0       25,581   \n",
       "671       52.5       92.5   34.4        63.2       25,581   \n",
       "1468      48.0       92.3   32.8        61.0       25,581   \n",
       "\n",
       "      student_staff_ratio international_students female_male_ratio  year  \n",
       "44                   25.6                    12%           51 : 49  2011  \n",
       "671                  25.6                    12%           51 : 49  2013  \n",
       "1468                 25.6                    12%           51 : 49  2015  "
      ]
     },
     "execution_count": 154,
     "metadata": {},
     "output_type": "execute_result"
    }
   ],
   "source": [
    "df[(df[\"country\"] == \"Germany\") & (df[\"citations\"] > 90.0)]"
   ]
  },
  {
   "cell_type": "markdown",
   "metadata": {},
   "source": [
    "### Incomplete and missing data"
   ]
  },
  {
   "cell_type": "markdown",
   "metadata": {},
   "source": [
    "In Pandas missing values in the dataframe are null values (also called not-a-number values \"nan\"). We can find them using the ```isnull()``` function or exclude them using the ```notnull()``` function."
   ]
  },
  {
   "cell_type": "markdown",
   "metadata": {},
   "source": [
    "We can use that to check how many observations without student numbers we have."
   ]
  },
  {
   "cell_type": "code",
   "execution_count": 156,
   "metadata": {},
   "outputs": [
    {
     "data": {
      "text/plain": [
       "(59, 14)"
      ]
     },
     "execution_count": 156,
     "metadata": {},
     "output_type": "execute_result"
    }
   ],
   "source": [
    "df[df[\"num_students\"].isnull()].shape"
   ]
  },
  {
   "cell_type": "code",
   "execution_count": 157,
   "metadata": {},
   "outputs": [
    {
     "data": {
      "text/html": [
       "<div>\n",
       "<style scoped>\n",
       "    .dataframe tbody tr th:only-of-type {\n",
       "        vertical-align: middle;\n",
       "    }\n",
       "\n",
       "    .dataframe tbody tr th {\n",
       "        vertical-align: top;\n",
       "    }\n",
       "\n",
       "    .dataframe thead th {\n",
       "        text-align: right;\n",
       "    }\n",
       "</style>\n",
       "<table border=\"1\" class=\"dataframe\">\n",
       "  <thead>\n",
       "    <tr style=\"text-align: right;\">\n",
       "      <th></th>\n",
       "      <th>world_rank</th>\n",
       "      <th>university_name</th>\n",
       "      <th>country</th>\n",
       "      <th>teaching</th>\n",
       "      <th>international</th>\n",
       "      <th>research</th>\n",
       "      <th>citations</th>\n",
       "      <th>income</th>\n",
       "      <th>total_score</th>\n",
       "      <th>num_students</th>\n",
       "      <th>student_staff_ratio</th>\n",
       "      <th>international_students</th>\n",
       "      <th>female_male_ratio</th>\n",
       "      <th>year</th>\n",
       "    </tr>\n",
       "  </thead>\n",
       "  <tbody>\n",
       "    <tr>\n",
       "      <th>45</th>\n",
       "      <td>43</td>\n",
       "      <td>University of Wisconsin</td>\n",
       "      <td>United States of America</td>\n",
       "      <td>55.5</td>\n",
       "      <td>43.7</td>\n",
       "      <td>64.6</td>\n",
       "      <td>83.4</td>\n",
       "      <td>-</td>\n",
       "      <td>67.0</td>\n",
       "      <td>NaN</td>\n",
       "      <td>NaN</td>\n",
       "      <td>NaN</td>\n",
       "      <td>NaN</td>\n",
       "      <td>2011</td>\n",
       "    </tr>\n",
       "    <tr>\n",
       "      <th>81</th>\n",
       "      <td>81</td>\n",
       "      <td>University of York</td>\n",
       "      <td>United Kingdom</td>\n",
       "      <td>47.9</td>\n",
       "      <td>66.6</td>\n",
       "      <td>46.2</td>\n",
       "      <td>81.9</td>\n",
       "      <td>36.2</td>\n",
       "      <td>59.1</td>\n",
       "      <td>NaN</td>\n",
       "      <td>NaN</td>\n",
       "      <td>NaN</td>\n",
       "      <td>NaN</td>\n",
       "      <td>2011</td>\n",
       "    </tr>\n",
       "  </tbody>\n",
       "</table>\n",
       "</div>"
      ],
      "text/plain": [
       "   world_rank          university_name                   country  teaching  \\\n",
       "45         43  University of Wisconsin  United States of America      55.5   \n",
       "81         81       University of York            United Kingdom      47.9   \n",
       "\n",
       "   international  research  citations income total_score num_students  \\\n",
       "45          43.7      64.6       83.4      -        67.0          NaN   \n",
       "81          66.6      46.2       81.9   36.2        59.1          NaN   \n",
       "\n",
       "    student_staff_ratio international_students female_male_ratio  year  \n",
       "45                  NaN                    NaN               NaN  2011  \n",
       "81                  NaN                    NaN               NaN  2011  "
      ]
     },
     "execution_count": 157,
     "metadata": {},
     "output_type": "execute_result"
    }
   ],
   "source": [
    "df[df[\"num_students\"].isnull()].head(2)"
   ]
  },
  {
   "cell_type": "markdown",
   "metadata": {},
   "source": [
    "The easiest way to get rid of all missing information and only keep observations with complete information is to use ```dropna()``` on the complete dataframe. But be careful you may lose quite some observations."
   ]
  },
  {
   "cell_type": "code",
   "execution_count": 158,
   "metadata": {},
   "outputs": [
    {
     "name": "stdout",
     "output_type": "stream",
     "text": [
      "(2603, 14)\n",
      "(2362, 14)\n"
     ]
    }
   ],
   "source": [
    "print(df.shape)\n",
    "print(df.dropna().shape)"
   ]
  },
  {
   "cell_type": "code",
   "execution_count": 164,
   "metadata": {},
   "outputs": [],
   "source": [
    "df_filtered = df.dropna(subset=[\"num_students\"])"
   ]
  },
  {
   "cell_type": "code",
   "execution_count": 166,
   "metadata": {},
   "outputs": [
    {
     "data": {
      "text/html": [
       "<div>\n",
       "<style scoped>\n",
       "    .dataframe tbody tr th:only-of-type {\n",
       "        vertical-align: middle;\n",
       "    }\n",
       "\n",
       "    .dataframe tbody tr th {\n",
       "        vertical-align: top;\n",
       "    }\n",
       "\n",
       "    .dataframe thead th {\n",
       "        text-align: right;\n",
       "    }\n",
       "</style>\n",
       "<table border=\"1\" class=\"dataframe\">\n",
       "  <thead>\n",
       "    <tr style=\"text-align: right;\">\n",
       "      <th></th>\n",
       "      <th>world_rank</th>\n",
       "      <th>university_name</th>\n",
       "      <th>country</th>\n",
       "      <th>teaching</th>\n",
       "      <th>international</th>\n",
       "      <th>research</th>\n",
       "      <th>citations</th>\n",
       "      <th>income</th>\n",
       "      <th>total_score</th>\n",
       "      <th>num_students</th>\n",
       "      <th>student_staff_ratio</th>\n",
       "      <th>international_students</th>\n",
       "      <th>female_male_ratio</th>\n",
       "      <th>year</th>\n",
       "    </tr>\n",
       "  </thead>\n",
       "  <tbody>\n",
       "  </tbody>\n",
       "</table>\n",
       "</div>"
      ],
      "text/plain": [
       "Empty DataFrame\n",
       "Columns: [world_rank, university_name, country, teaching, international, research, citations, income, total_score, num_students, student_staff_ratio, international_students, female_male_ratio, year]\n",
       "Index: []"
      ]
     },
     "execution_count": 166,
     "metadata": {},
     "output_type": "execute_result"
    }
   ],
   "source": [
    "df_filtered[df_filtered[\"num_students\"].isnull()]"
   ]
  },
  {
   "cell_type": "markdown",
   "metadata": {},
   "source": [
    "### <font color='red'>If some functions do not work on specific colums, null values are quite often the problem, as many functions are not able to process them. Try to drop nan values.</font>"
   ]
  },
  {
   "cell_type": "markdown",
   "metadata": {},
   "source": [
    "### Combine dataframes"
   ]
  },
  {
   "cell_type": "markdown",
   "metadata": {},
   "source": [
    "To concatenate two dataframes (i.e. attaching a dataframe to the end of another dataframe), we can use the Pandas ```concat()``` function and pass a list with the dataframes that we want to concatenate."
   ]
  },
  {
   "cell_type": "code",
   "execution_count": 168,
   "metadata": {},
   "outputs": [
    {
     "data": {
      "text/html": [
       "<div>\n",
       "<style scoped>\n",
       "    .dataframe tbody tr th:only-of-type {\n",
       "        vertical-align: middle;\n",
       "    }\n",
       "\n",
       "    .dataframe tbody tr th {\n",
       "        vertical-align: top;\n",
       "    }\n",
       "\n",
       "    .dataframe thead th {\n",
       "        text-align: right;\n",
       "    }\n",
       "</style>\n",
       "<table border=\"1\" class=\"dataframe\">\n",
       "  <thead>\n",
       "    <tr style=\"text-align: right;\">\n",
       "      <th></th>\n",
       "      <th>world_rank</th>\n",
       "      <th>university_name</th>\n",
       "      <th>country</th>\n",
       "      <th>teaching</th>\n",
       "      <th>international</th>\n",
       "      <th>research</th>\n",
       "      <th>citations</th>\n",
       "      <th>income</th>\n",
       "      <th>total_score</th>\n",
       "      <th>num_students</th>\n",
       "      <th>student_staff_ratio</th>\n",
       "      <th>international_students</th>\n",
       "      <th>female_male_ratio</th>\n",
       "      <th>year</th>\n",
       "    </tr>\n",
       "  </thead>\n",
       "  <tbody>\n",
       "    <tr>\n",
       "      <th>810</th>\n",
       "      <td>201-225</td>\n",
       "      <td>Northeastern University</td>\n",
       "      <td>United States of America</td>\n",
       "      <td>40.1</td>\n",
       "      <td>41.0</td>\n",
       "      <td>21.2</td>\n",
       "      <td>76.4</td>\n",
       "      <td>33.8</td>\n",
       "      <td>-</td>\n",
       "      <td>18,539</td>\n",
       "      <td>15.1</td>\n",
       "      <td>26%</td>\n",
       "      <td>50 : 50</td>\n",
       "      <td>2013</td>\n",
       "    </tr>\n",
       "    <tr>\n",
       "      <th>768</th>\n",
       "      <td>167</td>\n",
       "      <td>University of Texas at Dallas</td>\n",
       "      <td>United States of America</td>\n",
       "      <td>32.6</td>\n",
       "      <td>46.8</td>\n",
       "      <td>32.2</td>\n",
       "      <td>85.2</td>\n",
       "      <td>40.0</td>\n",
       "      <td>49.5</td>\n",
       "      <td>16,306</td>\n",
       "      <td>22.8</td>\n",
       "      <td>23%</td>\n",
       "      <td>44 : 56</td>\n",
       "      <td>2013</td>\n",
       "    </tr>\n",
       "    <tr>\n",
       "      <th>2330</th>\n",
       "      <td>501-600</td>\n",
       "      <td>University of Hertfordshire</td>\n",
       "      <td>United Kingdom</td>\n",
       "      <td>15.5</td>\n",
       "      <td>78.9</td>\n",
       "      <td>9.5</td>\n",
       "      <td>50.5</td>\n",
       "      <td>29.3</td>\n",
       "      <td>-</td>\n",
       "      <td>19,665</td>\n",
       "      <td>19.4</td>\n",
       "      <td>27%</td>\n",
       "      <td>54 : 46</td>\n",
       "      <td>2016</td>\n",
       "    </tr>\n",
       "    <tr>\n",
       "      <th>1785</th>\n",
       "      <td>351-400</td>\n",
       "      <td>University of Hertfordshire</td>\n",
       "      <td>United Kingdom</td>\n",
       "      <td>16.2</td>\n",
       "      <td>74.9</td>\n",
       "      <td>10.9</td>\n",
       "      <td>65.0</td>\n",
       "      <td>29.6</td>\n",
       "      <td>-</td>\n",
       "      <td>19,665</td>\n",
       "      <td>19.4</td>\n",
       "      <td>27%</td>\n",
       "      <td>54 : 46</td>\n",
       "      <td>2015</td>\n",
       "    </tr>\n",
       "    <tr>\n",
       "      <th>402</th>\n",
       "      <td>201-225</td>\n",
       "      <td>Cardiff University</td>\n",
       "      <td>United Kingdom</td>\n",
       "      <td>28.9</td>\n",
       "      <td>67.8</td>\n",
       "      <td>34.0</td>\n",
       "      <td>51.7</td>\n",
       "      <td>35.5</td>\n",
       "      <td>-</td>\n",
       "      <td>23,347</td>\n",
       "      <td>13.1</td>\n",
       "      <td>23%</td>\n",
       "      <td>57 : 43</td>\n",
       "      <td>2012</td>\n",
       "    </tr>\n",
       "  </tbody>\n",
       "</table>\n",
       "</div>"
      ],
      "text/plain": [
       "     world_rank                university_name                   country  \\\n",
       "810     201-225        Northeastern University  United States of America   \n",
       "768         167  University of Texas at Dallas  United States of America   \n",
       "2330    501-600    University of Hertfordshire            United Kingdom   \n",
       "1785    351-400    University of Hertfordshire            United Kingdom   \n",
       "402     201-225             Cardiff University            United Kingdom   \n",
       "\n",
       "      teaching international  research  citations income total_score  \\\n",
       "810       40.1          41.0      21.2       76.4   33.8           -   \n",
       "768       32.6          46.8      32.2       85.2   40.0        49.5   \n",
       "2330      15.5          78.9       9.5       50.5   29.3           -   \n",
       "1785      16.2          74.9      10.9       65.0   29.6           -   \n",
       "402       28.9          67.8      34.0       51.7   35.5           -   \n",
       "\n",
       "     num_students  student_staff_ratio international_students  \\\n",
       "810        18,539                 15.1                    26%   \n",
       "768        16,306                 22.8                    23%   \n",
       "2330       19,665                 19.4                    27%   \n",
       "1785       19,665                 19.4                    27%   \n",
       "402        23,347                 13.1                    23%   \n",
       "\n",
       "     female_male_ratio  year  \n",
       "810            50 : 50  2013  \n",
       "768            44 : 56  2013  \n",
       "2330           54 : 46  2016  \n",
       "1785           54 : 46  2015  \n",
       "402            57 : 43  2012  "
      ]
     },
     "execution_count": 168,
     "metadata": {},
     "output_type": "execute_result"
    }
   ],
   "source": [
    "usa_universities = df[df[\"country\"] == \"United States of America\"]\n",
    "uk_universities = df[df[\"country\"] == \"United Kingdom\"]\n",
    "\n",
    "usa_uk_universities = pd.concat([usa_universities, uk_universities])\n",
    "\n",
    "usa_uk_universities.sample(5)"
   ]
  },
  {
   "cell_type": "markdown",
   "metadata": {},
   "source": [
    "We can also combine different dataframes at the level of observations by using an identifier. First, let's load another university ranking."
   ]
  },
  {
   "cell_type": "code",
   "execution_count": 173,
   "metadata": {},
   "outputs": [
    {
     "data": {
      "text/html": [
       "<div>\n",
       "<style scoped>\n",
       "    .dataframe tbody tr th:only-of-type {\n",
       "        vertical-align: middle;\n",
       "    }\n",
       "\n",
       "    .dataframe tbody tr th {\n",
       "        vertical-align: top;\n",
       "    }\n",
       "\n",
       "    .dataframe thead th {\n",
       "        text-align: right;\n",
       "    }\n",
       "</style>\n",
       "<table border=\"1\" class=\"dataframe\">\n",
       "  <thead>\n",
       "    <tr style=\"text-align: right;\">\n",
       "      <th></th>\n",
       "      <th>world_rank</th>\n",
       "      <th>institution</th>\n",
       "      <th>country</th>\n",
       "      <th>national_rank</th>\n",
       "      <th>quality_of_education</th>\n",
       "      <th>alumni_employment</th>\n",
       "      <th>quality_of_faculty</th>\n",
       "      <th>publications</th>\n",
       "      <th>influence</th>\n",
       "      <th>citations</th>\n",
       "      <th>broad_impact</th>\n",
       "      <th>patents</th>\n",
       "      <th>score</th>\n",
       "      <th>year</th>\n",
       "    </tr>\n",
       "  </thead>\n",
       "  <tbody>\n",
       "    <tr>\n",
       "      <th>0</th>\n",
       "      <td>1</td>\n",
       "      <td>Harvard University</td>\n",
       "      <td>USA</td>\n",
       "      <td>1</td>\n",
       "      <td>7</td>\n",
       "      <td>9</td>\n",
       "      <td>1</td>\n",
       "      <td>1</td>\n",
       "      <td>1</td>\n",
       "      <td>1</td>\n",
       "      <td>NaN</td>\n",
       "      <td>5</td>\n",
       "      <td>100.00</td>\n",
       "      <td>2012</td>\n",
       "    </tr>\n",
       "    <tr>\n",
       "      <th>1</th>\n",
       "      <td>2</td>\n",
       "      <td>Massachusetts Institute of Technology</td>\n",
       "      <td>USA</td>\n",
       "      <td>2</td>\n",
       "      <td>9</td>\n",
       "      <td>17</td>\n",
       "      <td>3</td>\n",
       "      <td>12</td>\n",
       "      <td>4</td>\n",
       "      <td>4</td>\n",
       "      <td>NaN</td>\n",
       "      <td>1</td>\n",
       "      <td>91.67</td>\n",
       "      <td>2012</td>\n",
       "    </tr>\n",
       "  </tbody>\n",
       "</table>\n",
       "</div>"
      ],
      "text/plain": [
       "   world_rank                            institution country  national_rank  \\\n",
       "0           1                     Harvard University     USA              1   \n",
       "1           2  Massachusetts Institute of Technology     USA              2   \n",
       "\n",
       "   quality_of_education  alumni_employment  quality_of_faculty  publications  \\\n",
       "0                     7                  9                   1             1   \n",
       "1                     9                 17                   3            12   \n",
       "\n",
       "   influence  citations  broad_impact  patents   score  year  \n",
       "0          1          1           NaN        5  100.00  2012  \n",
       "1          4          4           NaN        1   91.67  2012  "
      ]
     },
     "execution_count": 173,
     "metadata": {},
     "output_type": "execute_result"
    }
   ],
   "source": [
    "df2 = pd.read_csv(\"cwur_university_data.csv\", sep=\",\")\n",
    "df2.head(2)"
   ]
  },
  {
   "cell_type": "markdown",
   "metadata": {},
   "source": [
    "Let's say we want to compare the ranking of these two datasets for the year 2015. So first we need to filter both datasets for the year 2015 and then keep only the columns we are intersted in (name and ranking)."
   ]
  },
  {
   "cell_type": "code",
   "execution_count": 177,
   "metadata": {},
   "outputs": [],
   "source": [
    "df_2015 = df[df[\"year\"] == 2015][[\"world_rank\", \"university_name\"]]\n",
    "df2_2015 = df2[df2[\"year\"] == 2015][[\"world_rank\", \"institution\"]]"
   ]
  },
  {
   "cell_type": "code",
   "execution_count": 178,
   "metadata": {},
   "outputs": [
    {
     "data": {
      "text/html": [
       "<div>\n",
       "<style scoped>\n",
       "    .dataframe tbody tr th:only-of-type {\n",
       "        vertical-align: middle;\n",
       "    }\n",
       "\n",
       "    .dataframe tbody tr th {\n",
       "        vertical-align: top;\n",
       "    }\n",
       "\n",
       "    .dataframe thead th {\n",
       "        text-align: right;\n",
       "    }\n",
       "</style>\n",
       "<table border=\"1\" class=\"dataframe\">\n",
       "  <thead>\n",
       "    <tr style=\"text-align: right;\">\n",
       "      <th></th>\n",
       "      <th>world_rank</th>\n",
       "      <th>university_name</th>\n",
       "    </tr>\n",
       "  </thead>\n",
       "  <tbody>\n",
       "    <tr>\n",
       "      <th>1402</th>\n",
       "      <td>1</td>\n",
       "      <td>California Institute of Technology</td>\n",
       "    </tr>\n",
       "    <tr>\n",
       "      <th>1403</th>\n",
       "      <td>2</td>\n",
       "      <td>Harvard University</td>\n",
       "    </tr>\n",
       "  </tbody>\n",
       "</table>\n",
       "</div>"
      ],
      "text/plain": [
       "     world_rank                     university_name\n",
       "1402          1  California Institute of Technology\n",
       "1403          2                  Harvard University"
      ]
     },
     "execution_count": 178,
     "metadata": {},
     "output_type": "execute_result"
    }
   ],
   "source": [
    "df_2015.head(2)"
   ]
  },
  {
   "cell_type": "code",
   "execution_count": 179,
   "metadata": {},
   "outputs": [
    {
     "data": {
      "text/html": [
       "<div>\n",
       "<style scoped>\n",
       "    .dataframe tbody tr th:only-of-type {\n",
       "        vertical-align: middle;\n",
       "    }\n",
       "\n",
       "    .dataframe tbody tr th {\n",
       "        vertical-align: top;\n",
       "    }\n",
       "\n",
       "    .dataframe thead th {\n",
       "        text-align: right;\n",
       "    }\n",
       "</style>\n",
       "<table border=\"1\" class=\"dataframe\">\n",
       "  <thead>\n",
       "    <tr style=\"text-align: right;\">\n",
       "      <th></th>\n",
       "      <th>world_rank</th>\n",
       "      <th>institution</th>\n",
       "    </tr>\n",
       "  </thead>\n",
       "  <tbody>\n",
       "    <tr>\n",
       "      <th>1200</th>\n",
       "      <td>1</td>\n",
       "      <td>Harvard University</td>\n",
       "    </tr>\n",
       "    <tr>\n",
       "      <th>1201</th>\n",
       "      <td>2</td>\n",
       "      <td>Stanford University</td>\n",
       "    </tr>\n",
       "  </tbody>\n",
       "</table>\n",
       "</div>"
      ],
      "text/plain": [
       "      world_rank          institution\n",
       "1200           1   Harvard University\n",
       "1201           2  Stanford University"
      ]
     },
     "execution_count": 179,
     "metadata": {},
     "output_type": "execute_result"
    }
   ],
   "source": [
    "df2_2015.head(2)"
   ]
  },
  {
   "cell_type": "markdown",
   "metadata": {},
   "source": [
    "Now we can use the ```merge()``` function on our first dataframe to combine it with our second dataframe. We also tell the function to use the \"left\" (i.e. first dataframe) as the basis and the names as the merge key."
   ]
  },
  {
   "cell_type": "code",
   "execution_count": 180,
   "metadata": {},
   "outputs": [
    {
     "data": {
      "text/html": [
       "<div>\n",
       "<style scoped>\n",
       "    .dataframe tbody tr th:only-of-type {\n",
       "        vertical-align: middle;\n",
       "    }\n",
       "\n",
       "    .dataframe tbody tr th {\n",
       "        vertical-align: top;\n",
       "    }\n",
       "\n",
       "    .dataframe thead th {\n",
       "        text-align: right;\n",
       "    }\n",
       "</style>\n",
       "<table border=\"1\" class=\"dataframe\">\n",
       "  <thead>\n",
       "    <tr style=\"text-align: right;\">\n",
       "      <th></th>\n",
       "      <th>world_rank_x</th>\n",
       "      <th>university_name</th>\n",
       "      <th>world_rank_y</th>\n",
       "      <th>institution</th>\n",
       "    </tr>\n",
       "  </thead>\n",
       "  <tbody>\n",
       "    <tr>\n",
       "      <th>0</th>\n",
       "      <td>1</td>\n",
       "      <td>California Institute of Technology</td>\n",
       "      <td>12.0</td>\n",
       "      <td>California Institute of Technology</td>\n",
       "    </tr>\n",
       "    <tr>\n",
       "      <th>1</th>\n",
       "      <td>2</td>\n",
       "      <td>Harvard University</td>\n",
       "      <td>1.0</td>\n",
       "      <td>Harvard University</td>\n",
       "    </tr>\n",
       "  </tbody>\n",
       "</table>\n",
       "</div>"
      ],
      "text/plain": [
       "  world_rank_x                     university_name  world_rank_y  \\\n",
       "0            1  California Institute of Technology          12.0   \n",
       "1            2                  Harvard University           1.0   \n",
       "\n",
       "                          institution  \n",
       "0  California Institute of Technology  \n",
       "1                  Harvard University  "
      ]
     },
     "execution_count": 180,
     "metadata": {},
     "output_type": "execute_result"
    }
   ],
   "source": [
    "merged_df = df_2015.merge(df2_2015, how=\"left\", left_on=\"university_name\", right_on=\"institution\")\n",
    "merged_df.head(2)"
   ]
  },
  {
   "cell_type": "markdown",
   "metadata": {},
   "source": [
    "Let's rename the world rank columns using the ```rename()``` function on our merged dataframe. We have to pass a dictionary (another Python data type) which maps ```{old_name: new_name, ...}```:"
   ]
  },
  {
   "cell_type": "code",
   "execution_count": 181,
   "metadata": {},
   "outputs": [
    {
     "data": {
      "text/html": [
       "<div>\n",
       "<style scoped>\n",
       "    .dataframe tbody tr th:only-of-type {\n",
       "        vertical-align: middle;\n",
       "    }\n",
       "\n",
       "    .dataframe tbody tr th {\n",
       "        vertical-align: top;\n",
       "    }\n",
       "\n",
       "    .dataframe thead th {\n",
       "        text-align: right;\n",
       "    }\n",
       "</style>\n",
       "<table border=\"1\" class=\"dataframe\">\n",
       "  <thead>\n",
       "    <tr style=\"text-align: right;\">\n",
       "      <th></th>\n",
       "      <th>times_ranking</th>\n",
       "      <th>university_name</th>\n",
       "      <th>cwur_ranking</th>\n",
       "      <th>institution</th>\n",
       "    </tr>\n",
       "  </thead>\n",
       "  <tbody>\n",
       "    <tr>\n",
       "      <th>0</th>\n",
       "      <td>1</td>\n",
       "      <td>California Institute of Technology</td>\n",
       "      <td>12.0</td>\n",
       "      <td>California Institute of Technology</td>\n",
       "    </tr>\n",
       "    <tr>\n",
       "      <th>1</th>\n",
       "      <td>2</td>\n",
       "      <td>Harvard University</td>\n",
       "      <td>1.0</td>\n",
       "      <td>Harvard University</td>\n",
       "    </tr>\n",
       "    <tr>\n",
       "      <th>2</th>\n",
       "      <td>3</td>\n",
       "      <td>University of Oxford</td>\n",
       "      <td>5.0</td>\n",
       "      <td>University of Oxford</td>\n",
       "    </tr>\n",
       "    <tr>\n",
       "      <th>3</th>\n",
       "      <td>4</td>\n",
       "      <td>Stanford University</td>\n",
       "      <td>2.0</td>\n",
       "      <td>Stanford University</td>\n",
       "    </tr>\n",
       "    <tr>\n",
       "      <th>4</th>\n",
       "      <td>5</td>\n",
       "      <td>University of Cambridge</td>\n",
       "      <td>4.0</td>\n",
       "      <td>University of Cambridge</td>\n",
       "    </tr>\n",
       "  </tbody>\n",
       "</table>\n",
       "</div>"
      ],
      "text/plain": [
       "  times_ranking                     university_name  cwur_ranking  \\\n",
       "0             1  California Institute of Technology          12.0   \n",
       "1             2                  Harvard University           1.0   \n",
       "2             3                University of Oxford           5.0   \n",
       "3             4                 Stanford University           2.0   \n",
       "4             5             University of Cambridge           4.0   \n",
       "\n",
       "                          institution  \n",
       "0  California Institute of Technology  \n",
       "1                  Harvard University  \n",
       "2                University of Oxford  \n",
       "3                 Stanford University  \n",
       "4             University of Cambridge  "
      ]
     },
     "execution_count": 181,
     "metadata": {},
     "output_type": "execute_result"
    }
   ],
   "source": [
    "merged_df = merged_df.rename(columns={\"world_rank_x\": \"times_ranking\", \"world_rank_y\": \"cwur_ranking\"})\n",
    "merged_df.head(5)"
   ]
  },
  {
   "cell_type": "markdown",
   "metadata": {},
   "source": [
    "### Descriptive statistics"
   ]
  },
  {
   "cell_type": "markdown",
   "metadata": {},
   "source": [
    "To get basic descriptive statistics of a column, use the Pandas ```describe()``` function."
   ]
  },
  {
   "cell_type": "code",
   "execution_count": 183,
   "metadata": {},
   "outputs": [
    {
     "data": {
      "text/plain": [
       "(2603, 14)"
      ]
     },
     "execution_count": 183,
     "metadata": {},
     "output_type": "execute_result"
    }
   ],
   "source": [
    "df.shape"
   ]
  },
  {
   "cell_type": "code",
   "execution_count": 186,
   "metadata": {},
   "outputs": [
    {
     "data": {
      "text/plain": [
       "count    2544.000000\n",
       "mean       18.445283\n",
       "std        11.458698\n",
       "min         0.600000\n",
       "25%        11.975000\n",
       "50%        16.100000\n",
       "75%        21.500000\n",
       "max       162.600000\n",
       "Name: student_staff_ratio, dtype: float64"
      ]
     },
     "execution_count": 186,
     "metadata": {},
     "output_type": "execute_result"
    }
   ],
   "source": [
    "df[\"student_staff_ratio\"].describe()"
   ]
  },
  {
   "cell_type": "markdown",
   "metadata": {},
   "source": [
    "It's also possible to request specific statistics."
   ]
  },
  {
   "cell_type": "code",
   "execution_count": 187,
   "metadata": {},
   "outputs": [
    {
     "data": {
      "text/plain": [
       "18.445283018867975"
      ]
     },
     "execution_count": 187,
     "metadata": {},
     "output_type": "execute_result"
    }
   ],
   "source": [
    "df[\"student_staff_ratio\"].mean()"
   ]
  },
  {
   "cell_type": "code",
   "execution_count": 188,
   "metadata": {},
   "outputs": [
    {
     "data": {
      "text/plain": [
       "0.6"
      ]
     },
     "execution_count": 188,
     "metadata": {},
     "output_type": "execute_result"
    }
   ],
   "source": [
    "df[\"student_staff_ratio\"].min()"
   ]
  },
  {
   "cell_type": "code",
   "execution_count": 189,
   "metadata": {},
   "outputs": [
    {
     "data": {
      "text/plain": [
       "162.6"
      ]
     },
     "execution_count": 189,
     "metadata": {},
     "output_type": "execute_result"
    }
   ],
   "source": [
    "df[\"student_staff_ratio\"].max()"
   ]
  },
  {
   "cell_type": "markdown",
   "metadata": {},
   "source": [
    "We can also use these functions to filter our dataframe."
   ]
  },
  {
   "cell_type": "code",
   "execution_count": 192,
   "metadata": {},
   "outputs": [
    {
     "data": {
      "text/html": [
       "<div>\n",
       "<style scoped>\n",
       "    .dataframe tbody tr th:only-of-type {\n",
       "        vertical-align: middle;\n",
       "    }\n",
       "\n",
       "    .dataframe tbody tr th {\n",
       "        vertical-align: top;\n",
       "    }\n",
       "\n",
       "    .dataframe thead th {\n",
       "        text-align: right;\n",
       "    }\n",
       "</style>\n",
       "<table border=\"1\" class=\"dataframe\">\n",
       "  <thead>\n",
       "    <tr style=\"text-align: right;\">\n",
       "      <th></th>\n",
       "      <th>world_rank</th>\n",
       "      <th>university_name</th>\n",
       "      <th>country</th>\n",
       "      <th>teaching</th>\n",
       "      <th>international</th>\n",
       "      <th>research</th>\n",
       "      <th>citations</th>\n",
       "      <th>income</th>\n",
       "      <th>total_score</th>\n",
       "      <th>num_students</th>\n",
       "      <th>student_staff_ratio</th>\n",
       "      <th>international_students</th>\n",
       "      <th>female_male_ratio</th>\n",
       "      <th>year</th>\n",
       "    </tr>\n",
       "  </thead>\n",
       "  <tbody>\n",
       "    <tr>\n",
       "      <th>2413</th>\n",
       "      <td>601-800</td>\n",
       "      <td>Anadolu University</td>\n",
       "      <td>Turkey</td>\n",
       "      <td>12.2</td>\n",
       "      <td>14.3</td>\n",
       "      <td>22.6</td>\n",
       "      <td>10.9</td>\n",
       "      <td>100.0</td>\n",
       "      <td>-</td>\n",
       "      <td>379,231</td>\n",
       "      <td>162.6</td>\n",
       "      <td>1%</td>\n",
       "      <td>78 : 22</td>\n",
       "      <td>2016</td>\n",
       "    </tr>\n",
       "  </tbody>\n",
       "</table>\n",
       "</div>"
      ],
      "text/plain": [
       "     world_rank     university_name country  teaching international  research  \\\n",
       "2413    601-800  Anadolu University  Turkey      12.2          14.3      22.6   \n",
       "\n",
       "      citations income total_score num_students  student_staff_ratio  \\\n",
       "2413       10.9  100.0           -      379,231                162.6   \n",
       "\n",
       "     international_students female_male_ratio  year  \n",
       "2413                     1%           78 : 22  2016  "
      ]
     },
     "execution_count": 192,
     "metadata": {},
     "output_type": "execute_result"
    }
   ],
   "source": [
    "df[df[\"student_staff_ratio\"] == df[\"student_staff_ratio\"].max()]"
   ]
  },
  {
   "cell_type": "markdown",
   "metadata": {},
   "source": [
    "There is also the function ```value_counts()``` which allows you to count the occurences of values in a column."
   ]
  },
  {
   "cell_type": "code",
   "execution_count": 193,
   "metadata": {},
   "outputs": [
    {
     "data": {
      "text/plain": [
       "United States of America    659\n",
       "United Kingdom              300\n",
       "Germany                     152\n",
       "Australia                   117\n",
       "Canada                      108\n",
       "                           ... \n",
       "Qatar                         1\n",
       "Ghana                         1\n",
       "Lithuania                     1\n",
       "Cyprus                        1\n",
       "Belarus                       1\n",
       "Name: country, Length: 72, dtype: int64"
      ]
     },
     "execution_count": 193,
     "metadata": {},
     "output_type": "execute_result"
    }
   ],
   "source": [
    "df[\"country\"].value_counts()"
   ]
  },
  {
   "cell_type": "markdown",
   "metadata": {},
   "source": [
    "```unique()``` lists all unique values in a column."
   ]
  },
  {
   "cell_type": "code",
   "execution_count": 194,
   "metadata": {},
   "outputs": [
    {
     "data": {
      "text/plain": [
       "array(['United States of America', 'United Kingdom', 'Switzerland',\n",
       "       'Canada', 'Hong Kong', 'Japan', 'South Korea', 'Singapore',\n",
       "       'Australia', 'China', 'France', 'Sweden', 'Germany',\n",
       "       'Republic of Ireland', 'Finland', 'Taiwan', 'South Africa',\n",
       "       'Turkey', 'Netherlands', 'Belgium', 'Denmark', 'Norway', 'Spain',\n",
       "       'New Zealand', 'Egypt', 'Austria', 'Israel', 'Brazil', 'Italy',\n",
       "       'Russian Federation', 'Greece', 'Iceland', 'Czech Republic',\n",
       "       'India', 'Poland', 'Iran', 'Portugal', 'Thailand', 'Chile',\n",
       "       'Estonia', 'Saudi Arabia', 'Mexico', 'Colombia', 'Macau',\n",
       "       'Morocco', 'Luxembourg', 'Unisted States of America', 'Cyprus',\n",
       "       'Unted Kingdom', 'Uganda', 'Malaysia', 'Lebanon', 'Romania',\n",
       "       'Slovenia', 'Pakistan', 'Hungary', 'United Arab Emirates',\n",
       "       'Belarus', 'Serbia', 'Slovakia', 'Bangladesh', 'Ghana', 'Nigeria',\n",
       "       'Indonesia', 'Jordan', 'Latvia', 'Kenya', 'Argentina', 'Qatar',\n",
       "       'Oman', 'Ukraine', 'Lithuania'], dtype=object)"
      ]
     },
     "execution_count": 194,
     "metadata": {},
     "output_type": "execute_result"
    }
   ],
   "source": [
    "df[\"country\"].unique()"
   ]
  },
  {
   "cell_type": "markdown",
   "metadata": {},
   "source": [
    "### Plotting "
   ]
  },
  {
   "cell_type": "markdown",
   "metadata": {},
   "source": [
    "Plotting is as easy at it gets. Just use ```plot()``` and pass one of the following arguments:\n",
    "- 'line' : line plot (default)\n",
    "- 'bar' : vertical bar plot\n",
    "- 'barh' : horizontal bar plot\n",
    "- 'hist' : histogram\n",
    "- 'box' : boxplot\n",
    "- 'kde' : Kernel Density Estimation plot\n",
    "- 'density' : same as 'kde'\n",
    "- 'area' : area plot\n",
    "- 'pie' : pie plot\n",
    "- 'scatter' : scatter plot\n",
    "- 'hexbin' : hexbin plot."
   ]
  },
  {
   "cell_type": "code",
   "execution_count": 198,
   "metadata": {},
   "outputs": [],
   "source": [
    "%matplotlib inline"
   ]
  },
  {
   "cell_type": "code",
   "execution_count": 199,
   "metadata": {},
   "outputs": [
    {
     "data": {
      "text/plain": [
       "<AxesSubplot:ylabel='Frequency'>"
      ]
     },
     "execution_count": 199,
     "metadata": {},
     "output_type": "execute_result"
    },
    {
     "data": {
      "image/png": "[encoded data removed]",
      "text/plain": [
       "<Figure size 432x288 with 1 Axes>"
      ]
     },
     "metadata": {
      "needs_background": "light"
     },
     "output_type": "display_data"
    }
   ],
   "source": [
    "df[\"student_staff_ratio\"].plot(kind=\"hist\")"
   ]
  },
  {
   "cell_type": "markdown",
   "metadata": {},
   "source": [
    "There are several other options you may pass to ```plot()```, just check ```?df.plot``` or https://pandas.pydata.org/pandas-docs/stable/reference/api/pandas.DataFrame.plot.html"
   ]
  },
  {
   "cell_type": "code",
   "execution_count": 201,
   "metadata": {},
   "outputs": [
    {
     "data": {
      "text/plain": [
       "<AxesSubplot:ylabel='Frequency'>"
      ]
     },
     "execution_count": 201,
     "metadata": {},
     "output_type": "execute_result"
    },
    {
     "data": {
      "image/png": "[encoded data removed]",
      "text/plain": [
       "<Figure size 432x288 with 1 Axes>"
      ]
     },
     "metadata": {
      "needs_background": "light"
     },
     "output_type": "display_data"
    }
   ],
   "source": [
    "df[\"student_staff_ratio\"].plot(kind=\"hist\", bins=100, color=\"red\")"
   ]
  },
  {
   "cell_type": "code",
   "execution_count": 202,
   "metadata": {},
   "outputs": [
    {
     "data": {
      "text/plain": [
       "<AxesSubplot:ylabel='Frequency'>"
      ]
     },
     "execution_count": 202,
     "metadata": {},
     "output_type": "execute_result"
    },
    {
     "data": {
      "image/png": "[encoded data removed]",
      "text/plain": [
       "<Figure size 432x288 with 1 Axes>"
      ]
     },
     "metadata": {
      "needs_background": "light"
     },
     "output_type": "display_data"
    }
   ],
   "source": [
    "df[df[\"year\"] == 2016][\"student_staff_ratio\"].plot(kind=\"hist\", bins=100, color=\"black\")"
   ]
  },
  {
   "cell_type": "code",
   "execution_count": null,
   "metadata": {},
   "outputs": [],
   "source": []
  },
  {
   "cell_type": "code",
   "execution_count": null,
   "metadata": {},
   "outputs": [],
   "source": []
  }
 ],
 "metadata": {
  "kernelspec": {
   "display_name": "Python 3",
   "language": "python",
   "name": "python3"
  },
  "language_info": {
   "codemirror_mode": {
    "name": "ipython",
    "version": 3
   },
   "file_extension": ".py",
   "mimetype": "text/x-python",
   "name": "python",
   "nbconvert_exporter": "python",
   "pygments_lexer": "ipython3",
   "version": "3.7.6"
  }
 },
 "nbformat": 4,
 "nbformat_minor": 4
}
