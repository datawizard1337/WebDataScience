{
 "cells": [
  {
   "cell_type": "markdown",
   "metadata": {},
   "source": [
    "# 6. Web Scraping"
   ]
  },
  {
   "cell_type": "markdown",
   "metadata": {},
   "source": [
    "### Definition"
   ]
  },
  {
   "cell_type": "markdown",
   "metadata": {},
   "source": [
    "**Web scraping** is used to extract (scrape) data from webpages on the Internet. The program that performs this task is usually called a **web scraper** or a **bot**. \n",
    "\n",
    "**Web crawling** is the process of exploring and oftentimes indexing the webpages on the Internet by following hyperlinks from webpage to webpage. The program that performs this task is usuall called a **spider** or **web crawler**.\n",
    "\n",
    "Oftentimes, web scraping and web crawling are combined into a single program. I will continue using \"web scraping\" to denote both approaches.\n",
    "\n",
    "Web scraping can be used for both **focus crawls** which concentrate on crawling and scraping a single website (e.g. amazon.com) or **broad crawl** which does the same on many different websites.\n",
    "\n",
    "Common **use cases** for web scraping are:\n",
    "- search engines\n",
    "- price monitoring\n",
    "- content aggregators\n",
    "- collecting massive amounts of text data for the training of language models\n",
    "- copying online databases\n",
    "- research data"
   ]
  },
  {
   "cell_type": "markdown",
   "metadata": {},
   "source": [
    "### HTML"
   ]
  },
  {
   "cell_type": "markdown",
   "metadata": {},
   "source": [
    "The HyperText Markup Language (HTML) is the standard markup language for documents designed to be displayed in a web browser. Web browsers receive HTML documents from a web server and render the documents into multimedia web pages.\n",
    "\n",
    "This is an example for a simple html document:\n",
    "\n",
    "```\n",
    "<!DOCTYPE html>\n",
    "<html>\n",
    "<head>\n",
    "<title>Page Title</title>\n",
    "</head>\n",
    "<body>\n",
    "\n",
    "<h6>This is a Heading</h6>\n",
    "<p>This is a paragraph.</p>\n",
    "\n",
    "</body>\n",
    "</html\n",
    "```"
   ]
  },
  {
   "cell_type": "markdown",
   "metadata": {},
   "source": [
    "We can \"execute\" HTML directly in the cells of our Jupyter notebook:"
   ]
  },
  {
   "cell_type": "markdown",
   "metadata": {},
   "source": [
    "<h6>This is a Heading</h6>"
   ]
  },
  {
   "cell_type": "markdown",
   "metadata": {},
   "source": [
    "We can check out the HTML source code of any website in our browser. This can be done by either right click anywhere on the website and select \"show source code\" (or similar) or use the shortcut **ctrl** + **u**."
   ]
  },
  {
   "cell_type": "markdown",
   "metadata": {},
   "source": [
    "Original website:"
   ]
  },
  {
   "cell_type": "markdown",
   "metadata": {},
   "source": [
    "<img src=\"../misc/istari.png\" width=\"600\">"
   ]
  },
  {
   "cell_type": "markdown",
   "metadata": {},
   "source": [
    "HTML source code:"
   ]
  },
  {
   "cell_type": "markdown",
   "metadata": {},
   "source": [
    "<img src=\"../misc/istari_source.png\" width=\"600\">"
   ]
  },
  {
   "cell_type": "markdown",
   "metadata": {},
   "source": [
    "HTML consists of a series of elements which tell the browser how to display the content. An **HTML element** is defined by a **start tag** ```<tag>```, some **content** (e.g. text or a hyperlink), and an **end tag** ```</tag>```:\n",
    "\n",
    "```<tagname>Content goes here...</tagname>``` "
   ]
  },
  {
   "cell_type": "markdown",
   "metadata": {},
   "source": [
    "There are many different html elements. Some of the most frequently used are:\n",
    "\n",
    "- **headings** are defined with the ```<h1>``` to ```<h6>``` tags\n",
    "- **paragraphs** are defined with the ```<p>```< tag\n",
    "- **links** are defined with the ```<a>``` tag\n",
    "- **images** are defined with the ```<img>``` tag"
   ]
  },
  {
   "cell_type": "markdown",
   "metadata": {},
   "source": [
    "<h6>Small Heading</h6>\n",
    "<p>This is a paragraph with a <a href=\"www.google.com\"> Link</a>.</p>"
   ]
  },
  {
   "cell_type": "markdown",
   "metadata": {},
   "source": [
    "### Python requests"
   ]
  },
  {
   "cell_type": "markdown",
   "metadata": {},
   "source": [
    "We will use a Python package called *requests* to request and retrieve HTML from webpages. First, install requests using pip:\n",
    "\n",
    "```pip install requests```"
   ]
  },
  {
   "cell_type": "markdown",
   "metadata": {},
   "source": [
    "After installation (and restarting the Jupyter kernel), we can have to import the package."
   ]
  },
  {
   "cell_type": "code",
   "execution_count": 1,
   "metadata": {},
   "outputs": [
    {
     "name": "stderr",
     "output_type": "stream",
     "text": [
      "C:\\Users\\jki\\Anaconda3\\lib\\site-packages\\requests\\__init__.py:91: RequestsDependencyWarning: urllib3 (1.26.4) or chardet (3.0.4) doesn't match a supported version!\n",
      "  RequestsDependencyWarning)\n"
     ]
    }
   ],
   "source": [
    "import requests"
   ]
  },
  {
   "cell_type": "markdown",
   "metadata": {},
   "source": [
    "Now we can request HTML from any website using its **URL** (Uniform Resource Locator), colloquially termed a **web address**, and passing it to ```.get()```."
   ]
  },
  {
   "cell_type": "code",
   "execution_count": 2,
   "metadata": {},
   "outputs": [
    {
     "data": {
      "text/plain": [
       "<Response [200]>"
      ]
     },
     "execution_count": 2,
     "metadata": {},
     "output_type": "execute_result"
    }
   ],
   "source": [
    "requests.get(\"http://www.example.com\")"
   ]
  },
  {
   "cell_type": "markdown",
   "metadata": {},
   "source": [
    "This returns us ```<Response [200]>``` which is a ```Response``` object containing everything the server responded to our request. "
   ]
  },
  {
   "cell_type": "code",
   "execution_count": 3,
   "metadata": {},
   "outputs": [
    {
     "data": {
      "text/plain": [
       "requests.models.Response"
      ]
     },
     "execution_count": 3,
     "metadata": {},
     "output_type": "execute_result"
    }
   ],
   "source": [
    "type(requests.get(\"http://www.example.com\"))"
   ]
  },
  {
   "cell_type": "markdown",
   "metadata": {},
   "source": [
    "The ```200``` is a HTML response code which stands for \"OK\" and it is the standard response for successful HTTP requests. Other important status codes are:\n",
    "\n",
    "- ```301``` Moved Permanently\n",
    "- ```403``` Forbidden\n",
    "- ```404``` Not Found\n"
   ]
  },
  {
   "cell_type": "markdown",
   "metadata": {},
   "source": [
    "We can use ```.text``` on the response object to recieve the HTML code."
   ]
  },
  {
   "cell_type": "code",
   "execution_count": 4,
   "metadata": {},
   "outputs": [
    {
     "data": {
      "text/plain": [
       "'<!doctype html>\\n<html>\\n<head>\\n    <title>Example Domain</title>\\n\\n    <meta charset=\"utf-8\" />\\n    <meta http-equiv=\"Content-type\" content=\"text/html; charset=utf-8\" />\\n    <meta name=\"viewport\" content=\"width=device-width, initial-scale=1\" />\\n    <style type=\"text/css\">\\n    body {\\n        background-color: #f0f0f2;\\n        margin: 0;\\n        padding: 0;\\n        font-family: -apple-system, system-ui, BlinkMacSystemFont, \"Segoe UI\", \"Open Sans\", \"Helvetica Neue\", Helvetica, Arial, sans-serif;\\n        \\n    }\\n    div {\\n        width: 600px;\\n        margin: 5em auto;\\n        padding: 2em;\\n        background-color: #fdfdff;\\n        border-radius: 0.5em;\\n        box-shadow: 2px 3px 7px 2px rgba(0,0,0,0.02);\\n    }\\n    a:link, a:visited {\\n        color: #38488f;\\n        text-decoration: none;\\n    }\\n    @media (max-width: 700px) {\\n        div {\\n            margin: 0 auto;\\n            width: auto;\\n        }\\n    }\\n    </style>    \\n</head>\\n\\n<body>\\n<div>\\n    <h1>Example Domain</h1>\\n    <p>This domain is for use in illustrative examples in documents. You may use this\\n    domain in literature without prior coordination or asking for permission.</p>\\n    <p><a href=\"https://www.iana.org/domains/example\">More information...</a></p>\\n</div>\\n</body>\\n</html>\\n'"
      ]
     },
     "execution_count": 4,
     "metadata": {},
     "output_type": "execute_result"
    }
   ],
   "source": [
    "response = requests.get(\"http://www.example.com\")\n",
    "response.text"
   ]
  },
  {
   "cell_type": "markdown",
   "metadata": {},
   "source": [
    "### Beautifulsoup"
   ]
  },
  {
   "cell_type": "markdown",
   "metadata": {},
   "source": [
    "The easiest way to extract content from HTML is to use the Python package *beautifulsoup*. Beautiful Soup is a Python library for pulling data out of HTML files. So let's install and import it:\n",
    "\n",
    "```pip install beautifulsoup4```"
   ]
  },
  {
   "cell_type": "code",
   "execution_count": 5,
   "metadata": {},
   "outputs": [],
   "source": [
    "from bs4 import BeautifulSoup"
   ]
  },
  {
   "cell_type": "markdown",
   "metadata": {},
   "source": [
    "First we want to use BeautifulSoup to create a BeautifulSoup object, which represents the HTML document as a nested data structure."
   ]
  },
  {
   "cell_type": "code",
   "execution_count": 6,
   "metadata": {},
   "outputs": [
    {
     "data": {
      "text/plain": [
       "<!DOCTYPE html>\n",
       "<html>\n",
       "<head>\n",
       "<title>Example Domain</title>\n",
       "<meta charset=\"utf-8\"/>\n",
       "<meta content=\"text/html; charset=utf-8\" http-equiv=\"Content-type\"/>\n",
       "<meta content=\"width=device-width, initial-scale=1\" name=\"viewport\"/>\n",
       "<style type=\"text/css\">\n",
       "    body {\n",
       "        background-color: #f0f0f2;\n",
       "        margin: 0;\n",
       "        padding: 0;\n",
       "        font-family: -apple-system, system-ui, BlinkMacSystemFont, \"Segoe UI\", \"Open Sans\", \"Helvetica Neue\", Helvetica, Arial, sans-serif;\n",
       "        \n",
       "    }\n",
       "    div {\n",
       "        width: 600px;\n",
       "        margin: 5em auto;\n",
       "        padding: 2em;\n",
       "        background-color: #fdfdff;\n",
       "        border-radius: 0.5em;\n",
       "        box-shadow: 2px 3px 7px 2px rgba(0,0,0,0.02);\n",
       "    }\n",
       "    a:link, a:visited {\n",
       "        color: #38488f;\n",
       "        text-decoration: none;\n",
       "    }\n",
       "    @media (max-width: 700px) {\n",
       "        div {\n",
       "            margin: 0 auto;\n",
       "            width: auto;\n",
       "        }\n",
       "    }\n",
       "    </style>\n",
       "</head>\n",
       "<body>\n",
       "<div>\n",
       "<h1>Example Domain</h1>\n",
       "<p>This domain is for use in illustrative examples in documents. You may use this\n",
       "    domain in literature without prior coordination or asking for permission.</p>\n",
       "<p><a href=\"https://www.iana.org/domains/example\">More information...</a></p>\n",
       "</div>\n",
       "</body>\n",
       "</html>"
      ]
     },
     "execution_count": 6,
     "metadata": {},
     "output_type": "execute_result"
    }
   ],
   "source": [
    "soup = BeautifulSoup(response.text)\n",
    "soup"
   ]
  },
  {
   "cell_type": "markdown",
   "metadata": {},
   "source": [
    "We can now use our BeautifulSoup object to directly retrieve elements from the HTML code. For example, ```.title``` extracts the title of the HTML document."
   ]
  },
  {
   "cell_type": "code",
   "execution_count": 7,
   "metadata": {},
   "outputs": [
    {
     "data": {
      "text/plain": [
       "<title>Example Domain</title>"
      ]
     },
     "execution_count": 7,
     "metadata": {},
     "output_type": "execute_result"
    }
   ],
   "source": [
    "soup.title"
   ]
  },
  {
   "cell_type": "markdown",
   "metadata": {},
   "source": [
    "This actually returns a ```Tag``` object."
   ]
  },
  {
   "cell_type": "code",
   "execution_count": 8,
   "metadata": {},
   "outputs": [
    {
     "data": {
      "text/plain": [
       "bs4.element.Tag"
      ]
     },
     "execution_count": 8,
     "metadata": {},
     "output_type": "execute_result"
    }
   ],
   "source": [
    "type(soup.title)"
   ]
  },
  {
   "cell_type": "markdown",
   "metadata": {},
   "source": [
    "If we want to get the content of the tag as a string, we just have to add a ```.string```."
   ]
  },
  {
   "cell_type": "code",
   "execution_count": 9,
   "metadata": {},
   "outputs": [
    {
     "data": {
      "text/plain": [
       "'Example Domain'"
      ]
     },
     "execution_count": 9,
     "metadata": {},
     "output_type": "execute_result"
    }
   ],
   "source": [
    "soup.title.string"
   ]
  },
  {
   "cell_type": "markdown",
   "metadata": {},
   "source": [
    "In a similar manner, we can also access specific elements."
   ]
  },
  {
   "cell_type": "code",
   "execution_count": 10,
   "metadata": {},
   "outputs": [
    {
     "data": {
      "text/plain": [
       "<p>This domain is for use in illustrative examples in documents. You may use this\n",
       "    domain in literature without prior coordination or asking for permission.</p>"
      ]
     },
     "execution_count": 10,
     "metadata": {},
     "output_type": "execute_result"
    }
   ],
   "source": [
    "soup.p"
   ]
  },
  {
   "cell_type": "markdown",
   "metadata": {},
   "source": [
    "There are also handy functions included. ```.get_text()``` retrieves all strings from the HTML code. We can define a ```separator=\"\"``` to separate the invidiual contents and also tell BeautifulSoup to ```strip=True``` the content (removing trailing whitespaces)."
   ]
  },
  {
   "cell_type": "code",
   "execution_count": 11,
   "metadata": {},
   "outputs": [
    {
     "data": {
      "text/plain": [
       "'Example Domain Example Domain This domain is for use in illustrative examples in documents. You may use this\\n    domain in literature without prior coordination or asking for permission. More information...'"
      ]
     },
     "execution_count": 11,
     "metadata": {},
     "output_type": "execute_result"
    }
   ],
   "source": [
    "soup.get_text(separator=' ', strip=True)"
   ]
  },
  {
   "cell_type": "markdown",
   "metadata": {},
   "source": [
    "Extracting all texts from a webpage boils down to a single line of Python code."
   ]
  },
  {
   "cell_type": "code",
   "execution_count": 12,
   "metadata": {},
   "outputs": [
    {
     "data": {
      "text/plain": [
       "'ISTARI.AI - Die Zukunft der Unternehmensdatenbank Primary Menu HOME TEAM REFERENCES WEBAI NEWS CONTACT The future of the enterprise database – comprehensive information in real time Making hidden company data visible automatically, without rigid sources and in real time: Our webAI provides you with exactly the information you need. To get to this valuable information, our webAI searches millions of websites at high frequency to analyze them with artificial intelligence. Infinite use cases From market analysis and lead generation to investment opportunities, webAI offers the necessary data for all use cases. webAI Contact us Web indicators Extensive and constantly updated web data provide the basis for a range of webAI web indicators that make information easily accessible. \\uf0ac \\uf0ac Internationalization Is the company internationally active? \\uf3e7 \\uf3e7 Location What happens at the company location? \\ue109 \\ue109 Networking With which other companies is the company connected? \\uf3ed \\uf3ed Innovation Has the company launched new products? \\uf10e \\uf10e Profiling What business areas is the company active in? \\uf596 \\uf596 Technology What technologies and standards does the company employ? \\uf1fc \\uf1fc market trends What are actual market trends? \\uf221 \\uf221 News What are the companies concerned about? Our team Istari.ai was founded in 2019 and specializes in AI-based analysis of company websites and other company-related web data. The founders David Lenz and Jan Kinne worked together in a research project on web-based innovation indicators during their time as PhD students. We at istari.ai will continue to be closely connected to the scientific community and have the vision to offer scientifically based web analytics with state-of-the-art methods. DR. DAVID LENZ Founder DR. JAN KINNE Founder MIRIAM KRÜGER Product and Business Development DEVADEEP SEN Marketing Manager SEBASTIAN SCHMIDT Geodata RAKSHYA KC Developer Advisory board Prof. Dr. Svenja Falk Advisor Prof. Dr. Svenja Falk is Managing Director at Accenture, Fellow at the Hertie School Berlin and Honorary Professor at the University of Giessen. She is head of Accenture Research and is globally responsible for the Health & Public Service division as well as for the cross-sectional topic of future of work. She has spoken and published extensively on the topics of digitization and innovation. She is also head of the working group “Digital Business Models and Industry 4.0” of the Industry 4.0 platform of the German BMWi and BMBF. Dr. Georg Licht Advisor Dr. Georg Licht is head of the ZEW research department “Innovation Economics and Business Dynamics” and has acted as an advisor to the OECD, the EU Commission and the German Federal Ministry of Education and Research on innovation and technology policy issues. In the past he was a member of various expert groups in the field of science and innovation policy and co-developer of the pan-European innovation survey Community Innovation Survey (CIS). Prof. Dr. Irene Bertschek Advisor Prof. Irene Bertschek is head of the ZEW research area “Digital Economy” and professor for “Economy of Digitization” at the University of Giessen. She is a member of the Federal Government’s Expert Commission on Research and Innovation (EFI) and is represented in numerous national and international committees and working groups that deal with the digitization of the economy. Prof. Dr. Knut Blind Advisor Prof. Dr. Knut Blind holds the Chair of Innovation Economics at the TU Berlin and is head of the Innovation and Regulation Department at the Fraunhofer Institute for Systems and Innovation Research in Karlsruhe. He is a member of the German Academy of Science and Engineering (Acatech) and initiator of the Berlin Innovation Panel. In addition, as an expert on standardisation and patents, he advises numerous international institutions such as the World Bank, the World Trade Organization and the OECD. Research Partners Istari.ai\\xa0emerged from scientific research and is committed to science. We cooperate with scholars across Europe and jointly research the web data generated by\\xa0istari.ai. ROBERT DEHGHAN Mannheim University Dr. Milad Abbasiharofteh Utrecht University Johannes Dahlke Hohenheim University Dr. Carlo Menon OECD Dania Eugenidis Giessen University Thomas Hipp Mannheim University Salah Hassanin Giessen University Dorian Arifi Salzburg University Julian Dörr ZEW Mannheim Testimonials Prof. Hanna Hottenrott Professor, TUM School of Management, Technical University of Munich With the help of istari.ai, we were able to use a new and innovative approach to analyze regional business networks. In the future, data from istari.ai will be an integral part of our research. Harald Hochreiter Strategy and Data Analysis, Austrian Research Promotion Agency (FFG) The service provided by istari.ai gives us a real-time view of the innovative strength of Austrian companies. For us, the timeliness of the data and the detailed resolution are of particular strategic value. Prof. Martin Wörter Professor, KOF Konjunkturforschungsstelle ETH Zurich Istari.ai could deliver results within a few days. They responded extremely quickly to inquiries and were flexible with regard to short-term adjustments. Istari.ai is a very reliable partner. Sonja Wilkens Economic Development Services City of Mannheim In the Startup BW Pre-Seed Program, we are a partner of the state of Baden-Württemberg and support innovative business models like istari.ai with early-stage financing. Prof. Bernd Resch Associate Professor, University of Salzburg & Visiting Scholar, Harvard University Istari.ai manages to generate real added value from current research. The intelligent solutions of istari.ai help us to jointly develop research results towards marketability. Press & Publications All press articles, publications, blog articles and news about istari.ai can be found in our press area. To the press area Prompt Availability of Information Enables Efficient and Targeted Government Action in Crises 16. September 2021 Detecting and exploring company networks Companies, like all economic players, are leaving behind digital traces of their activities to an increasing extent. The Digital Layer approach leverages these data sources and provides an alternative method for analyzing company networks. The integration of the Digital Layer approach into webAI provides our customers with a new tool for capturing and analyzing enterprise networks. 20. February 2021 Artificial Intelligence: Current Applications and Use Cases As language assistants in the living room, in search engines on the Internet or as systems for autonomous driving in cars: Artificial Intelligence (AI) is already being used in many different ways and has long been part of our everyday lives. 5. December 2020 Web-based AI analysis: Measuring the innovation performance of companies with InnoProb Web-based AI indicators offer a comprehensive, granular, up-to-date and cost-effective alternative to traditional data collection methods. We at istari.ai are pioneers in the field of web-based indicator technology. With webAI, we are developing an artificial intelligence that provides our customers with market and company information in real-time. 20. November 2020 What is Artificial Intelligence? Artificial Intelligence (AI) is an indispensable part of our lives today and is already integrated in various applications. AI is one of the most promising technologies of the future. 6. November 2020 Up-to-date webAI market analyses on the coronavirus pandemic The coronavirus pandemic hit the global economy hard in early 2020. Decision-makers in the fields of business and politics had to make far-reaching decisions based on often-incomplete data, especially at the beginning of the pandemic. Here, webAI developed by istari.ai offers a new approach for the comprehensive and daily updated analysis of highly dynamic market situations. 22. October 2020 Contact Please enable JavaScript in your browser to complete this form. Name * E-Mail * Comment or message * Data protection * I have read the current privacy policy and accept it. Message Submit Tweets by istari_ai © 2020 Copyright wirkungswerk Imprint Privacy Policy'"
      ]
     },
     "execution_count": 12,
     "metadata": {},
     "output_type": "execute_result"
    }
   ],
   "source": [
    "BeautifulSoup(requests.get(\"http://www.istari.ai/en\").text).get_text(separator=' ', strip=True)"
   ]
  },
  {
   "cell_type": "markdown",
   "metadata": {},
   "source": [
    "If we want to find alle the hyperlinks on a webpage, we can apply ```.find_all()``` on our BeautifulSoup object and pass the ```\"a\"``` tag. This will return us a list with ```<a>``` elements."
   ]
  },
  {
   "cell_type": "code",
   "execution_count": 13,
   "metadata": {},
   "outputs": [
    {
     "data": {
      "text/plain": [
       "[<a href=\"https://istari.ai/en/\" rel=\"home\">\n",
       " <span class=\"logo\"><img alt=\"ISTARI.AI\" class=\"tgp-exclude default\" src=\"https://istari.ai/wp-content/uploads/thegem-logos/logo_d588768ef987c12dd42043d4cd5c17ba_1x.png\" srcset=\"https://istari.ai/wp-content/uploads/thegem-logos/logo_d588768ef987c12dd42043d4cd5c17ba_1x.png 1x,https://istari.ai/wp-content/uploads/thegem-logos/logo_d588768ef987c12dd42043d4cd5c17ba_2x.png 2x,https://istari.ai/wp-content/uploads/thegem-logos/logo_d588768ef987c12dd42043d4cd5c17ba_3x.png 3x\" style=\"width:176px;\"/><img alt=\"ISTARI.AI\" class=\"tgp-exclude small light\" src=\"https://istari.ai/wp-content/uploads/thegem-logos/logo_77c5838c8035f4b4b8f3ba17b35e60fa_1x.png\" srcset=\"https://istari.ai/wp-content/uploads/thegem-logos/logo_77c5838c8035f4b4b8f3ba17b35e60fa_1x.png 1x,https://istari.ai/wp-content/uploads/thegem-logos/logo_77c5838c8035f4b4b8f3ba17b35e60fa_2x.png 2x,https://istari.ai/wp-content/uploads/thegem-logos/logo_77c5838c8035f4b4b8f3ba17b35e60fa_3x.png 3x\" style=\"width:141px;\"/><img alt=\"ISTARI.AI\" class=\"tgp-exclude small\" src=\"https://istari.ai/wp-content/uploads/thegem-logos/logo_77c5838c8035f4b4b8f3ba17b35e60fa_1x.png\" srcset=\"https://istari.ai/wp-content/uploads/thegem-logos/logo_77c5838c8035f4b4b8f3ba17b35e60fa_1x.png 1x,https://istari.ai/wp-content/uploads/thegem-logos/logo_77c5838c8035f4b4b8f3ba17b35e60fa_2x.png 2x,https://istari.ai/wp-content/uploads/thegem-logos/logo_77c5838c8035f4b4b8f3ba17b35e60fa_3x.png 3x\" style=\"width:141px;\"/></span>\n",
       " </a>,\n",
       " <a href=\"https://istari.ai/en/#Home-en\">HOME</a>,\n",
       " <a href=\"https://istari.ai/en/#Team_en\">TEAM</a>,\n",
       " <a href=\"https://istari.ai/en/#Testimonials_en\">REFERENCES</a>,\n",
       " <a href=\"https://istari.ai/en/webai/\">WEBAI</a>,\n",
       " <a href=\"https://istari.ai/en/blog\">NEWS</a>,\n",
       " <a href=\"https://istari.ai/en/#contact-en\">CONTACT</a>,\n",
       " <a href=\"https://istari.ai/en/\"><img alt=\"English\" class=\"wpml-ls-flag\" src=\"https://istari.ai/wp-content/plugins/sitepress-multilingual-cms/res/flags/en.png\"/></a>,\n",
       " <a href=\"https://istari.ai\"><img alt=\"German\" class=\"wpml-ls-flag\" src=\"https://istari.ai/wp-content/plugins/sitepress-multilingual-cms/res/flags/de.png\"/></a>,\n",
       " <a class=\"gem-button gem-button-size-medium gem-button-style-outline gem-button-text-weight-normal gem-button-border-2\" href=\"https://istari.ai/en/webai/\" onmouseenter=\"this.style.borderColor='#00d2d4';this.style.backgroundColor='#00d2d4';this.style.color='#24262e';\" onmouseleave=\"this.style.borderColor='#00d2d4';this.style.backgroundColor='transparent';this.style.color='#00d2d4';\" style=\"border-radius: 30px;border-color: #00d2d4;color: #00d2d4;\" target=\"_self\">webAI</a>,\n",
       " <a class=\"gem-button gem-button-size-medium gem-button-style-outline gem-button-text-weight-normal gem-button-border-2\" href=\"https://istari.ai/#Kontakt\" onmouseenter=\"this.style.borderColor='#00d2d4';this.style.backgroundColor='#00d2d4';this.style.color='#24262e';\" onmouseleave=\"this.style.borderColor='#00d2d4';this.style.backgroundColor='transparent';this.style.color='#00d2d4';\" style=\"border-radius: 30px;border-color: #00d2d4;color: #00d2d4;\" target=\"_self\">Contact us</a>,\n",
       " <a class=\"socials-item\" href=\"https://twitter.com/_david_lenz_\" rel=\"noopener\" target=\"_blank\" title=\"Twitter\"><i class=\"socials-item-icon social-item-rounded twitter\"></i></a>,\n",
       " <a class=\"socials-item\" href=\"https://www.linkedin.com/in/david-lenz-9b98a4167/\" rel=\"noopener\" target=\"_blank\" title=\"LinkedIn\"><i class=\"socials-item-icon social-item-rounded linkedin\"></i></a>,\n",
       " <a class=\"socials-item\" href=\"https://twitter.com/jan_kinne\" rel=\"noopener\" target=\"_blank\" title=\"Twitter\"><i class=\"socials-item-icon social-item-rounded twitter\"></i></a>,\n",
       " <a class=\"socials-item\" href=\"https://www.linkedin.com/in/jan-kinne-63169312b/\" rel=\"noopener\" target=\"_blank\" title=\"LinkedIn\"><i class=\"socials-item-icon social-item-rounded linkedin\"></i></a>,\n",
       " <a class=\"socials-item\" href=\"https://www.linkedin.com/in/miriam-krueger/\" rel=\"noopener\" target=\"_blank\" title=\"LinkedIn\"><i class=\"socials-item-icon social-item-rounded linkedin\"></i></a>,\n",
       " <a class=\"socials-item\" href=\"https://www.linkedin.com/in/devadeep-sen/\" rel=\"noopener\" target=\"_blank\" title=\"LinkedIn\"><i class=\"socials-item-icon social-item-rounded linkedin\"></i></a>,\n",
       " <a class=\"socials-item\" href=\"https://www.linkedin.com/in/sebastian-schmidt-a4688b153/\" rel=\"noopener\" target=\"_blank\" title=\"LinkedIn\"><i class=\"socials-item-icon social-item-rounded linkedin\"></i></a>,\n",
       " <a class=\"socials-item\" href=\"https://www.linkedin.com/in/rakshya-2199/\" rel=\"noopener\" target=\"_blank\" title=\"LinkedIn\"><i class=\"socials-item-icon social-item-rounded linkedin\"></i></a>,\n",
       " <a class=\"gem-button gem-button-size-medium gem-button-style-outline gem-button-text-weight-normal gem-button-border-2\" href=\"https://istari.ai/blog/\" onmouseenter=\"this.style.borderColor='#00d2d4';this.style.backgroundColor='#00d2d4';this.style.color='#24262e';\" onmouseleave=\"this.style.borderColor='#00d2d4';this.style.backgroundColor='transparent';this.style.color='#00d2d4';\" style=\"border-radius: 30px;border-color: #00d2d4;color: #00d2d4;\" target=\"_self\" title=\"Blog\">To the press area</a>,\n",
       " <a href=\"https://istari.ai/en/prompt-availability-of-information/\"><img alt=\"bild 1-modified\" class=\"img-responsive img-circle wp-post-image\" height=\"144\" src=\"https://istari.ai/wp-content/uploads/2021/09/bild-1-modified-thegem-news-carousel.png\" width=\"144\"/></a>,\n",
       " <a href=\"https://istari.ai/en/prompt-availability-of-information/\">Prompt Availability of Information Enables Efficient and Targeted Government Action in Crises</a>,\n",
       " <a href=\"https://istari.ai/en/company-networks/\"><img alt=\"Digital Layer Germany Networks\" class=\"img-responsive img-circle wp-post-image\" height=\"144\" src=\"https://istari.ai/wp-content/uploads/2021/02/Digital-Layer-Germany-Networks-1-thegem-news-carousel.png\" width=\"144\"/></a>,\n",
       " <a href=\"https://istari.ai/en/company-networks/\">Detecting and exploring company networks</a>,\n",
       " <a href=\"https://istari.ai/en/artificial-intelligence-applications-use-cases/\"><img alt=\"Autonomes Fahren, Autonomous Driving\" class=\"img-responsive img-circle wp-post-image\" height=\"144\" src=\"https://istari.ai/wp-content/uploads/2020/12/Autonomes-Fahren-scaled-thegem-news-carousel.jpg\" width=\"144\"/></a>,\n",
       " <a href=\"https://istari.ai/en/artificial-intelligence-applications-use-cases/\">Artificial Intelligence: Current Applications and Use Cases</a>,\n",
       " <a href=\"https://istari.ai/en/innoprob/\"><img alt=\"InnoProb Berlin\" class=\"img-responsive img-circle wp-post-image\" height=\"144\" src=\"https://istari.ai/wp-content/uploads/2020/11/InnoProb-Berlin-thegem-news-carousel.png\" width=\"144\"/></a>,\n",
       " <a href=\"https://istari.ai/en/innoprob/\">Web-based AI analysis: Measuring the innovation performance of companies with InnoProb</a>,\n",
       " <a href=\"https://istari.ai/en/artificial-intelligence/\"><img alt=\"brain\" class=\"img-responsive img-circle wp-post-image\" height=\"144\" src=\"https://istari.ai/wp-content/uploads/2020/11/brain-scaled-thegem-news-carousel.jpg\" width=\"144\"/></a>,\n",
       " <a href=\"https://istari.ai/en/artificial-intelligence/\">What is Artificial Intelligence?</a>,\n",
       " <a href=\"https://istari.ai/en/marketanalyses-corona/\"><img alt=\"Auswirkung der Coronavirus-Pandemie Deutschland\" class=\"img-responsive img-circle wp-post-image\" height=\"144\" src=\"https://istari.ai/wp-content/uploads/2020/10/Deutschland-webAI-Marktanalyse-thegem-news-carousel.png\" width=\"144\"/></a>,\n",
       " <a href=\"https://istari.ai/en/marketanalyses-corona/\">Up-to-date webAI market analyses on the coronavirus pandemic</a>,\n",
       " <a class=\"twitter-timeline\" data-height=\"450\" data-theme=\"dark\" href=\"https://twitter.com/istari_ai?ref_src=twsrc%5Etfw\" rel=\"noopener\" target=\"_blank\">Tweets by istari_ai</a>,\n",
       " <a href=\"https://wirkungswerk.com\" target=\"_self\">wirkungswerk</a>,\n",
       " <a class=\"socials-item\" href=\"#\" target=\"_blank\" title=\"facebook\"><i class=\"socials-item-icon facebook\"></i></a>,\n",
       " <a class=\"socials-item\" href=\"#\" target=\"_blank\" title=\"linkedin\"><i class=\"socials-item-icon linkedin\"></i></a>,\n",
       " <a class=\"socials-item\" href=\"#\" target=\"_blank\" title=\"twitter\"><i class=\"socials-item-icon twitter\"></i></a>,\n",
       " <a class=\"socials-item\" href=\"#\" target=\"_blank\" title=\"instagram\"><i class=\"socials-item-icon instagram\"></i></a>,\n",
       " <a class=\"socials-item\" href=\"#\" target=\"_blank\" title=\"pinterest\"><i class=\"socials-item-icon pinterest\"></i></a>,\n",
       " <a class=\"socials-item\" href=\"#\" target=\"_blank\" title=\"youtube\"><i class=\"socials-item-icon youtube\"></i></a>,\n",
       " <a href=\"/impressum\">Imprint</a>,\n",
       " <a href=\"/datenschutz\">Privacy Policy</a>]"
      ]
     },
     "execution_count": 13,
     "metadata": {},
     "output_type": "execute_result"
    }
   ],
   "source": [
    "all_hyperlinks = BeautifulSoup(requests.get(\"http://www.istari.ai/en\").text).find_all(\"a\")\n",
    "all_hyperlinks"
   ]
  },
  {
   "cell_type": "markdown",
   "metadata": {},
   "source": [
    "To retrieve the actual hyperlinks, we have to apply ```.get(\"href\")``` on the individual ```tag``` objects. We can do so by iterating over the complete list."
   ]
  },
  {
   "cell_type": "code",
   "execution_count": 14,
   "metadata": {},
   "outputs": [
    {
     "name": "stdout",
     "output_type": "stream",
     "text": [
      "https://istari.ai/en/\n",
      "https://istari.ai/en/#Home-en\n",
      "https://istari.ai/en/#Team_en\n",
      "https://istari.ai/en/#Testimonials_en\n",
      "https://istari.ai/en/webai/\n",
      "https://istari.ai/en/blog\n",
      "https://istari.ai/en/#contact-en\n",
      "https://istari.ai/en/\n",
      "https://istari.ai\n",
      "https://istari.ai/en/webai/\n",
      "https://istari.ai/#Kontakt\n",
      "https://twitter.com/_david_lenz_\n",
      "https://www.linkedin.com/in/david-lenz-9b98a4167/\n",
      "https://twitter.com/jan_kinne\n",
      "https://www.linkedin.com/in/jan-kinne-63169312b/\n",
      "https://www.linkedin.com/in/miriam-krueger/\n",
      "https://www.linkedin.com/in/devadeep-sen/\n",
      "https://www.linkedin.com/in/sebastian-schmidt-a4688b153/\n",
      "https://www.linkedin.com/in/rakshya-2199/\n",
      "https://istari.ai/blog/\n",
      "https://istari.ai/en/prompt-availability-of-information/\n",
      "https://istari.ai/en/prompt-availability-of-information/\n",
      "https://istari.ai/en/company-networks/\n",
      "https://istari.ai/en/company-networks/\n",
      "https://istari.ai/en/artificial-intelligence-applications-use-cases/\n",
      "https://istari.ai/en/artificial-intelligence-applications-use-cases/\n",
      "https://istari.ai/en/innoprob/\n",
      "https://istari.ai/en/innoprob/\n",
      "https://istari.ai/en/artificial-intelligence/\n",
      "https://istari.ai/en/artificial-intelligence/\n",
      "https://istari.ai/en/marketanalyses-corona/\n",
      "https://istari.ai/en/marketanalyses-corona/\n",
      "https://twitter.com/istari_ai?ref_src=twsrc%5Etfw\n",
      "https://wirkungswerk.com\n",
      "#\n",
      "#\n",
      "#\n",
      "#\n",
      "#\n",
      "#\n",
      "/impressum\n",
      "/datenschutz\n"
     ]
    }
   ],
   "source": [
    "for link in all_hyperlinks:\n",
    "    print(link.get(\"href\"))"
   ]
  },
  {
   "cell_type": "markdown",
   "metadata": {},
   "source": [
    "As you can see, there are quite a lot of duplicate links included. To get rid of them, the easiest way is to first extract the actual hyperlinks from the ```a``` elements and to put them into a list."
   ]
  },
  {
   "cell_type": "code",
   "execution_count": 15,
   "metadata": {},
   "outputs": [
    {
     "name": "stdout",
     "output_type": "stream",
     "text": [
      "42\n"
     ]
    }
   ],
   "source": [
    "hyperlink_list = [link.get(\"href\") for link in all_hyperlinks]\n",
    "print(len(hyperlink_list))"
   ]
  },
  {
   "cell_type": "markdown",
   "metadata": {},
   "source": [
    "We can then transfer this list to a ```set```. The items in a set are unordered, unchangeable, and do not allow duplicate values. This \"automatically\" deletes all duplicate entries in our list. We then just transfer our set back to a list using ```list()```."
   ]
  },
  {
   "cell_type": "code",
   "execution_count": 16,
   "metadata": {},
   "outputs": [
    {
     "name": "stdout",
     "output_type": "stream",
     "text": [
      "29\n"
     ]
    },
    {
     "data": {
      "text/plain": [
       "['https://istari.ai/en/blog',\n",
       " 'https://istari.ai/en/artificial-intelligence/',\n",
       " 'https://istari.ai',\n",
       " 'https://istari.ai/en/#Testimonials_en',\n",
       " 'https://www.linkedin.com/in/devadeep-sen/',\n",
       " 'https://istari.ai/en/company-networks/',\n",
       " 'https://istari.ai/en/#contact-en',\n",
       " 'https://istari.ai/en/marketanalyses-corona/',\n",
       " 'https://www.linkedin.com/in/jan-kinne-63169312b/',\n",
       " 'https://www.linkedin.com/in/sebastian-schmidt-a4688b153/',\n",
       " 'https://istari.ai/blog/',\n",
       " 'https://wirkungswerk.com',\n",
       " '/datenschutz',\n",
       " 'https://istari.ai/en/webai/',\n",
       " 'https://www.linkedin.com/in/david-lenz-9b98a4167/',\n",
       " 'https://istari.ai/en/#Home-en',\n",
       " '/impressum',\n",
       " 'https://istari.ai/en/innoprob/',\n",
       " 'https://istari.ai/#Kontakt',\n",
       " 'https://www.linkedin.com/in/rakshya-2199/',\n",
       " 'https://istari.ai/en/prompt-availability-of-information/',\n",
       " 'https://istari.ai/en/#Team_en',\n",
       " 'https://istari.ai/en/artificial-intelligence-applications-use-cases/',\n",
       " 'https://twitter.com/jan_kinne',\n",
       " 'https://istari.ai/en/',\n",
       " 'https://twitter.com/_david_lenz_',\n",
       " 'https://www.linkedin.com/in/miriam-krueger/',\n",
       " '#',\n",
       " 'https://twitter.com/istari_ai?ref_src=twsrc%5Etfw']"
      ]
     },
     "execution_count": 16,
     "metadata": {},
     "output_type": "execute_result"
    }
   ],
   "source": [
    "unique_hyperlink_list = list(set(hyperlink_list))\n",
    "print(len(unique_hyperlink_list))\n",
    "unique_hyperlink_list"
   ]
  },
  {
   "cell_type": "markdown",
   "metadata": {},
   "source": [
    "If we want to extract specific elements from "
   ]
  },
  {
   "cell_type": "code",
   "execution_count": null,
   "metadata": {},
   "outputs": [],
   "source": []
  },
  {
   "cell_type": "code",
   "execution_count": 24,
   "metadata": {},
   "outputs": [
    {
     "data": {
      "text/plain": [
       "[<div class=\"team-person-name title-h4\">DR. DAVID LENZ</div>,\n",
       " <div class=\"team-person-name title-h4\">DR. JAN KINNE</div>,\n",
       " <div class=\"team-person-name title-h4\">MIRIAM KRÜGER</div>,\n",
       " <div class=\"team-person-name title-h4\">DEVADEEP SEN</div>,\n",
       " <div class=\"team-person-name title-h4\">SEBASTIAN SCHMIDT</div>,\n",
       " <div class=\"team-person-name title-h4\">RAKSHYA KC</div>,\n",
       " <div class=\"team-person-name title-h4\">Prof. Dr. Svenja Falk</div>,\n",
       " <div class=\"team-person-name title-h4\">Dr. Georg Licht</div>,\n",
       " <div class=\"team-person-name title-h4\">Prof. Dr. Irene Bertschek</div>,\n",
       " <div class=\"team-person-name title-h4\">Prof. Dr. Knut Blind</div>,\n",
       " <div class=\"team-person-name title-h5\">ROBERT DEHGHAN</div>,\n",
       " <div class=\"team-person-name title-h5\">Dr. Milad Abbasiharofteh</div>,\n",
       " <div class=\"team-person-name title-h5\">Johannes Dahlke</div>,\n",
       " <div class=\"team-person-name title-h5\">Dr. Carlo Menon</div>,\n",
       " <div class=\"team-person-name title-h5\">Dania Eugenidis</div>,\n",
       " <div class=\"team-person-name title-h5\">Thomas Hipp</div>,\n",
       " <div class=\"team-person-name title-h5\">Salah Hassanin</div>,\n",
       " <div class=\"team-person-name title-h5\">Dorian Arifi</div>,\n",
       " <div class=\"team-person-name title-h5\">Julian Dörr</div>]"
      ]
     },
     "execution_count": 24,
     "metadata": {},
     "output_type": "execute_result"
    }
   ],
   "source": [
    "BeautifulSoup(requests.get(\"http://www.istari.ai/en\").text).find_all(\"div\", \"team-person-name\")"
   ]
  },
  {
   "cell_type": "code",
   "execution_count": null,
   "metadata": {},
   "outputs": [],
   "source": [
    "attrs={\"data-foo\": \"value\"}"
   ]
  },
  {
   "cell_type": "code",
   "execution_count": null,
   "metadata": {},
   "outputs": [],
   "source": []
  },
  {
   "cell_type": "markdown",
   "metadata": {},
   "source": [
    "### Crawling"
   ]
  },
  {
   "cell_type": "code",
   "execution_count": null,
   "metadata": {},
   "outputs": [],
   "source": []
  }
 ],
 "metadata": {
  "kernelspec": {
   "display_name": "Python 3",
   "language": "python",
   "name": "python3"
  },
  "language_info": {
   "codemirror_mode": {
    "name": "ipython",
    "version": 3
   },
   "file_extension": ".py",
   "mimetype": "text/x-python",
   "name": "python",
   "nbconvert_exporter": "python",
   "pygments_lexer": "ipython3",
   "version": "3.7.6"
  }
 },
 "nbformat": 4,
 "nbformat_minor": 4
}
