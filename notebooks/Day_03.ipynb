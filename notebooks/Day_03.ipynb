{
 "cells": [
  {
   "cell_type": "markdown",
   "metadata": {},
   "source": [
    "Again, let's start with loading the most important modules and setting some options."
   ]
  },
  {
   "cell_type": "code",
   "execution_count": 1,
   "metadata": {},
   "outputs": [],
   "source": [
    "import pandas as pd\n",
    "import matplotlib.pyplot as plt\n",
    "import seaborn as sns\n",
    "import numpy as np\n",
    "\n",
    "pd.set_option('display.max_rows', 120)\n",
    "pd.set_option('display.max_columns', None)\n",
    "pd.set_option('display.float_format', lambda x: '%.3f' % x)\n",
    "pd.options.mode.chained_assignment = None\n",
    "%matplotlib inline\n",
    "sns.set_style(\"ticks\")"
   ]
  },
  {
   "cell_type": "markdown",
   "metadata": {},
   "source": [
    "# Geo Basics"
   ]
  },
  {
   "cell_type": "markdown",
   "metadata": {},
   "source": [
    "### Geodata"
   ]
  },
  {
   "cell_type": "markdown",
   "metadata": {},
   "source": [
    "Geodata is information about geographic objects (**features**) and their precise (geo)spatial location. The geometric shape and associated attributes of geographic objects are modeled together either in a **vector data model** or **raster data model**."
   ]
  },
  {
   "cell_type": "markdown",
   "metadata": {},
   "source": [
    "**Raster**: \n",
    "- Built up of regularly arranged and equally sized pixels (**grid**).\n",
    "- The (color) values of the individual pixels describe the geographical area associated with the pixel.\n",
    "- The area covered by a single pixel determines the spatial resolution of the grid (e.g. 1x1km).\n",
    "- Are mainly used for continuous geographic phenomena - especially for physical phenomena (e.g. elevation)."
   ]
  },
  {
   "cell_type": "markdown",
   "metadata": {},
   "source": [
    "**Vector**: \n",
    "- Geographic features are modeled as **points**, **lines**, and **polygons**.\n",
    "- Points can be precisely defined by a pair of **coordinates** (x, y; latitude, longitude).\n",
    "- Lines and polygons consist of interconnected (ordered) points.\n",
    "- Geometries of geographic features can be defined exactly in this way.\n",
    "- Used mainly for discrete geographic phenomena - e.g. administrative boundaries, buildings, etc."
   ]
  },
  {
   "cell_type": "markdown",
   "metadata": {},
   "source": [
    "<img src=\"../misc/geodata_models.png\" width=\"600\"> "
   ]
  },
  {
   "cell_type": "markdown",
   "metadata": {},
   "source": [
    "### Layer concept"
   ]
  },
  {
   "cell_type": "markdown",
   "metadata": {},
   "source": [
    "In **Geographic Information Systems** (**GIS**), geodata is structured using the layer principle. Each layer represents a distinct geographic phenomenon and several layers together represent a more or less abstracted version of the real world. "
   ]
  },
  {
   "cell_type": "markdown",
   "metadata": {},
   "source": [
    "<img src=\"../misc/layer.jpg\" width=\"300\"> "
   ]
  },
  {
   "cell_type": "markdown",
   "metadata": {},
   "source": [
    "### Coordinate (reference) systems"
   ]
  },
  {
   "cell_type": "markdown",
   "metadata": {},
   "source": [
    "- System used to indicate the position of a point in space.\n",
    "- Serves for the localization of geographical objects.\n",
    "- The position is indicated by coordinates (X,Y).\n",
    "- Approximately 4,400 different coordinate reference systems (**CRS**).\n",
    "- **EPSG** system with unique codes for each CRS.\n",
    "- Coordinate transformation (conversion) between different coordinate systems is possible.\n",
    "- **Geographic (spherical) coordinates** vs. **projected (2D) coordinates**.\n",
    "- Representation and analysis is done in the projected CRS."
   ]
  },
  {
   "cell_type": "markdown",
   "metadata": {},
   "source": [
    "<img src=\"../misc/crs.png\" width=\"250\"> "
   ]
  },
  {
   "cell_type": "markdown",
   "metadata": {},
   "source": [
    "**Geographic coordinate systems**:\n",
    "- Spherical coordinates.\n",
    "- Longitude and latitude.\n",
    "- Specified in degree or decimal format.\n",
    "- Coordinates are given by default as geographic coordinates in decimal format (e.g. ISTARI.AI HQ: 49.47357504318401, 8.475272386708715).\n",
    "- Current standard is the worldwide valid **WGS 84** system (**EPSG: 4326**)."
   ]
  },
  {
   "cell_type": "markdown",
   "metadata": {},
   "source": [
    "<img src=\"../misc/globe.gif\" width=\"350\"> "
   ]
  },
  {
   "cell_type": "markdown",
   "metadata": {},
   "source": [
    "**Projected coordinate systems**:\n",
    "- Curved surface of the earth is projected onto a plane\n",
    "- The mathematical operation of projection leads to distortions in Distance, Area, Shape, and/or Direction.\n",
    "- Many projections work only in certain regions.\n",
    "- **EPSG: 3857 \"Web Mercator\"** standard for Web Map Services (WMS) like Google Maps and OpenStreetMap."
   ]
  },
  {
   "cell_type": "markdown",
   "metadata": {},
   "source": [
    "![SegmentLocal](../misc/animation_projection.gif)"
   ]
  },
  {
   "cell_type": "markdown",
   "metadata": {},
   "source": [
    "# 4. GeoPandas"
   ]
  },
  {
   "cell_type": "markdown",
   "metadata": {},
   "source": [
    "We will use GeoPandas to create maps. GeoPandas extends the dataypes used by Pandas to allow for spatial operations on geometric types. Let's install GeoPandas. This can be a sometimes a littel bit tricky. I recommend to first install fiona (a dependency of GeoPandas):\n",
    "\n",
    "1. ```conda install -c conda-forge fiona```\n",
    "\n",
    "then try to install geopandas:\n",
    "\n",
    "2. ```pip install geopandas```\n",
    "\n",
    "If this does not work, try to run the following commands:\n",
    "- ```pip install wheel```\n",
    "- ```pip install pipwin```\n",
    "- ```pipwin install shapely```\n",
    "- ```pipwin install gdal```\n",
    "- ```pipwin install fiona```\n",
    "- ```pipwin install pyproj```\n",
    "- ```pipwin install six```\n",
    "- ```pipwin install rtree```\n",
    "- ```pipwin install geopandas```\n",
    "- ```pipwin install descartes```\n",
    "- ```pip install mapclassify```"
   ]
  },
  {
   "cell_type": "markdown",
   "metadata": {},
   "source": [
    "After restarting the kernel (use the circle arrow above) we should be able to import geopandas:"
   ]
  },
  {
   "cell_type": "code",
   "execution_count": 2,
   "metadata": {},
   "outputs": [],
   "source": [
    "import geopandas as gpd"
   ]
  },
  {
   "cell_type": "markdown",
   "metadata": {},
   "source": [
    "Now we can use geopandas to read geodata (files that contain tabular data and geometry). The most common geodata filetypes are:\n",
    "- **ESRI shapefile**: ESRI is \"the Microsoft of Geographic Information Systems\" and shapefiles are their standard file format. A shapefile consists of several files (3 to 5) but you want to work with the .shp file which contains the geometry.\n",
    "- **Google KML/KMZ**: .kml and .kmz files are used by Google Maps and Google Earth.\n",
    "- **GeoJSON**: A open data format for geodata based on the popular JSON format. "
   ]
  },
  {
   "cell_type": "markdown",
   "metadata": {},
   "source": [
    "Let's read in a GeoJSON file I prepared for us. You can see that it looks very much like a normal dataframe after loading."
   ]
  },
  {
   "cell_type": "code",
   "execution_count": 3,
   "metadata": {},
   "outputs": [
    {
     "data": {
      "text/html": [
       "<div>\n",
       "<style scoped>\n",
       "    .dataframe tbody tr th:only-of-type {\n",
       "        vertical-align: middle;\n",
       "    }\n",
       "\n",
       "    .dataframe tbody tr th {\n",
       "        vertical-align: top;\n",
       "    }\n",
       "\n",
       "    .dataframe thead th {\n",
       "        text-align: right;\n",
       "    }\n",
       "</style>\n",
       "<table border=\"1\" class=\"dataframe\">\n",
       "  <thead>\n",
       "    <tr style=\"text-align: right;\">\n",
       "      <th></th>\n",
       "      <th>scalerank</th>\n",
       "      <th>featurecla</th>\n",
       "      <th>labelrank</th>\n",
       "      <th>sovereignt</th>\n",
       "      <th>sov_a3</th>\n",
       "      <th>adm0_dif</th>\n",
       "      <th>level</th>\n",
       "      <th>type</th>\n",
       "      <th>admin</th>\n",
       "      <th>adm0_a3</th>\n",
       "      <th>geou_dif</th>\n",
       "      <th>geounit</th>\n",
       "      <th>gu_a3</th>\n",
       "      <th>su_dif</th>\n",
       "      <th>subunit</th>\n",
       "      <th>su_a3</th>\n",
       "      <th>brk_diff</th>\n",
       "      <th>name</th>\n",
       "      <th>name_long</th>\n",
       "      <th>brk_a3</th>\n",
       "      <th>brk_name</th>\n",
       "      <th>brk_group</th>\n",
       "      <th>abbrev</th>\n",
       "      <th>postal</th>\n",
       "      <th>formal_en</th>\n",
       "      <th>formal_fr</th>\n",
       "      <th>note_adm0</th>\n",
       "      <th>note_brk</th>\n",
       "      <th>name_sort</th>\n",
       "      <th>name_alt</th>\n",
       "      <th>mapcolor7</th>\n",
       "      <th>mapcolor8</th>\n",
       "      <th>mapcolor9</th>\n",
       "      <th>mapcolor13</th>\n",
       "      <th>pop_est</th>\n",
       "      <th>gdp_md_est</th>\n",
       "      <th>pop_year</th>\n",
       "      <th>lastcensus</th>\n",
       "      <th>gdp_year</th>\n",
       "      <th>economy</th>\n",
       "      <th>income_grp</th>\n",
       "      <th>wikipedia</th>\n",
       "      <th>fips_10</th>\n",
       "      <th>iso_a2</th>\n",
       "      <th>iso_a3</th>\n",
       "      <th>iso_n3</th>\n",
       "      <th>un_a3</th>\n",
       "      <th>wb_a2</th>\n",
       "      <th>wb_a3</th>\n",
       "      <th>woe_id</th>\n",
       "      <th>adm0_a3_is</th>\n",
       "      <th>adm0_a3_us</th>\n",
       "      <th>adm0_a3_un</th>\n",
       "      <th>adm0_a3_wb</th>\n",
       "      <th>continent</th>\n",
       "      <th>region_un</th>\n",
       "      <th>subregion</th>\n",
       "      <th>region_wb</th>\n",
       "      <th>name_len</th>\n",
       "      <th>long_len</th>\n",
       "      <th>abbrev_len</th>\n",
       "      <th>tiny</th>\n",
       "      <th>homepart</th>\n",
       "      <th>filename</th>\n",
       "      <th>geometry</th>\n",
       "    </tr>\n",
       "  </thead>\n",
       "  <tbody>\n",
       "    <tr>\n",
       "      <th>0</th>\n",
       "      <td>1</td>\n",
       "      <td>Admin-0 country</td>\n",
       "      <td>2</td>\n",
       "      <td>United States of America</td>\n",
       "      <td>US1</td>\n",
       "      <td>1</td>\n",
       "      <td>2</td>\n",
       "      <td>Country</td>\n",
       "      <td>United States of America</td>\n",
       "      <td>USA</td>\n",
       "      <td>0</td>\n",
       "      <td>United States of America</td>\n",
       "      <td>USA</td>\n",
       "      <td>0</td>\n",
       "      <td>United States of America</td>\n",
       "      <td>USA</td>\n",
       "      <td>0</td>\n",
       "      <td>United States</td>\n",
       "      <td>United States</td>\n",
       "      <td>USA</td>\n",
       "      <td>United States</td>\n",
       "      <td>None</td>\n",
       "      <td>U.S.A.</td>\n",
       "      <td>US</td>\n",
       "      <td>United States of America</td>\n",
       "      <td>None</td>\n",
       "      <td>None</td>\n",
       "      <td>None</td>\n",
       "      <td>United States of America</td>\n",
       "      <td>None</td>\n",
       "      <td>4</td>\n",
       "      <td>5</td>\n",
       "      <td>1</td>\n",
       "      <td>1</td>\n",
       "      <td>313973000</td>\n",
       "      <td>15094000.000</td>\n",
       "      <td>0</td>\n",
       "      <td>2010</td>\n",
       "      <td>0</td>\n",
       "      <td>1. Developed region: G7</td>\n",
       "      <td>1. High income: OECD</td>\n",
       "      <td>0</td>\n",
       "      <td>None</td>\n",
       "      <td>US</td>\n",
       "      <td>USA</td>\n",
       "      <td>840</td>\n",
       "      <td>840</td>\n",
       "      <td>US</td>\n",
       "      <td>USA</td>\n",
       "      <td>-99</td>\n",
       "      <td>USA</td>\n",
       "      <td>USA</td>\n",
       "      <td>-99</td>\n",
       "      <td>-99</td>\n",
       "      <td>North America</td>\n",
       "      <td>Americas</td>\n",
       "      <td>Northern America</td>\n",
       "      <td>North America</td>\n",
       "      <td>13</td>\n",
       "      <td>13</td>\n",
       "      <td>6</td>\n",
       "      <td>-99</td>\n",
       "      <td>1</td>\n",
       "      <td>USA.geojson</td>\n",
       "      <td>MULTIPOLYGON (((-155.542 19.083, -155.688 18.9...</td>\n",
       "    </tr>\n",
       "    <tr>\n",
       "      <th>1</th>\n",
       "      <td>1</td>\n",
       "      <td>Admin-0 country</td>\n",
       "      <td>2</td>\n",
       "      <td>Canada</td>\n",
       "      <td>CAN</td>\n",
       "      <td>0</td>\n",
       "      <td>2</td>\n",
       "      <td>Sovereign country</td>\n",
       "      <td>Canada</td>\n",
       "      <td>CAN</td>\n",
       "      <td>0</td>\n",
       "      <td>Canada</td>\n",
       "      <td>CAN</td>\n",
       "      <td>0</td>\n",
       "      <td>Canada</td>\n",
       "      <td>CAN</td>\n",
       "      <td>0</td>\n",
       "      <td>Canada</td>\n",
       "      <td>Canada</td>\n",
       "      <td>CAN</td>\n",
       "      <td>Canada</td>\n",
       "      <td>None</td>\n",
       "      <td>Can.</td>\n",
       "      <td>CA</td>\n",
       "      <td>Canada</td>\n",
       "      <td>None</td>\n",
       "      <td>None</td>\n",
       "      <td>None</td>\n",
       "      <td>Canada</td>\n",
       "      <td>None</td>\n",
       "      <td>6</td>\n",
       "      <td>6</td>\n",
       "      <td>2</td>\n",
       "      <td>2</td>\n",
       "      <td>33487208</td>\n",
       "      <td>1300000.000</td>\n",
       "      <td>-99</td>\n",
       "      <td>2011</td>\n",
       "      <td>-99</td>\n",
       "      <td>1. Developed region: G7</td>\n",
       "      <td>1. High income: OECD</td>\n",
       "      <td>-99</td>\n",
       "      <td>None</td>\n",
       "      <td>CA</td>\n",
       "      <td>CAN</td>\n",
       "      <td>124</td>\n",
       "      <td>124</td>\n",
       "      <td>CA</td>\n",
       "      <td>CAN</td>\n",
       "      <td>-99</td>\n",
       "      <td>CAN</td>\n",
       "      <td>CAN</td>\n",
       "      <td>-99</td>\n",
       "      <td>-99</td>\n",
       "      <td>North America</td>\n",
       "      <td>Americas</td>\n",
       "      <td>Northern America</td>\n",
       "      <td>North America</td>\n",
       "      <td>6</td>\n",
       "      <td>6</td>\n",
       "      <td>4</td>\n",
       "      <td>-99</td>\n",
       "      <td>1</td>\n",
       "      <td>CAN.geojson</td>\n",
       "      <td>MULTIPOLYGON (((-63.664 46.550, -62.939 46.416...</td>\n",
       "    </tr>\n",
       "    <tr>\n",
       "      <th>2</th>\n",
       "      <td>1</td>\n",
       "      <td>Admin-0 country</td>\n",
       "      <td>6</td>\n",
       "      <td>Belize</td>\n",
       "      <td>BLZ</td>\n",
       "      <td>0</td>\n",
       "      <td>2</td>\n",
       "      <td>Sovereign country</td>\n",
       "      <td>Belize</td>\n",
       "      <td>BLZ</td>\n",
       "      <td>0</td>\n",
       "      <td>Belize</td>\n",
       "      <td>BLZ</td>\n",
       "      <td>0</td>\n",
       "      <td>Belize</td>\n",
       "      <td>BLZ</td>\n",
       "      <td>0</td>\n",
       "      <td>Belize</td>\n",
       "      <td>Belize</td>\n",
       "      <td>BLZ</td>\n",
       "      <td>Belize</td>\n",
       "      <td>None</td>\n",
       "      <td>Belize</td>\n",
       "      <td>BZ</td>\n",
       "      <td>Belize</td>\n",
       "      <td>None</td>\n",
       "      <td>None</td>\n",
       "      <td>None</td>\n",
       "      <td>Belize</td>\n",
       "      <td>None</td>\n",
       "      <td>1</td>\n",
       "      <td>4</td>\n",
       "      <td>5</td>\n",
       "      <td>7</td>\n",
       "      <td>307899</td>\n",
       "      <td>2536.000</td>\n",
       "      <td>-99</td>\n",
       "      <td>2010</td>\n",
       "      <td>-99</td>\n",
       "      <td>6. Developing region</td>\n",
       "      <td>4. Lower middle income</td>\n",
       "      <td>-99</td>\n",
       "      <td>None</td>\n",
       "      <td>BZ</td>\n",
       "      <td>BLZ</td>\n",
       "      <td>084</td>\n",
       "      <td>084</td>\n",
       "      <td>BZ</td>\n",
       "      <td>BLZ</td>\n",
       "      <td>-99</td>\n",
       "      <td>BLZ</td>\n",
       "      <td>BLZ</td>\n",
       "      <td>-99</td>\n",
       "      <td>-99</td>\n",
       "      <td>North America</td>\n",
       "      <td>Americas</td>\n",
       "      <td>Central America</td>\n",
       "      <td>Latin America &amp; Caribbean</td>\n",
       "      <td>6</td>\n",
       "      <td>6</td>\n",
       "      <td>6</td>\n",
       "      <td>-99</td>\n",
       "      <td>1</td>\n",
       "      <td>BLZ.geojson</td>\n",
       "      <td>POLYGON ((-89.143 17.808, -89.151 17.955, -89....</td>\n",
       "    </tr>\n",
       "    <tr>\n",
       "      <th>3</th>\n",
       "      <td>1</td>\n",
       "      <td>Admin-0 country</td>\n",
       "      <td>4</td>\n",
       "      <td>The Bahamas</td>\n",
       "      <td>BHS</td>\n",
       "      <td>0</td>\n",
       "      <td>2</td>\n",
       "      <td>Sovereign country</td>\n",
       "      <td>The Bahamas</td>\n",
       "      <td>BHS</td>\n",
       "      <td>0</td>\n",
       "      <td>The Bahamas</td>\n",
       "      <td>BHS</td>\n",
       "      <td>0</td>\n",
       "      <td>The Bahamas</td>\n",
       "      <td>BHS</td>\n",
       "      <td>0</td>\n",
       "      <td>Bahamas</td>\n",
       "      <td>Bahamas</td>\n",
       "      <td>BHS</td>\n",
       "      <td>Bahamas</td>\n",
       "      <td>None</td>\n",
       "      <td>Bhs.</td>\n",
       "      <td>BS</td>\n",
       "      <td>Commonwealth of the Bahamas</td>\n",
       "      <td>None</td>\n",
       "      <td>None</td>\n",
       "      <td>None</td>\n",
       "      <td>Bahamas, The</td>\n",
       "      <td>None</td>\n",
       "      <td>1</td>\n",
       "      <td>1</td>\n",
       "      <td>2</td>\n",
       "      <td>5</td>\n",
       "      <td>309156</td>\n",
       "      <td>9093.000</td>\n",
       "      <td>-99</td>\n",
       "      <td>2010</td>\n",
       "      <td>-99</td>\n",
       "      <td>6. Developing region</td>\n",
       "      <td>2. High income: nonOECD</td>\n",
       "      <td>-99</td>\n",
       "      <td>None</td>\n",
       "      <td>BS</td>\n",
       "      <td>BHS</td>\n",
       "      <td>044</td>\n",
       "      <td>044</td>\n",
       "      <td>BS</td>\n",
       "      <td>BHS</td>\n",
       "      <td>-99</td>\n",
       "      <td>BHS</td>\n",
       "      <td>BHS</td>\n",
       "      <td>-99</td>\n",
       "      <td>-99</td>\n",
       "      <td>North America</td>\n",
       "      <td>Americas</td>\n",
       "      <td>Caribbean</td>\n",
       "      <td>Latin America &amp; Caribbean</td>\n",
       "      <td>7</td>\n",
       "      <td>7</td>\n",
       "      <td>4</td>\n",
       "      <td>-99</td>\n",
       "      <td>1</td>\n",
       "      <td>BHS.geojson</td>\n",
       "      <td>MULTIPOLYGON (((-77.535 23.760, -77.780 23.710...</td>\n",
       "    </tr>\n",
       "    <tr>\n",
       "      <th>4</th>\n",
       "      <td>1</td>\n",
       "      <td>Admin-0 country</td>\n",
       "      <td>5</td>\n",
       "      <td>Costa Rica</td>\n",
       "      <td>CRI</td>\n",
       "      <td>0</td>\n",
       "      <td>2</td>\n",
       "      <td>Sovereign country</td>\n",
       "      <td>Costa Rica</td>\n",
       "      <td>CRI</td>\n",
       "      <td>0</td>\n",
       "      <td>Costa Rica</td>\n",
       "      <td>CRI</td>\n",
       "      <td>0</td>\n",
       "      <td>Costa Rica</td>\n",
       "      <td>CRI</td>\n",
       "      <td>0</td>\n",
       "      <td>Costa Rica</td>\n",
       "      <td>Costa Rica</td>\n",
       "      <td>CRI</td>\n",
       "      <td>Costa Rica</td>\n",
       "      <td>None</td>\n",
       "      <td>C.R.</td>\n",
       "      <td>CR</td>\n",
       "      <td>Republic of Costa Rica</td>\n",
       "      <td>None</td>\n",
       "      <td>None</td>\n",
       "      <td>None</td>\n",
       "      <td>Costa Rica</td>\n",
       "      <td>None</td>\n",
       "      <td>3</td>\n",
       "      <td>2</td>\n",
       "      <td>4</td>\n",
       "      <td>2</td>\n",
       "      <td>4253877</td>\n",
       "      <td>48320.000</td>\n",
       "      <td>-99</td>\n",
       "      <td>2011</td>\n",
       "      <td>-99</td>\n",
       "      <td>5. Emerging region: G20</td>\n",
       "      <td>3. Upper middle income</td>\n",
       "      <td>-99</td>\n",
       "      <td>None</td>\n",
       "      <td>CR</td>\n",
       "      <td>CRI</td>\n",
       "      <td>188</td>\n",
       "      <td>188</td>\n",
       "      <td>CR</td>\n",
       "      <td>CRI</td>\n",
       "      <td>-99</td>\n",
       "      <td>CRI</td>\n",
       "      <td>CRI</td>\n",
       "      <td>-99</td>\n",
       "      <td>-99</td>\n",
       "      <td>North America</td>\n",
       "      <td>Americas</td>\n",
       "      <td>Central America</td>\n",
       "      <td>Latin America &amp; Caribbean</td>\n",
       "      <td>10</td>\n",
       "      <td>10</td>\n",
       "      <td>4</td>\n",
       "      <td>-99</td>\n",
       "      <td>1</td>\n",
       "      <td>CRI.geojson</td>\n",
       "      <td>POLYGON ((-82.966 8.225, -83.508 8.447, -83.71...</td>\n",
       "    </tr>\n",
       "    <tr>\n",
       "      <th>...</th>\n",
       "      <td>...</td>\n",
       "      <td>...</td>\n",
       "      <td>...</td>\n",
       "      <td>...</td>\n",
       "      <td>...</td>\n",
       "      <td>...</td>\n",
       "      <td>...</td>\n",
       "      <td>...</td>\n",
       "      <td>...</td>\n",
       "      <td>...</td>\n",
       "      <td>...</td>\n",
       "      <td>...</td>\n",
       "      <td>...</td>\n",
       "      <td>...</td>\n",
       "      <td>...</td>\n",
       "      <td>...</td>\n",
       "      <td>...</td>\n",
       "      <td>...</td>\n",
       "      <td>...</td>\n",
       "      <td>...</td>\n",
       "      <td>...</td>\n",
       "      <td>...</td>\n",
       "      <td>...</td>\n",
       "      <td>...</td>\n",
       "      <td>...</td>\n",
       "      <td>...</td>\n",
       "      <td>...</td>\n",
       "      <td>...</td>\n",
       "      <td>...</td>\n",
       "      <td>...</td>\n",
       "      <td>...</td>\n",
       "      <td>...</td>\n",
       "      <td>...</td>\n",
       "      <td>...</td>\n",
       "      <td>...</td>\n",
       "      <td>...</td>\n",
       "      <td>...</td>\n",
       "      <td>...</td>\n",
       "      <td>...</td>\n",
       "      <td>...</td>\n",
       "      <td>...</td>\n",
       "      <td>...</td>\n",
       "      <td>...</td>\n",
       "      <td>...</td>\n",
       "      <td>...</td>\n",
       "      <td>...</td>\n",
       "      <td>...</td>\n",
       "      <td>...</td>\n",
       "      <td>...</td>\n",
       "      <td>...</td>\n",
       "      <td>...</td>\n",
       "      <td>...</td>\n",
       "      <td>...</td>\n",
       "      <td>...</td>\n",
       "      <td>...</td>\n",
       "      <td>...</td>\n",
       "      <td>...</td>\n",
       "      <td>...</td>\n",
       "      <td>...</td>\n",
       "      <td>...</td>\n",
       "      <td>...</td>\n",
       "      <td>...</td>\n",
       "      <td>...</td>\n",
       "      <td>...</td>\n",
       "      <td>...</td>\n",
       "    </tr>\n",
       "    <tr>\n",
       "      <th>170</th>\n",
       "      <td>1</td>\n",
       "      <td>Admin-0 country</td>\n",
       "      <td>3</td>\n",
       "      <td>Poland</td>\n",
       "      <td>POL</td>\n",
       "      <td>0</td>\n",
       "      <td>2</td>\n",
       "      <td>Sovereign country</td>\n",
       "      <td>Poland</td>\n",
       "      <td>POL</td>\n",
       "      <td>0</td>\n",
       "      <td>Poland</td>\n",
       "      <td>POL</td>\n",
       "      <td>0</td>\n",
       "      <td>Poland</td>\n",
       "      <td>POL</td>\n",
       "      <td>0</td>\n",
       "      <td>Poland</td>\n",
       "      <td>Poland</td>\n",
       "      <td>POL</td>\n",
       "      <td>Poland</td>\n",
       "      <td>None</td>\n",
       "      <td>Pol.</td>\n",
       "      <td>PL</td>\n",
       "      <td>Republic of Poland</td>\n",
       "      <td>None</td>\n",
       "      <td>None</td>\n",
       "      <td>None</td>\n",
       "      <td>Poland</td>\n",
       "      <td>None</td>\n",
       "      <td>3</td>\n",
       "      <td>7</td>\n",
       "      <td>1</td>\n",
       "      <td>2</td>\n",
       "      <td>38482919</td>\n",
       "      <td>667900.000</td>\n",
       "      <td>-99</td>\n",
       "      <td>2011</td>\n",
       "      <td>-99</td>\n",
       "      <td>2. Developed region: nonG7</td>\n",
       "      <td>1. High income: OECD</td>\n",
       "      <td>-99</td>\n",
       "      <td>None</td>\n",
       "      <td>PL</td>\n",
       "      <td>POL</td>\n",
       "      <td>616</td>\n",
       "      <td>616</td>\n",
       "      <td>PL</td>\n",
       "      <td>POL</td>\n",
       "      <td>-99</td>\n",
       "      <td>POL</td>\n",
       "      <td>POL</td>\n",
       "      <td>-99</td>\n",
       "      <td>-99</td>\n",
       "      <td>Europe</td>\n",
       "      <td>Europe</td>\n",
       "      <td>Eastern Europe</td>\n",
       "      <td>Europe &amp; Central Asia</td>\n",
       "      <td>6</td>\n",
       "      <td>6</td>\n",
       "      <td>4</td>\n",
       "      <td>-99</td>\n",
       "      <td>1</td>\n",
       "      <td>POL.geojson</td>\n",
       "      <td>POLYGON ((15.017 51.107, 14.607 51.745, 14.685...</td>\n",
       "    </tr>\n",
       "    <tr>\n",
       "      <th>171</th>\n",
       "      <td>1</td>\n",
       "      <td>Admin-0 country</td>\n",
       "      <td>3</td>\n",
       "      <td>Sweden</td>\n",
       "      <td>SWE</td>\n",
       "      <td>0</td>\n",
       "      <td>2</td>\n",
       "      <td>Sovereign country</td>\n",
       "      <td>Sweden</td>\n",
       "      <td>SWE</td>\n",
       "      <td>0</td>\n",
       "      <td>Sweden</td>\n",
       "      <td>SWE</td>\n",
       "      <td>0</td>\n",
       "      <td>Sweden</td>\n",
       "      <td>SWE</td>\n",
       "      <td>0</td>\n",
       "      <td>Sweden</td>\n",
       "      <td>Sweden</td>\n",
       "      <td>SWE</td>\n",
       "      <td>Sweden</td>\n",
       "      <td>None</td>\n",
       "      <td>Swe.</td>\n",
       "      <td>S</td>\n",
       "      <td>Kingdom of Sweden</td>\n",
       "      <td>None</td>\n",
       "      <td>None</td>\n",
       "      <td>None</td>\n",
       "      <td>Sweden</td>\n",
       "      <td>None</td>\n",
       "      <td>1</td>\n",
       "      <td>4</td>\n",
       "      <td>2</td>\n",
       "      <td>4</td>\n",
       "      <td>9059651</td>\n",
       "      <td>344300.000</td>\n",
       "      <td>-99</td>\n",
       "      <td>-99</td>\n",
       "      <td>-99</td>\n",
       "      <td>2. Developed region: nonG7</td>\n",
       "      <td>1. High income: OECD</td>\n",
       "      <td>-99</td>\n",
       "      <td>None</td>\n",
       "      <td>SE</td>\n",
       "      <td>SWE</td>\n",
       "      <td>752</td>\n",
       "      <td>752</td>\n",
       "      <td>SE</td>\n",
       "      <td>SWE</td>\n",
       "      <td>-99</td>\n",
       "      <td>SWE</td>\n",
       "      <td>SWE</td>\n",
       "      <td>-99</td>\n",
       "      <td>-99</td>\n",
       "      <td>Europe</td>\n",
       "      <td>Europe</td>\n",
       "      <td>Northern Europe</td>\n",
       "      <td>Europe &amp; Central Asia</td>\n",
       "      <td>6</td>\n",
       "      <td>6</td>\n",
       "      <td>4</td>\n",
       "      <td>-99</td>\n",
       "      <td>1</td>\n",
       "      <td>SWE.geojson</td>\n",
       "      <td>POLYGON ((22.183 65.724, 21.214 65.026, 21.370...</td>\n",
       "    </tr>\n",
       "    <tr>\n",
       "      <th>172</th>\n",
       "      <td>1</td>\n",
       "      <td>Admin-0 country</td>\n",
       "      <td>6</td>\n",
       "      <td>Slovenia</td>\n",
       "      <td>SVN</td>\n",
       "      <td>0</td>\n",
       "      <td>2</td>\n",
       "      <td>Sovereign country</td>\n",
       "      <td>Slovenia</td>\n",
       "      <td>SVN</td>\n",
       "      <td>0</td>\n",
       "      <td>Slovenia</td>\n",
       "      <td>SVN</td>\n",
       "      <td>0</td>\n",
       "      <td>Slovenia</td>\n",
       "      <td>SVN</td>\n",
       "      <td>0</td>\n",
       "      <td>Slovenia</td>\n",
       "      <td>Slovenia</td>\n",
       "      <td>SVN</td>\n",
       "      <td>Slovenia</td>\n",
       "      <td>None</td>\n",
       "      <td>Slo.</td>\n",
       "      <td>SLO</td>\n",
       "      <td>Republic of Slovenia</td>\n",
       "      <td>None</td>\n",
       "      <td>None</td>\n",
       "      <td>None</td>\n",
       "      <td>Slovenia</td>\n",
       "      <td>None</td>\n",
       "      <td>2</td>\n",
       "      <td>3</td>\n",
       "      <td>2</td>\n",
       "      <td>12</td>\n",
       "      <td>2005692</td>\n",
       "      <td>59340.000</td>\n",
       "      <td>-99</td>\n",
       "      <td>2011</td>\n",
       "      <td>-99</td>\n",
       "      <td>2. Developed region: nonG7</td>\n",
       "      <td>1. High income: OECD</td>\n",
       "      <td>-99</td>\n",
       "      <td>None</td>\n",
       "      <td>SI</td>\n",
       "      <td>SVN</td>\n",
       "      <td>705</td>\n",
       "      <td>705</td>\n",
       "      <td>SI</td>\n",
       "      <td>SVN</td>\n",
       "      <td>-99</td>\n",
       "      <td>SVN</td>\n",
       "      <td>SVN</td>\n",
       "      <td>-99</td>\n",
       "      <td>-99</td>\n",
       "      <td>Europe</td>\n",
       "      <td>Europe</td>\n",
       "      <td>Southern Europe</td>\n",
       "      <td>Europe &amp; Central Asia</td>\n",
       "      <td>8</td>\n",
       "      <td>8</td>\n",
       "      <td>4</td>\n",
       "      <td>-99</td>\n",
       "      <td>1</td>\n",
       "      <td>SVN.geojson</td>\n",
       "      <td>POLYGON ((13.806 46.509, 14.632 46.432, 15.137...</td>\n",
       "    </tr>\n",
       "    <tr>\n",
       "      <th>173</th>\n",
       "      <td>1</td>\n",
       "      <td>Admin-0 country</td>\n",
       "      <td>2</td>\n",
       "      <td>Russia</td>\n",
       "      <td>RUS</td>\n",
       "      <td>0</td>\n",
       "      <td>2</td>\n",
       "      <td>Sovereign country</td>\n",
       "      <td>Russia</td>\n",
       "      <td>RUS</td>\n",
       "      <td>0</td>\n",
       "      <td>Russia</td>\n",
       "      <td>RUS</td>\n",
       "      <td>0</td>\n",
       "      <td>Russia</td>\n",
       "      <td>RUS</td>\n",
       "      <td>0</td>\n",
       "      <td>Russia</td>\n",
       "      <td>Russian Federation</td>\n",
       "      <td>RUS</td>\n",
       "      <td>Russia</td>\n",
       "      <td>None</td>\n",
       "      <td>Rus.</td>\n",
       "      <td>RUS</td>\n",
       "      <td>Russian Federation</td>\n",
       "      <td>None</td>\n",
       "      <td>None</td>\n",
       "      <td>None</td>\n",
       "      <td>Russian Federation</td>\n",
       "      <td>None</td>\n",
       "      <td>2</td>\n",
       "      <td>5</td>\n",
       "      <td>7</td>\n",
       "      <td>7</td>\n",
       "      <td>140041247</td>\n",
       "      <td>2266000.000</td>\n",
       "      <td>-99</td>\n",
       "      <td>2010</td>\n",
       "      <td>-99</td>\n",
       "      <td>3. Emerging region: BRIC</td>\n",
       "      <td>3. Upper middle income</td>\n",
       "      <td>-99</td>\n",
       "      <td>None</td>\n",
       "      <td>RU</td>\n",
       "      <td>RUS</td>\n",
       "      <td>643</td>\n",
       "      <td>643</td>\n",
       "      <td>RU</td>\n",
       "      <td>RUS</td>\n",
       "      <td>-99</td>\n",
       "      <td>RUS</td>\n",
       "      <td>RUS</td>\n",
       "      <td>-99</td>\n",
       "      <td>-99</td>\n",
       "      <td>Europe</td>\n",
       "      <td>Europe</td>\n",
       "      <td>Eastern Europe</td>\n",
       "      <td>Europe &amp; Central Asia</td>\n",
       "      <td>6</td>\n",
       "      <td>18</td>\n",
       "      <td>4</td>\n",
       "      <td>-99</td>\n",
       "      <td>1</td>\n",
       "      <td>RUS.geojson</td>\n",
       "      <td>MULTIPOLYGON (((143.648 50.748, 144.654 48.976...</td>\n",
       "    </tr>\n",
       "    <tr>\n",
       "      <th>174</th>\n",
       "      <td>1</td>\n",
       "      <td>Admin-0 country</td>\n",
       "      <td>3</td>\n",
       "      <td>Ukraine</td>\n",
       "      <td>UKR</td>\n",
       "      <td>0</td>\n",
       "      <td>2</td>\n",
       "      <td>Sovereign country</td>\n",
       "      <td>Ukraine</td>\n",
       "      <td>UKR</td>\n",
       "      <td>0</td>\n",
       "      <td>Ukraine</td>\n",
       "      <td>UKR</td>\n",
       "      <td>0</td>\n",
       "      <td>Ukraine</td>\n",
       "      <td>UKR</td>\n",
       "      <td>0</td>\n",
       "      <td>Ukraine</td>\n",
       "      <td>Ukraine</td>\n",
       "      <td>UKR</td>\n",
       "      <td>Ukraine</td>\n",
       "      <td>None</td>\n",
       "      <td>Ukr.</td>\n",
       "      <td>UA</td>\n",
       "      <td>Ukraine</td>\n",
       "      <td>None</td>\n",
       "      <td>None</td>\n",
       "      <td>None</td>\n",
       "      <td>Ukraine</td>\n",
       "      <td>None</td>\n",
       "      <td>5</td>\n",
       "      <td>1</td>\n",
       "      <td>6</td>\n",
       "      <td>3</td>\n",
       "      <td>45700395</td>\n",
       "      <td>339800.000</td>\n",
       "      <td>-99</td>\n",
       "      <td>2001</td>\n",
       "      <td>-99</td>\n",
       "      <td>6. Developing region</td>\n",
       "      <td>4. Lower middle income</td>\n",
       "      <td>-99</td>\n",
       "      <td>None</td>\n",
       "      <td>UA</td>\n",
       "      <td>UKR</td>\n",
       "      <td>804</td>\n",
       "      <td>804</td>\n",
       "      <td>UA</td>\n",
       "      <td>UKR</td>\n",
       "      <td>-99</td>\n",
       "      <td>UKR</td>\n",
       "      <td>UKR</td>\n",
       "      <td>-99</td>\n",
       "      <td>-99</td>\n",
       "      <td>Europe</td>\n",
       "      <td>Europe</td>\n",
       "      <td>Eastern Europe</td>\n",
       "      <td>Europe &amp; Central Asia</td>\n",
       "      <td>7</td>\n",
       "      <td>7</td>\n",
       "      <td>4</td>\n",
       "      <td>-99</td>\n",
       "      <td>1</td>\n",
       "      <td>UKR.geojson</td>\n",
       "      <td>POLYGON ((31.786 52.102, 32.159 52.061, 32.412...</td>\n",
       "    </tr>\n",
       "  </tbody>\n",
       "</table>\n",
       "<p>175 rows × 65 columns</p>\n",
       "</div>"
      ],
      "text/plain": [
       "     scalerank       featurecla  labelrank                sovereignt sov_a3  \\\n",
       "0            1  Admin-0 country          2  United States of America    US1   \n",
       "1            1  Admin-0 country          2                    Canada    CAN   \n",
       "2            1  Admin-0 country          6                    Belize    BLZ   \n",
       "3            1  Admin-0 country          4               The Bahamas    BHS   \n",
       "4            1  Admin-0 country          5                Costa Rica    CRI   \n",
       "..         ...              ...        ...                       ...    ...   \n",
       "170          1  Admin-0 country          3                    Poland    POL   \n",
       "171          1  Admin-0 country          3                    Sweden    SWE   \n",
       "172          1  Admin-0 country          6                  Slovenia    SVN   \n",
       "173          1  Admin-0 country          2                    Russia    RUS   \n",
       "174          1  Admin-0 country          3                   Ukraine    UKR   \n",
       "\n",
       "     adm0_dif  level               type                     admin adm0_a3  \\\n",
       "0           1      2            Country  United States of America     USA   \n",
       "1           0      2  Sovereign country                    Canada     CAN   \n",
       "2           0      2  Sovereign country                    Belize     BLZ   \n",
       "3           0      2  Sovereign country               The Bahamas     BHS   \n",
       "4           0      2  Sovereign country                Costa Rica     CRI   \n",
       "..        ...    ...                ...                       ...     ...   \n",
       "170         0      2  Sovereign country                    Poland     POL   \n",
       "171         0      2  Sovereign country                    Sweden     SWE   \n",
       "172         0      2  Sovereign country                  Slovenia     SVN   \n",
       "173         0      2  Sovereign country                    Russia     RUS   \n",
       "174         0      2  Sovereign country                   Ukraine     UKR   \n",
       "\n",
       "     geou_dif                   geounit gu_a3  su_dif  \\\n",
       "0           0  United States of America   USA       0   \n",
       "1           0                    Canada   CAN       0   \n",
       "2           0                    Belize   BLZ       0   \n",
       "3           0               The Bahamas   BHS       0   \n",
       "4           0                Costa Rica   CRI       0   \n",
       "..        ...                       ...   ...     ...   \n",
       "170         0                    Poland   POL       0   \n",
       "171         0                    Sweden   SWE       0   \n",
       "172         0                  Slovenia   SVN       0   \n",
       "173         0                    Russia   RUS       0   \n",
       "174         0                   Ukraine   UKR       0   \n",
       "\n",
       "                      subunit su_a3  brk_diff           name  \\\n",
       "0    United States of America   USA         0  United States   \n",
       "1                      Canada   CAN         0         Canada   \n",
       "2                      Belize   BLZ         0         Belize   \n",
       "3                 The Bahamas   BHS         0        Bahamas   \n",
       "4                  Costa Rica   CRI         0     Costa Rica   \n",
       "..                        ...   ...       ...            ...   \n",
       "170                    Poland   POL         0         Poland   \n",
       "171                    Sweden   SWE         0         Sweden   \n",
       "172                  Slovenia   SVN         0       Slovenia   \n",
       "173                    Russia   RUS         0         Russia   \n",
       "174                   Ukraine   UKR         0        Ukraine   \n",
       "\n",
       "              name_long brk_a3       brk_name brk_group  abbrev postal  \\\n",
       "0         United States    USA  United States      None  U.S.A.     US   \n",
       "1                Canada    CAN         Canada      None    Can.     CA   \n",
       "2                Belize    BLZ         Belize      None  Belize     BZ   \n",
       "3               Bahamas    BHS        Bahamas      None    Bhs.     BS   \n",
       "4            Costa Rica    CRI     Costa Rica      None    C.R.     CR   \n",
       "..                  ...    ...            ...       ...     ...    ...   \n",
       "170              Poland    POL         Poland      None    Pol.     PL   \n",
       "171              Sweden    SWE         Sweden      None    Swe.      S   \n",
       "172            Slovenia    SVN       Slovenia      None    Slo.    SLO   \n",
       "173  Russian Federation    RUS         Russia      None    Rus.    RUS   \n",
       "174             Ukraine    UKR        Ukraine      None    Ukr.     UA   \n",
       "\n",
       "                       formal_en formal_fr note_adm0 note_brk  \\\n",
       "0       United States of America      None      None     None   \n",
       "1                         Canada      None      None     None   \n",
       "2                         Belize      None      None     None   \n",
       "3    Commonwealth of the Bahamas      None      None     None   \n",
       "4         Republic of Costa Rica      None      None     None   \n",
       "..                           ...       ...       ...      ...   \n",
       "170           Republic of Poland      None      None     None   \n",
       "171            Kingdom of Sweden      None      None     None   \n",
       "172         Republic of Slovenia      None      None     None   \n",
       "173           Russian Federation      None      None     None   \n",
       "174                      Ukraine      None      None     None   \n",
       "\n",
       "                    name_sort name_alt  mapcolor7  mapcolor8  mapcolor9  \\\n",
       "0    United States of America     None          4          5          1   \n",
       "1                      Canada     None          6          6          2   \n",
       "2                      Belize     None          1          4          5   \n",
       "3                Bahamas, The     None          1          1          2   \n",
       "4                  Costa Rica     None          3          2          4   \n",
       "..                        ...      ...        ...        ...        ...   \n",
       "170                    Poland     None          3          7          1   \n",
       "171                    Sweden     None          1          4          2   \n",
       "172                  Slovenia     None          2          3          2   \n",
       "173        Russian Federation     None          2          5          7   \n",
       "174                   Ukraine     None          5          1          6   \n",
       "\n",
       "     mapcolor13    pop_est   gdp_md_est  pop_year  lastcensus  gdp_year  \\\n",
       "0             1  313973000 15094000.000         0        2010         0   \n",
       "1             2   33487208  1300000.000       -99        2011       -99   \n",
       "2             7     307899     2536.000       -99        2010       -99   \n",
       "3             5     309156     9093.000       -99        2010       -99   \n",
       "4             2    4253877    48320.000       -99        2011       -99   \n",
       "..          ...        ...          ...       ...         ...       ...   \n",
       "170           2   38482919   667900.000       -99        2011       -99   \n",
       "171           4    9059651   344300.000       -99         -99       -99   \n",
       "172          12    2005692    59340.000       -99        2011       -99   \n",
       "173           7  140041247  2266000.000       -99        2010       -99   \n",
       "174           3   45700395   339800.000       -99        2001       -99   \n",
       "\n",
       "                        economy               income_grp  wikipedia fips_10  \\\n",
       "0       1. Developed region: G7     1. High income: OECD          0    None   \n",
       "1       1. Developed region: G7     1. High income: OECD        -99    None   \n",
       "2          6. Developing region   4. Lower middle income        -99    None   \n",
       "3          6. Developing region  2. High income: nonOECD        -99    None   \n",
       "4       5. Emerging region: G20   3. Upper middle income        -99    None   \n",
       "..                          ...                      ...        ...     ...   \n",
       "170  2. Developed region: nonG7     1. High income: OECD        -99    None   \n",
       "171  2. Developed region: nonG7     1. High income: OECD        -99    None   \n",
       "172  2. Developed region: nonG7     1. High income: OECD        -99    None   \n",
       "173    3. Emerging region: BRIC   3. Upper middle income        -99    None   \n",
       "174        6. Developing region   4. Lower middle income        -99    None   \n",
       "\n",
       "    iso_a2 iso_a3 iso_n3 un_a3 wb_a2 wb_a3  woe_id adm0_a3_is adm0_a3_us  \\\n",
       "0       US    USA    840   840    US   USA     -99        USA        USA   \n",
       "1       CA    CAN    124   124    CA   CAN     -99        CAN        CAN   \n",
       "2       BZ    BLZ    084   084    BZ   BLZ     -99        BLZ        BLZ   \n",
       "3       BS    BHS    044   044    BS   BHS     -99        BHS        BHS   \n",
       "4       CR    CRI    188   188    CR   CRI     -99        CRI        CRI   \n",
       "..     ...    ...    ...   ...   ...   ...     ...        ...        ...   \n",
       "170     PL    POL    616   616    PL   POL     -99        POL        POL   \n",
       "171     SE    SWE    752   752    SE   SWE     -99        SWE        SWE   \n",
       "172     SI    SVN    705   705    SI   SVN     -99        SVN        SVN   \n",
       "173     RU    RUS    643   643    RU   RUS     -99        RUS        RUS   \n",
       "174     UA    UKR    804   804    UA   UKR     -99        UKR        UKR   \n",
       "\n",
       "     adm0_a3_un  adm0_a3_wb      continent region_un         subregion  \\\n",
       "0           -99         -99  North America  Americas  Northern America   \n",
       "1           -99         -99  North America  Americas  Northern America   \n",
       "2           -99         -99  North America  Americas   Central America   \n",
       "3           -99         -99  North America  Americas         Caribbean   \n",
       "4           -99         -99  North America  Americas   Central America   \n",
       "..          ...         ...            ...       ...               ...   \n",
       "170         -99         -99         Europe    Europe    Eastern Europe   \n",
       "171         -99         -99         Europe    Europe   Northern Europe   \n",
       "172         -99         -99         Europe    Europe   Southern Europe   \n",
       "173         -99         -99         Europe    Europe    Eastern Europe   \n",
       "174         -99         -99         Europe    Europe    Eastern Europe   \n",
       "\n",
       "                     region_wb  name_len  long_len  abbrev_len  tiny  \\\n",
       "0                North America        13        13           6   -99   \n",
       "1                North America         6         6           4   -99   \n",
       "2    Latin America & Caribbean         6         6           6   -99   \n",
       "3    Latin America & Caribbean         7         7           4   -99   \n",
       "4    Latin America & Caribbean        10        10           4   -99   \n",
       "..                         ...       ...       ...         ...   ...   \n",
       "170      Europe & Central Asia         6         6           4   -99   \n",
       "171      Europe & Central Asia         6         6           4   -99   \n",
       "172      Europe & Central Asia         8         8           4   -99   \n",
       "173      Europe & Central Asia         6        18           4   -99   \n",
       "174      Europe & Central Asia         7         7           4   -99   \n",
       "\n",
       "     homepart     filename                                           geometry  \n",
       "0           1  USA.geojson  MULTIPOLYGON (((-155.542 19.083, -155.688 18.9...  \n",
       "1           1  CAN.geojson  MULTIPOLYGON (((-63.664 46.550, -62.939 46.416...  \n",
       "2           1  BLZ.geojson  POLYGON ((-89.143 17.808, -89.151 17.955, -89....  \n",
       "3           1  BHS.geojson  MULTIPOLYGON (((-77.535 23.760, -77.780 23.710...  \n",
       "4           1  CRI.geojson  POLYGON ((-82.966 8.225, -83.508 8.447, -83.71...  \n",
       "..        ...          ...                                                ...  \n",
       "170         1  POL.geojson  POLYGON ((15.017 51.107, 14.607 51.745, 14.685...  \n",
       "171         1  SWE.geojson  POLYGON ((22.183 65.724, 21.214 65.026, 21.370...  \n",
       "172         1  SVN.geojson  POLYGON ((13.806 46.509, 14.632 46.432, 15.137...  \n",
       "173         1  RUS.geojson  MULTIPOLYGON (((143.648 50.748, 144.654 48.976...  \n",
       "174         1  UKR.geojson  POLYGON ((31.786 52.102, 32.159 52.061, 32.412...  \n",
       "\n",
       "[175 rows x 65 columns]"
      ]
     },
     "execution_count": 3,
     "metadata": {},
     "output_type": "execute_result"
    }
   ],
   "source": [
    "gpd.read_file(\"../data/world_map.json\")"
   ]
  },
  {
   "cell_type": "markdown",
   "metadata": {},
   "source": [
    "Let's have a look at the datatypes of this dataframe. The interesting one is the last one. It is named \"geometry\" and has our new dataframe datatype ```geometry```."
   ]
  },
  {
   "cell_type": "code",
   "execution_count": 4,
   "metadata": {},
   "outputs": [
    {
     "data": {
      "text/plain": [
       "scalerank        int64\n",
       "featurecla      object\n",
       "labelrank        int64\n",
       "sovereignt      object\n",
       "sov_a3          object\n",
       "adm0_dif         int64\n",
       "level            int64\n",
       "type            object\n",
       "admin           object\n",
       "adm0_a3         object\n",
       "geou_dif         int64\n",
       "geounit         object\n",
       "gu_a3           object\n",
       "su_dif           int64\n",
       "subunit         object\n",
       "su_a3           object\n",
       "brk_diff         int64\n",
       "name            object\n",
       "name_long       object\n",
       "brk_a3          object\n",
       "brk_name        object\n",
       "brk_group       object\n",
       "abbrev          object\n",
       "postal          object\n",
       "formal_en       object\n",
       "formal_fr       object\n",
       "note_adm0       object\n",
       "note_brk        object\n",
       "name_sort       object\n",
       "name_alt        object\n",
       "mapcolor7        int64\n",
       "mapcolor8        int64\n",
       "mapcolor9        int64\n",
       "mapcolor13       int64\n",
       "pop_est          int64\n",
       "gdp_md_est     float64\n",
       "pop_year         int64\n",
       "lastcensus       int64\n",
       "gdp_year         int64\n",
       "economy         object\n",
       "income_grp      object\n",
       "wikipedia        int64\n",
       "fips_10         object\n",
       "iso_a2          object\n",
       "iso_a3          object\n",
       "iso_n3          object\n",
       "un_a3           object\n",
       "wb_a2           object\n",
       "wb_a3           object\n",
       "woe_id           int64\n",
       "adm0_a3_is      object\n",
       "adm0_a3_us      object\n",
       "adm0_a3_un       int64\n",
       "adm0_a3_wb       int64\n",
       "continent       object\n",
       "region_un       object\n",
       "subregion       object\n",
       "region_wb       object\n",
       "name_len         int64\n",
       "long_len         int64\n",
       "abbrev_len       int64\n",
       "tiny             int64\n",
       "homepart         int64\n",
       "filename        object\n",
       "geometry      geometry\n",
       "dtype: object"
      ]
     },
     "execution_count": 4,
     "metadata": {},
     "output_type": "execute_result"
    }
   ],
   "source": [
    "world_map = gpd.read_file(\"../data/world_map.json\")\n",
    "world_map.dtypes"
   ]
  },
  {
   "cell_type": "markdown",
   "metadata": {},
   "source": [
    "Let's have a look at the \"geometry\" of a single observation. As you can see, it includes a ```POLYGON``` made up of coordinate pairs (longitude and latitude), which trace the border of the polygon. "
   ]
  },
  {
   "cell_type": "code",
   "execution_count": 5,
   "metadata": {},
   "outputs": [
    {
     "data": {
      "text/plain": [
       "21    MULTIPOLYGON (((-68.63401 -52.63637, -68.63335...\n",
       "Name: geometry, dtype: geometry"
      ]
     },
     "execution_count": 5,
     "metadata": {},
     "output_type": "execute_result"
    }
   ],
   "source": [
    "world_map.sample()[\"geometry\"]"
   ]
  },
  {
   "cell_type": "markdown",
   "metadata": {},
   "source": [
    "The geometry stored in this column allows us to plot the dataframe as a map."
   ]
  },
  {
   "cell_type": "code",
   "execution_count": 6,
   "metadata": {},
   "outputs": [
    {
     "data": {
      "text/plain": [
       "<matplotlib.axes._subplots.AxesSubplot at 0x2a3e3ffa848>"
      ]
     },
     "execution_count": 6,
     "metadata": {},
     "output_type": "execute_result"
    },
    {
     "data": {
      "image/png": "[encoded data removed]",
      "text/plain": [
       "<Figure size 1440x1440 with 1 Axes>"
      ]
     },
     "metadata": {},
     "output_type": "display_data"
    }
   ],
   "source": [
    "world_map.plot(figsize=(20,20))"
   ]
  },
  {
   "cell_type": "markdown",
   "metadata": {},
   "source": [
    "If we want to plot a single observation from our geopandas dataframe (corresponding to a single country), we can simply filter that observation and plot it."
   ]
  },
  {
   "cell_type": "code",
   "execution_count": 7,
   "metadata": {},
   "outputs": [
    {
     "data": {
      "text/plain": [
       "<matplotlib.axes._subplots.AxesSubplot at 0x2a3e401d808>"
      ]
     },
     "execution_count": 7,
     "metadata": {},
     "output_type": "execute_result"
    },
    {
     "data": {
      "image/png": "[encoded data removed]",
      "text/plain": [
       "<Figure size 432x288 with 1 Axes>"
      ]
     },
     "metadata": {},
     "output_type": "display_data"
    }
   ],
   "source": [
    "world_map[world_map[\"sovereignt\"] == \"Germany\"].plot()"
   ]
  },
  {
   "cell_type": "markdown",
   "metadata": {},
   "source": [
    "We can also select several observations and plot them."
   ]
  },
  {
   "cell_type": "code",
   "execution_count": 8,
   "metadata": {},
   "outputs": [
    {
     "data": {
      "text/plain": [
       "<matplotlib.axes._subplots.AxesSubplot at 0x2a3e405ec48>"
      ]
     },
     "execution_count": 8,
     "metadata": {},
     "output_type": "execute_result"
    },
    {
     "data": {
      "image/png": "[encoded data removed]",
      "text/plain": [
       "<Figure size 432x288 with 1 Axes>"
      ]
     },
     "metadata": {},
     "output_type": "display_data"
    }
   ],
   "source": [
    "world_map[world_map[\"sovereignt\"].isin([\"Germany\", \"Austria\"])].plot()"
   ]
  },
  {
   "cell_type": "markdown",
   "metadata": {},
   "source": [
    "### Coordinate Reference Systems (CRS) and projections"
   ]
  },
  {
   "cell_type": "markdown",
   "metadata": {},
   "source": [
    "We already learnt about CRS and that all geodata needs to have an associated CRS in order to be located on the earth's surface and displayed properly. We can easily check for a geopanda dataframe's associated CRS by using ```.crs```. "
   ]
  },
  {
   "cell_type": "code",
   "execution_count": 11,
   "metadata": {},
   "outputs": [
    {
     "data": {
      "text/plain": [
       "<Geographic 2D CRS: EPSG:4326>\n",
       "Name: WGS 84\n",
       "Axis Info [ellipsoidal]:\n",
       "- Lat[north]: Geodetic latitude (degree)\n",
       "- Lon[east]: Geodetic longitude (degree)\n",
       "Area of Use:\n",
       "- name: World\n",
       "- bounds: (-180.0, -90.0, 180.0, 90.0)\n",
       "Datum: World Geodetic System 1984\n",
       "- Ellipsoid: WGS 84\n",
       "- Prime Meridian: Greenwich"
      ]
     },
     "execution_count": 11,
     "metadata": {},
     "output_type": "execute_result"
    }
   ],
   "source": [
    "world_map.crs"
   ]
  },
  {
   "cell_type": "markdown",
   "metadata": {},
   "source": [
    "It makes sense that ```world_map```'s CRS is WGS 84 (EPSG code: 4326) given that it is geodata with global coverage. Maybe you already noticed that Germany looks somehow distorted and unfamiliar. This is because you are used to see maps of Germany in projected CRS that work well for central Europe. For Germany, UTM zone 32 (https://epsg.io/25832) is usually used (EPSG: 25832) and we can easily transfer our selection of ```world_map``` to this crs using ```to_crs(epsg=\"25832\")```."
   ]
  },
  {
   "cell_type": "code",
   "execution_count": 13,
   "metadata": {},
   "outputs": [
    {
     "data": {
      "text/plain": [
       "<matplotlib.axes._subplots.AxesSubplot at 0x2a3e60df508>"
      ]
     },
     "execution_count": 13,
     "metadata": {},
     "output_type": "execute_result"
    },
    {
     "data": {
      "image/png": "[encoded data removed]",
      "text/plain": [
       "<Figure size 432x288 with 1 Axes>"
      ]
     },
     "metadata": {},
     "output_type": "display_data"
    }
   ],
   "source": [
    "world_map[world_map[\"sovereignt\"] == \"Germany\"].to_crs(epsg=\"25832\").plot()"
   ]
  },
  {
   "cell_type": "markdown",
   "metadata": {},
   "source": [
    "Note, however, that this CRS would not work globally."
   ]
  },
  {
   "cell_type": "code",
   "execution_count": 18,
   "metadata": {},
   "outputs": [
    {
     "data": {
      "text/plain": [
       "<matplotlib.axes._subplots.AxesSubplot at 0x2a3e57cee48>"
      ]
     },
     "execution_count": 18,
     "metadata": {},
     "output_type": "execute_result"
    },
    {
     "data": {
      "image/png": "[encoded data removed]",
      "text/plain": [
       "<Figure size 720x720 with 1 Axes>"
      ]
     },
     "metadata": {},
     "output_type": "display_data"
    }
   ],
   "source": [
    "world_map.to_crs(epsg=\"25832\").plot(figsize=(10,10))"
   ]
  },
  {
   "cell_type": "markdown",
   "metadata": {},
   "source": [
    "### Choropleth maps"
   ]
  },
  {
   "cell_type": "markdown",
   "metadata": {},
   "source": [
    "We can also pass a column to the ```plot()``` function in order to use it for the coloring of the countries (creating a so-called choropleth map https://en.wikipedia.org/wiki/Choropleth_map)."
   ]
  },
  {
   "cell_type": "code",
   "execution_count": null,
   "metadata": {},
   "outputs": [],
   "source": [
    "world_map.plot(figsize=(20,20), column=\"pop_est\")"
   ]
  },
  {
   "cell_type": "markdown",
   "metadata": {},
   "source": [
    "The classes used to color the countries are not that informative yet, as most countries are in the lowest (i.e. darkest) class. We can change that by selecting a more appropriate choropleth classification scheme. Here are some commonly used ones:\n",
    "- ```'NaturalBreaks'``` https://en.wikipedia.org/wiki/Jenks_natural_breaks_optimization\n",
    "- ```'Quantiles'``` https://en.wikipedia.org/wiki/Quantile\n",
    "- ```'Percentiles'``` https://en.wikipedia.org/wiki/Percentile\n",
    "- ```'StdMean'``` https://en.wikipedia.org/wiki/Standard_deviation\n",
    "\n",
    "We may also pass a ```k=``` parameter to define the number of classes we want to create using the defined scheme. We also want a legend for our map which we can achieve by passing ```legend=True```."
   ]
  },
  {
   "cell_type": "code",
   "execution_count": null,
   "metadata": {},
   "outputs": [],
   "source": [
    "world_map.plot(figsize=(20,20), column=\"pop_est\", scheme=\"Quantiles\", k=10, legend=True)"
   ]
  },
  {
   "cell_type": "markdown",
   "metadata": {},
   "source": [
    "In the legend, we can see that the lowest value for population is \"-99\", which makes no sense. It seems like that the person who created this dataset used \"-99\" to mark missing values. Let's replace them."
   ]
  },
  {
   "cell_type": "code",
   "execution_count": null,
   "metadata": {},
   "outputs": [],
   "source": [
    "world_map[\"pop_est\"] = world_map[\"pop_est\"].replace({-99: np.nan})"
   ]
  },
  {
   "cell_type": "markdown",
   "metadata": {},
   "source": [
    "Let's also create a new column containing the population in millions."
   ]
  },
  {
   "cell_type": "code",
   "execution_count": null,
   "metadata": {},
   "outputs": [],
   "source": [
    "world_map[\"pop_million\"] = world_map[\"pop_est\"] / 1000000"
   ]
  },
  {
   "cell_type": "markdown",
   "metadata": {},
   "source": [
    "We can also pass some ```missing_kwds={}``` to tell geopandas how to handle missing data."
   ]
  },
  {
   "cell_type": "code",
   "execution_count": null,
   "metadata": {},
   "outputs": [],
   "source": [
    "world_map.plot(figsize=(20,20), column=\"pop_million\", scheme=\"NaturalBreaks\", k=5, legend=True, missing_kwds={'color': 'lightgrey', \"label\": \"Missing\"})"
   ]
  },
  {
   "cell_type": "markdown",
   "metadata": {},
   "source": [
    "To make some proper maps, we usually want to use the matplotlib approach we learned about last week."
   ]
  },
  {
   "cell_type": "code",
   "execution_count": null,
   "metadata": {},
   "outputs": [],
   "source": [
    "from matplotlib import gridspec\n",
    "\n",
    "# create one figure size 20,10\n",
    "fig = plt.figure(figsize=(20,10))\n",
    "# use the gridspec function to define 2 columns in this figure; set the width ratio to 3:1, meaning the first column will be 3 times the width of the second column\n",
    "columns = gridspec.GridSpec(ncols=2, nrows=1, width_ratios=[3, 1])\n",
    "\n",
    "# add a subplot to the first column of the figure\n",
    "axis_0 = fig.add_subplot(columns[0])\n",
    "# world population choropleth map\n",
    "world_map.plot(column=\"pop_million\", scheme=\"NaturalBreaks\", k=5, legend=True,\n",
    "               legend_kwds={\"loc\": \"lower left\"},\n",
    "               missing_kwds={'color': 'lightgrey', \"label\": \"Missing\"},\n",
    "               ax=axis_0)\n",
    "axis_0.set_axis_off()\n",
    "\n",
    "\n",
    "# add a subplot to the second column of the figure\n",
    "axis_1 = fig.add_subplot(columns[1])\n",
    "# world population histogram\n",
    "sns.distplot(world_map[\"pop_million\"], kde=False, bins=50, ax=axis_1)\n",
    "axis_1.set_xlabel(\"Population in Millions\")\n",
    "axis_1.set_ylabel(\"Frequency\")\n",
    "axis_1.set_xlim(0,1500)\n",
    "\n",
    "\n",
    "# Final adjustments\n",
    "fig.tight_layout() #tidy up the figure \n",
    "plt.savefig(\"world_population.png\", dpi=150) #save the figure"
   ]
  },
  {
   "cell_type": "markdown",
   "metadata": {},
   "source": [
    "Remember the nice color palettes from seaborn? --> https://seaborn.pydata.org/tutorial/color_palettes.html"
   ]
  },
  {
   "cell_type": "code",
   "execution_count": null,
   "metadata": {},
   "outputs": [],
   "source": [
    "sns.palplot(sns.color_palette(\"Paired\"))"
   ]
  },
  {
   "cell_type": "markdown",
   "metadata": {},
   "source": [
    "We can also get the color hex codes for these colors using the ```as_hex()``` method on the palette."
   ]
  },
  {
   "cell_type": "code",
   "execution_count": null,
   "metadata": {},
   "outputs": [],
   "source": [
    "sns.color_palette(\"Paired\").as_hex()"
   ]
  },
  {
   "cell_type": "markdown",
   "metadata": {},
   "source": [
    "If we want to use one these in geopandas, we have to transfer the seaborn color palette hex codes to a matplotlib (listed) colormap."
   ]
  },
  {
   "cell_type": "code",
   "execution_count": null,
   "metadata": {},
   "outputs": [],
   "source": [
    "from matplotlib.colors import ListedColormap\n",
    "\n",
    "sns_color_palette = ListedColormap(sns.color_palette(\"Paired\").as_hex())"
   ]
  },
  {
   "cell_type": "markdown",
   "metadata": {},
   "source": [
    "Let's update the map we have created above with some more beautiful seaborn colors. For the histogram, we can select the second color of the palette directly."
   ]
  },
  {
   "cell_type": "code",
   "execution_count": null,
   "metadata": {},
   "outputs": [],
   "source": [
    "# create one figure size 20,10\n",
    "fig = plt.figure(figsize=(20,10))\n",
    "# use the gridspec function to define 2 columns in this figure; set the width ratio to 3:1, meaning the first column will be 3 times the width of the second column\n",
    "columns = gridspec.GridSpec(ncols=2, nrows=1, width_ratios=[3, 1])\n",
    "\n",
    "# add a subplot to the first column of the figure\n",
    "axis_0 = fig.add_subplot(columns[0])\n",
    "# world population choropleth map\n",
    "world_map.plot(column=\"pop_million\", scheme=\"NaturalBreaks\", k=5, legend=True, cmap=sns_color_palette,\n",
    "               legend_kwds={\"loc\": \"lower left\", },\n",
    "               missing_kwds={'color': 'lightgrey', \"label\": \"Missing\"},\n",
    "               ax=axis_0)\n",
    "axis_0.set_axis_off()\n",
    "\n",
    "\n",
    "# add a subplot to the second column of the figure\n",
    "axis_1 = fig.add_subplot(columns[1])\n",
    "# world population histogram\n",
    "sns.distplot(world_map[\"pop_million\"], kde=False, bins=50, ax=axis_1, color=sns.color_palette(\"Paired\")[4])\n",
    "axis_1.set_xlabel(\"Population in Millions\")\n",
    "axis_1.set_ylabel(\"Frequency\")\n",
    "axis_1.set_xlim(0,1500)\n",
    "\n",
    "\n",
    "# Final adjustments\n",
    "fig.tight_layout() #tidy up the figure \n",
    "plt.savefig(\"world_population_updated.png\", dpi=150) #save the figure"
   ]
  },
  {
   "cell_type": "markdown",
   "metadata": {},
   "source": [
    "### Combining geodata and non-geographic data"
   ]
  },
  {
   "cell_type": "markdown",
   "metadata": {},
   "source": [
    "Let's combine our world map with some university ranking data. First we load the university ranking data we have been working on over the past two weeks."
   ]
  },
  {
   "cell_type": "code",
   "execution_count": null,
   "metadata": {},
   "outputs": [],
   "source": [
    "ranking = pd.read_csv(\"../data/times_university_data.csv\", sep=\",\")"
   ]
  },
  {
   "cell_type": "markdown",
   "metadata": {},
   "source": [
    "Remember that the \"world_rank\" column was \"object\" type because there are rankings like \"250-300\" included. Let's transfer that column to numeric and drop the observations which we cannot transfer."
   ]
  },
  {
   "cell_type": "code",
   "execution_count": null,
   "metadata": {},
   "outputs": [],
   "source": [
    "ranking[\"world_rank\"]"
   ]
  },
  {
   "cell_type": "code",
   "execution_count": null,
   "metadata": {},
   "outputs": [],
   "source": [
    "ranking[\"world_rank\"] = pd.to_numeric(ranking[\"world_rank\"], errors=\"coerce\")"
   ]
  },
  {
   "cell_type": "markdown",
   "metadata": {},
   "source": [
    "Let's select only the world's top 100 universities in 2016."
   ]
  },
  {
   "cell_type": "code",
   "execution_count": null,
   "metadata": {},
   "outputs": [],
   "source": [
    "top100 = ranking[(ranking[\"year\"] == 2016) & (ranking[\"world_rank\"] <= 100)]"
   ]
  },
  {
   "cell_type": "markdown",
   "metadata": {},
   "source": [
    "About a third of the top 100 universities are from the USA."
   ]
  },
  {
   "cell_type": "code",
   "execution_count": null,
   "metadata": {},
   "outputs": [],
   "source": [
    "country_counts = top100[\"country\"].value_counts()\n",
    "country_counts"
   ]
  },
  {
   "cell_type": "markdown",
   "metadata": {},
   "source": [
    "Let's use pandas ```groupby(by=[])``` method to group our dataframe by countries and then calculate the mean \"citations\" of each country's universities in the top 100."
   ]
  },
  {
   "cell_type": "code",
   "execution_count": null,
   "metadata": {},
   "outputs": [],
   "source": [
    "mean_top100_citations = top100.groupby(by=[\"country\"])[\"citations\"].mean()\n",
    "mean_top100_citations"
   ]
  },
  {
   "cell_type": "markdown",
   "metadata": {},
   "source": [
    "Now we can merge our ```world_map``` geopandas dataframe with the two Pandas series (remember, those are like single column dataframes)."
   ]
  },
  {
   "cell_type": "code",
   "execution_count": null,
   "metadata": {},
   "outputs": [],
   "source": [
    "world_map = world_map.merge(country_counts, how=\"left\", left_on=\"sovereignt\", right_index=True).rename(columns={\"country\": \"n_universities\"})\n",
    "world_map = world_map.merge(mean_top100_citations, how=\"left\", left_on=\"sovereignt\", right_index=True)"
   ]
  },
  {
   "cell_type": "markdown",
   "metadata": {},
   "source": [
    "And now we can use these two new columns for some fresh new maps."
   ]
  },
  {
   "cell_type": "code",
   "execution_count": null,
   "metadata": {},
   "outputs": [],
   "source": [
    "fig, axes = plt.subplots(2,1, figsize=(20,20))\n",
    "\n",
    "# number of top 100 universities map\n",
    "world_map.plot(figsize=(20,20), column=\"n_universities\", scheme=\"UserDefined\", classification_kwds={'bins':[1, 10, 20, 30]}, legend=True, missing_kwds={'color': 'lightgrey', \"label\": \"No top 100 universities\"}, ax=axes[0])\n",
    "axes[0].set_axis_off()\n",
    "axes[0].set_title(\"Number of Universities in Top 100\",fontdict={\"fontsize\":20})\n",
    "\n",
    "# mean citations map\n",
    "world_map.plot(figsize=(20,20), column=\"citations\", scheme=\"NaturalBreaks\", k=5, legend=True, missing_kwds={'color': 'lightgrey', \"label\": \"No top 100 universities\"}, ax=axes[1])\n",
    "axes[1].set_axis_off()\n",
    "axes[1].set_title(\"Mean Citations of Top 100 Universities\",fontdict={\"fontsize\":20})\n",
    "\n",
    "# Final adjustments\n",
    "fig.tight_layout() #tidy up the figure \n",
    "plt.savefig(\"dual_map.png\", dpi=150) #save the figure"
   ]
  },
  {
   "cell_type": "markdown",
   "metadata": {},
   "source": [
    "The number of top 100 universities by population may be something we are interested in."
   ]
  },
  {
   "cell_type": "code",
   "execution_count": null,
   "metadata": {},
   "outputs": [],
   "source": [
    "world_map[\"top_ranking_per_1m_pop\"] = world_map[\"n_universities\"] / world_map[\"pop_million\"]"
   ]
  },
  {
   "cell_type": "markdown",
   "metadata": {},
   "source": [
    "Looking at the descriptive statistics there seems something wrong. The maximum is very large."
   ]
  },
  {
   "cell_type": "code",
   "execution_count": null,
   "metadata": {},
   "outputs": [],
   "source": [
    "world_map[\"top_ranking_per_1m_pop\"].describe()"
   ]
  },
  {
   "cell_type": "markdown",
   "metadata": {},
   "source": [
    "When we look at our observations that have a non-null value in the new \"top_ranking_per_1m_pop\" column, we see that UK, USA, and France appear more than once and have some suspiciously high \"top_ranking_per_1m_pop\" values."
   ]
  },
  {
   "cell_type": "code",
   "execution_count": null,
   "metadata": {},
   "outputs": [],
   "source": [
    "world_map[world_map[\"sovereignt\"] == \"United States of America\"]"
   ]
  },
  {
   "cell_type": "markdown",
   "metadata": {},
   "source": [
    "It turns out that, for the example of UK, the Falkland Islands are a separat \"Dependency\" in the \"type\" column."
   ]
  },
  {
   "cell_type": "code",
   "execution_count": null,
   "metadata": {},
   "outputs": [],
   "source": [
    "world_map[world_map[\"sovereignt\"] == \"United Kingdom\"]"
   ]
  },
  {
   "cell_type": "markdown",
   "metadata": {},
   "source": [
    "There are actually several country types that sometimes share name like \"United Kingdom\"."
   ]
  },
  {
   "cell_type": "code",
   "execution_count": null,
   "metadata": {},
   "outputs": [],
   "source": [
    "world_map[\"type\"].value_counts()"
   ]
  },
  {
   "cell_type": "markdown",
   "metadata": {},
   "source": [
    "So let's recalculate the \"top_ranking_per_1m_pop\" column in a separat geopandas dataframe which includes \"country\" and \"Sovereign country\" types only (no \"Dependency\" and the like)"
   ]
  },
  {
   "cell_type": "code",
   "execution_count": null,
   "metadata": {},
   "outputs": [],
   "source": [
    "del(world_map[\"top_ranking_per_1m_pop\"]) # delete wrong column in original dataframe\n",
    "\n",
    "world_map_selection = world_map[world_map[\"type\"].isin([\"Sovereign country\", \"Country\"])]\n",
    "world_map_selection[\"top_ranking_per_1m_pop\"] = world_map_selection[\"n_universities\"] / world_map_selection[\"pop_million\"]"
   ]
  },
  {
   "cell_type": "markdown",
   "metadata": {},
   "source": [
    "Now it makes more sense! \n",
    "\n",
    "We can actually see that smaller countries like the Netherlands and Switzerland outperform the USA for example. Both have about three times the top 100 universities per million inhabitants than the US."
   ]
  },
  {
   "cell_type": "code",
   "execution_count": null,
   "metadata": {},
   "outputs": [],
   "source": [
    "world_map_selection[world_map_selection[\"top_ranking_per_1m_pop\"].notnull()][[\"sovereignt\", \"top_ranking_per_1m_pop\"]].sort_values(by=[\"top_ranking_per_1m_pop\"], ascending=False)"
   ]
  },
  {
   "cell_type": "code",
   "execution_count": null,
   "metadata": {},
   "outputs": [],
   "source": [
    "world_map_selection.plot(figsize=(30,30), column=\"top_ranking_per_1m_pop\", scheme=\"NaturalBreaks\", k=5, legend=True, missing_kwds={'color': 'lightgrey', \"label\": \"No top 100 universities\"})"
   ]
  },
  {
   "cell_type": "markdown",
   "metadata": {},
   "source": [
    "### Geographic operations"
   ]
  },
  {
   "cell_type": "code",
   "execution_count": null,
   "metadata": {},
   "outputs": [],
   "source": [
    "pySAL, geopandas spatial join."
   ]
  },
  {
   "cell_type": "markdown",
   "metadata": {},
   "source": [
    "# 5. Geocoding"
   ]
  },
  {
   "cell_type": "markdown",
   "metadata": {},
   "source": [
    "The last thing we want to do today is to *geocode* the locations of all universities in Germany that are included in the ranking. \n",
    "\n",
    "Geocoding describes the process where you transform the textual description of a location (e.g. a postal address) to a geographic object with a defined position on the surface of the Earth. Most of you do it on a daily basis when you use the search function in Google Maps or Apple Maps on your smartphone."
   ]
  },
  {
   "cell_type": "markdown",
   "metadata": {},
   "source": [
    "Let's first extract the German universities and put them into a separat dataframe."
   ]
  },
  {
   "cell_type": "code",
   "execution_count": null,
   "metadata": {},
   "outputs": [],
   "source": [
    "german_universities = ranking[(ranking[\"country\"] == \"Germany\") & (ranking[\"year\"] == 2016)]\n",
    "german_universities.head(5)"
   ]
  },
  {
   "cell_type": "markdown",
   "metadata": {},
   "source": [
    "There is not much location information included. But we can try to geocode the universties using their name (which often includes the city) and the \"country\" column. Let's create a \"search_string\" columns which contains both."
   ]
  },
  {
   "cell_type": "code",
   "execution_count": null,
   "metadata": {},
   "outputs": [],
   "source": [
    "german_universities[\"search_string\"] = german_universities[\"university_name\"] + \" \" + german_universities[\"country\"]\n",
    "german_universities.head(5)"
   ]
  },
  {
   "cell_type": "markdown",
   "metadata": {},
   "source": [
    "For the actual geocoding, we use a Python package called Geocoder. Let's install it using pip:\n",
    "\n",
    "```pip install geocoder```"
   ]
  },
  {
   "cell_type": "markdown",
   "metadata": {},
   "source": [
    "Let's also install contextily which will allow us to plot \"basemaps\" (background maps). Also use pip for that:\n",
    "\n",
    "```pip install contextily```"
   ]
  },
  {
   "cell_type": "markdown",
   "metadata": {},
   "source": [
    "Geocoding with the Geocoder package is super easy. There are several geocoding services you may use. Some of them will be familiar to you. Some require you to create an account before you can use them (you have to pass your login information together with the geocoding request then) and all of them will prevent you from geocoding thousands of observations (for that you usually have to pay).\n",
    "\n",
    "For now we will use the ESRI arcgis geocoder. Check out the different geocoding providers here: https://geocoder.readthedocs.io/\n",
    "\n",
    "We just have to pass a search string to ```geocoder.arcigs()```."
   ]
  },
  {
   "cell_type": "code",
   "execution_count": null,
   "metadata": {},
   "outputs": [],
   "source": [
    "import geocoder\n",
    "\n",
    "geocoding_results = geocoder.arcgis('Darmstadt, Germany')"
   ]
  },
  {
   "cell_type": "markdown",
   "metadata": {},
   "source": [
    "When we have a look at the results, we can see that the geocoding worked (```[OK]```) and \"Darmstadt, Hessen\" has been found as the correct location. "
   ]
  },
  {
   "cell_type": "code",
   "execution_count": null,
   "metadata": {},
   "outputs": [],
   "source": [
    "geocoding_results"
   ]
  },
  {
   "cell_type": "markdown",
   "metadata": {},
   "source": [
    "Actually Geocoder will return us a json file with a lot of information "
   ]
  },
  {
   "cell_type": "code",
   "execution_count": null,
   "metadata": {},
   "outputs": [],
   "source": [
    "geocoding_results.json"
   ]
  },
  {
   "cell_type": "markdown",
   "metadata": {},
   "source": [
    "Compare that to the results of a query for a more specific location."
   ]
  },
  {
   "cell_type": "code",
   "execution_count": null,
   "metadata": {},
   "outputs": [],
   "source": [
    "geocoder.arcgis('Hochschule Darmstadt D-19, Darmstadt, Deutschland').json"
   ]
  },
  {
   "cell_type": "markdown",
   "metadata": {},
   "source": [
    "The information we are actually interested in are **longitute** and **latitude** (```lon``` and ```lat```) which define the postion of our result on the surface of the earth --> \n",
    "https://en.wikipedia.org/wiki/Geographic_coordinate_system\n",
    "\n",
    "We can get that information as a list directly from the geocoding results using the ```latlng``` method."
   ]
  },
  {
   "cell_type": "code",
   "execution_count": null,
   "metadata": {},
   "outputs": [],
   "source": [
    "geocoding_results.latlng"
   ]
  },
  {
   "cell_type": "markdown",
   "metadata": {},
   "source": [
    "So let's create a new column in our German universities dataframe with the lon and lat of the universities by using the ```apply(lambda x:)``` method and passing the \"search_string\" we have created for each university."
   ]
  },
  {
   "cell_type": "code",
   "execution_count": null,
   "metadata": {},
   "outputs": [],
   "source": [
    "german_universities[\"lonlat\"] = german_universities[\"search_string\"].apply(lambda x: geocoder.arcgis(x).latlng)"
   ]
  },
  {
   "cell_type": "markdown",
   "metadata": {},
   "source": [
    "Let's have a look."
   ]
  },
  {
   "cell_type": "code",
   "execution_count": null,
   "metadata": {},
   "outputs": [],
   "source": [
    "german_universities.head(1)"
   ]
  },
  {
   "cell_type": "markdown",
   "metadata": {},
   "source": [
    "Okay, seems like all our universities now have a filled \"lonlat\" column."
   ]
  },
  {
   "cell_type": "code",
   "execution_count": null,
   "metadata": {},
   "outputs": [],
   "source": [
    "german_universities[german_universities[\"lonlat\"].isnull()]"
   ]
  },
  {
   "cell_type": "markdown",
   "metadata": {},
   "source": [
    "Let's split the longitute and latitude information into two separat columns."
   ]
  },
  {
   "cell_type": "code",
   "execution_count": null,
   "metadata": {},
   "outputs": [],
   "source": [
    "german_universities[\"lat\"] = german_universities[\"lonlat\"].apply(lambda x: x[0])\n",
    "german_universities[\"lon\"] = german_universities[\"lonlat\"].apply(lambda x: x[1])"
   ]
  },
  {
   "cell_type": "code",
   "execution_count": null,
   "metadata": {},
   "outputs": [],
   "source": [
    "german_universities.head(2)"
   ]
  },
  {
   "cell_type": "markdown",
   "metadata": {},
   "source": [
    "Now we can use geopandas to transfer our pandas dataframe into a geodataframe by telling it to generate the ```geometry=points_from_xy()``` from the columns that store the longitute and latitute values."
   ]
  },
  {
   "cell_type": "code",
   "execution_count": null,
   "metadata": {},
   "outputs": [],
   "source": [
    "german_universities = gpd.GeoDataFrame(german_universities, geometry=gpd.points_from_xy(german_universities[\"lon\"], german_universities[\"lat\"]))"
   ]
  },
  {
   "cell_type": "code",
   "execution_count": null,
   "metadata": {},
   "outputs": [],
   "source": [
    "german_universities.head(2)"
   ]
  },
  {
   "cell_type": "code",
   "execution_count": null,
   "metadata": {},
   "outputs": [],
   "source": [
    "german_universities.plot()"
   ]
  },
  {
   "cell_type": "markdown",
   "metadata": {},
   "source": [
    "Now we can plot both geodataframes within the same subplot by passing the subplot's axis ```ax=ax``` and by defining the order of the two layers using ```zorder=```. However we already saw above that the shape of Germany is not very nice because we are using a low resolution map which is inteneded for global maps. So first we load a high resolution map of europe..."
   ]
  },
  {
   "cell_type": "code",
   "execution_count": null,
   "metadata": {},
   "outputs": [],
   "source": [
    "europe_map = gpd.read_file(\"../data/europe_map.json\")"
   ]
  },
  {
   "cell_type": "markdown",
   "metadata": {},
   "source": [
    "...and select Germany."
   ]
  },
  {
   "cell_type": "code",
   "execution_count": null,
   "metadata": {},
   "outputs": [],
   "source": [
    "germany = europe_map[europe_map[\"sovereignt\"] == \"Germany\"]\n",
    "germany.plot()"
   ]
  },
  {
   "cell_type": "code",
   "execution_count": null,
   "metadata": {},
   "outputs": [],
   "source": [
    "fig, ax = plt.subplots(1, 1, figsize=(10, 10))\n",
    "\n",
    "germany.boundary.plot(ax=ax, zorder=1, color=\"black\") # using .boundary tells geopandas to only plot the boundary of polygons\n",
    "points = german_universities.plot(ax=ax, zorder=2, column=\"world_rank\", scheme=\"NaturalBreaks\", legend=True, missing_kwds={'color': 'white', \"label\": \"Ranking worse than 200\"})\n",
    "ax.set_axis_off()\n",
    "ax.set_title(\"Ranked Universities in Germany\", fontdict={\"fontsize\":20})\n",
    "\n",
    "# Final adjustments\n",
    "fig.tight_layout() #tidy up the figure \n",
    "plt.savefig(\"ranked_german_universities.png\", dpi=150) #save the figure"
   ]
  },
  {
   "cell_type": "markdown",
   "metadata": {},
   "source": [
    "Let's also load contextily for a nice basemap and define a basemap provider."
   ]
  },
  {
   "cell_type": "code",
   "execution_count": null,
   "metadata": {},
   "outputs": [],
   "source": [
    "import contextily as cx\n",
    "\n",
    "basemap_provider = cx.providers.CartoDB.Voyager"
   ]
  },
  {
   "cell_type": "markdown",
   "metadata": {},
   "source": [
    "Before we can add a basemap to our plot, we have to change the coordinate reference system ```crs``` of our geodata. You can read about that on wikipedia https://en.wikipedia.org/wiki/Geographic_coordinate_system or just think about it as translating both datasets in the same format. "
   ]
  },
  {
   "cell_type": "code",
   "execution_count": null,
   "metadata": {},
   "outputs": [],
   "source": [
    "germany = germany.set_crs(\"EPSG:4326\")\n",
    "germany = germany.to_crs(epsg=3857)\n",
    "\n",
    "german_universities = german_universities.set_crs(\"EPSG:4326\")\n",
    "german_universities = german_universities.to_crs(epsg=3857)"
   ]
  },
  {
   "cell_type": "markdown",
   "metadata": {},
   "source": [
    "Now we can add a basemap using contextily ```add_basemap()```."
   ]
  },
  {
   "cell_type": "code",
   "execution_count": null,
   "metadata": {},
   "outputs": [],
   "source": [
    "fig, ax = plt.subplots(1, 1, figsize=(10, 10))\n",
    "\n",
    "germany.boundary.plot(ax=ax, zorder=1, color=\"black\")\n",
    "points = german_universities.plot(ax=ax, zorder=2, column=\"world_rank\", scheme=\"NaturalBreaks\", legend=True, missing_kwds={'color': 'grey', \"label\": \"Ranking worse than 200\"})\n",
    "cx.add_basemap(ax, zoom=\"auto\", source=basemap_provider)\n",
    "ax.set_axis_off()\n",
    "ax.set_title(\"Ranked Universities in Germany\", fontdict={\"fontsize\":20})\n",
    "\n",
    "# Final adjustments\n",
    "fig.tight_layout() #tidy up the figure \n",
    "plt.savefig(\"ranked_german_universities_basemap.png\", dpi=150) #save the figure"
   ]
  }
 ],
 "metadata": {
  "kernelspec": {
   "display_name": "Python 3",
   "language": "python",
   "name": "python3"
  },
  "language_info": {
   "codemirror_mode": {
    "name": "ipython",
    "version": 3
   },
   "file_extension": ".py",
   "mimetype": "text/x-python",
   "name": "python",
   "nbconvert_exporter": "python",
   "pygments_lexer": "ipython3",
   "version": "3.7.6"
  }
 },
 "nbformat": 4,
 "nbformat_minor": 4
}
